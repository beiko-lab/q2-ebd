{
 "cells": [
  {
   "cell_type": "code",
   "execution_count": 12,
   "metadata": {},
   "outputs": [
    {
     "data": {
      "text/html": [
       "<script>requirejs.config({paths: { 'plotly': ['https://cdn.plot.ly/plotly-latest.min']},});if(!window.Plotly) {{require(['plotly'],function(plotly) {window.Plotly=plotly;});}}</script>"
      ],
      "text/vnd.plotly.v1+html": [
       "<script>requirejs.config({paths: { 'plotly': ['https://cdn.plot.ly/plotly-latest.min']},});if(!window.Plotly) {{require(['plotly'],function(plotly) {window.Plotly=plotly;});}}</script>"
      ]
     },
     "metadata": {},
     "output_type": "display_data"
    }
   ],
   "source": [
    "import zipfile\n",
    "import pandas as pd\n",
    "import numpy as np\n",
    "import io\n",
    "import random\n",
    "import os\n",
    "import scipy as sp\n",
    "from scipy.stats import spearmanr, pearsonr\n",
    "from scipy.cluster.hierarchy import linkage, dendrogram\n",
    "from scipy.spatial.distance import squareform, pdist\n",
    "from itertools import combinations\n",
    "from plotly.offline import init_notebook_mode, iplot\n",
    "import plotly.figure_factory as ff\n",
    "init_notebook_mode(connected=True)"
   ]
  },
  {
   "cell_type": "markdown",
   "metadata": {},
   "source": [
    "This code produces a dendrogram of correlations between randomly sampled beta diversity values. Must be run in a directory containing a .qza DistanceMatrix artifacts, e.g., by running the createEBDMatrices.sh script."
   ]
  },
  {
   "cell_type": "code",
   "execution_count": 16,
   "metadata": {},
   "outputs": [],
   "source": [
    "def plot_dm_dendrogram(filters=[], nreps=2500, height=600, width=800):\n",
    "    arts = []\n",
    "    for filename in os.listdir():\n",
    "        if (\".qza\" not in filename) | (\"pcoa\" in filename) | sum([f in filename for f in filters]):\n",
    "            continue\n",
    "        arts.append(filename)\n",
    "    narts = len(arts)\n",
    "    pairs = []\n",
    "    while len(pairs) < nreps:\n",
    "        x = random.randint(0, narts - 1)\n",
    "        y = random.randint(0, narts - 1)\n",
    "        if x != y:\n",
    "            pairs.append((x,y))\n",
    "\n",
    "    dists = np.empty((narts, nreps))\n",
    "    for i, filename in enumerate(arts):\n",
    "        dm = zipfile.ZipFile(filename)\n",
    "        mat_path = [x for x in dm.namelist() if \"distance-matrix\" in x][0]\n",
    "        mat = dm.read(mat_path)\n",
    "        mat = pd.read_csv(io.StringIO(mat.decode()), sep=\"\\t\", index_col=0)\n",
    "        for j,(x,y) in enumerate(pairs):\n",
    "            dists[i,j] = mat.iloc[x,y]\n",
    "\n",
    "    def pearson_dist(u, v):\n",
    "        dist = pearsonr(u,v)[0]\n",
    "        if not np.isfinite(dist):\n",
    "            dist = 0\n",
    "        return 1 - dist\n",
    "\n",
    "    labels = [x.split(\".\")[0] for x in arts]\n",
    "    dendro = ff.create_dendrogram(dists, distfun = lambda x: pdist(x, pearson_dist), \n",
    "                                  linkagefun = lambda x: linkage(x, 'average'),\n",
    "                                  labels=labels, orientation='right')\n",
    "\n",
    "    dendro['layout'].update({'width':width, 'height':height})\n",
    "    dendro['layout']['margin']['r'] = 250\n",
    "    dendro['layout']['yaxis']['tickvals'] = np.arange(5, dists.shape[0] * 10 + 5, 10)\n",
    "    dendro['layout']['yaxis']['side'] = 'right'\n",
    "    iplot(dendro)"
   ]
  },
  {
   "cell_type": "code",
   "execution_count": 17,
   "metadata": {},
   "outputs": [
    {
     "name": "stderr",
     "output_type": "stream",
     "text": [
      "/home/mwhall/anaconda3/envs/qiime2-2018.4/lib/python3.5/site-packages/scipy/stats/stats.py:3021: RuntimeWarning:\n",
      "\n",
      "invalid value encountered in double_scalars\n",
      "\n"
     ]
    },
    {
     "data": {
      "application/vnd.plotly.v1+json": {
       "data": [
        {
         "hoverinfo": "text",
         "marker": {
          "color": "rgb(61,153,112)"
         },
         "mode": "lines",
         "text": null,
         "type": "scatter",
         "x": [
          0,
          0,
          0,
          0
         ],
         "xaxis": "x",
         "y": [
          45,
          45,
          55,
          55
         ],
         "yaxis": "y"
        },
        {
         "hoverinfo": "text",
         "marker": {
          "color": "rgb(61,153,112)"
         },
         "mode": "lines",
         "text": null,
         "type": "scatter",
         "x": [
          0,
          -0.006369356413815974,
          -0.006369356413815974,
          0
         ],
         "xaxis": "x",
         "y": [
          65,
          65,
          75,
          75
         ],
         "yaxis": "y"
        },
        {
         "hoverinfo": "text",
         "marker": {
          "color": "rgb(61,153,112)"
         },
         "mode": "lines",
         "text": null,
         "type": "scatter",
         "x": [
          0,
          -0.008862234241208466,
          -0.008862234241208466,
          -0.006369356413815974
         ],
         "xaxis": "x",
         "y": [
          50,
          50,
          70,
          70
         ],
         "yaxis": "y"
        },
        {
         "hoverinfo": "text",
         "marker": {
          "color": "rgb(61,153,112)"
         },
         "mode": "lines",
         "text": null,
         "type": "scatter",
         "x": [
          0,
          -0.025639030285103975,
          -0.025639030285103975,
          -0.008862234241208466
         ],
         "xaxis": "x",
         "y": [
          35,
          35,
          60,
          60
         ],
         "yaxis": "y"
        },
        {
         "hoverinfo": "text",
         "marker": {
          "color": "rgb(61,153,112)"
         },
         "mode": "lines",
         "text": null,
         "type": "scatter",
         "x": [
          0,
          -0.20903274803405186,
          -0.20903274803405186,
          -0.025639030285103975
         ],
         "xaxis": "x",
         "y": [
          25,
          25,
          47.5,
          47.5
         ],
         "yaxis": "y"
        },
        {
         "hoverinfo": "text",
         "marker": {
          "color": "rgb(61,153,112)"
         },
         "mode": "lines",
         "text": null,
         "type": "scatter",
         "x": [
          0,
          -0.18936265378106254,
          -0.18936265378106254,
          0
         ],
         "xaxis": "x",
         "y": [
          85,
          85,
          95,
          95
         ],
         "yaxis": "y"
        },
        {
         "hoverinfo": "text",
         "marker": {
          "color": "rgb(61,153,112)"
         },
         "mode": "lines",
         "text": null,
         "type": "scatter",
         "x": [
          0,
          0,
          0,
          0
         ],
         "xaxis": "x",
         "y": [
          155,
          155,
          165,
          165
         ],
         "yaxis": "y"
        },
        {
         "hoverinfo": "text",
         "marker": {
          "color": "rgb(61,153,112)"
         },
         "mode": "lines",
         "text": null,
         "type": "scatter",
         "x": [
          0,
          0,
          0,
          0
         ],
         "xaxis": "x",
         "y": [
          145,
          145,
          160,
          160
         ],
         "yaxis": "y"
        },
        {
         "hoverinfo": "text",
         "marker": {
          "color": "rgb(61,153,112)"
         },
         "mode": "lines",
         "text": null,
         "type": "scatter",
         "x": [
          0,
          0,
          0,
          0
         ],
         "xaxis": "x",
         "y": [
          135,
          135,
          152.5,
          152.5
         ],
         "yaxis": "y"
        },
        {
         "hoverinfo": "text",
         "marker": {
          "color": "rgb(61,153,112)"
         },
         "mode": "lines",
         "text": null,
         "type": "scatter",
         "x": [
          0,
          -1.0141998352253268e-11,
          -1.0141998352253268e-11,
          0
         ],
         "xaxis": "x",
         "y": [
          125,
          125,
          143.75,
          143.75
         ],
         "yaxis": "y"
        },
        {
         "hoverinfo": "text",
         "marker": {
          "color": "rgb(61,153,112)"
         },
         "mode": "lines",
         "text": null,
         "type": "scatter",
         "x": [
          0,
          -0.00019959340574604578,
          -0.00019959340574604578,
          0
         ],
         "xaxis": "x",
         "y": [
          175,
          175,
          185,
          185
         ],
         "yaxis": "y"
        },
        {
         "hoverinfo": "text",
         "marker": {
          "color": "rgb(61,153,112)"
         },
         "mode": "lines",
         "text": null,
         "type": "scatter",
         "x": [
          -1.0141998352253268e-11,
          -0.0034917509191068064,
          -0.0034917509191068064,
          -0.00019959340574604578
         ],
         "xaxis": "x",
         "y": [
          134.375,
          134.375,
          180,
          180
         ],
         "yaxis": "y"
        },
        {
         "hoverinfo": "text",
         "marker": {
          "color": "rgb(61,153,112)"
         },
         "mode": "lines",
         "text": null,
         "type": "scatter",
         "x": [
          0,
          -0.015880139561307675,
          -0.015880139561307675,
          -0.0034917509191068064
         ],
         "xaxis": "x",
         "y": [
          115,
          115,
          157.1875,
          157.1875
         ],
         "yaxis": "y"
        },
        {
         "hoverinfo": "text",
         "marker": {
          "color": "rgb(61,153,112)"
         },
         "mode": "lines",
         "text": null,
         "type": "scatter",
         "x": [
          0,
          -0.07133356601659303,
          -0.07133356601659303,
          -0.015880139561307675
         ],
         "xaxis": "x",
         "y": [
          105,
          105,
          136.09375,
          136.09375
         ],
         "yaxis": "y"
        },
        {
         "hoverinfo": "text",
         "marker": {
          "color": "rgb(61,153,112)"
         },
         "mode": "lines",
         "text": null,
         "type": "scatter",
         "x": [
          0,
          -0.004346414470735027,
          -0.004346414470735027,
          0
         ],
         "xaxis": "x",
         "y": [
          215,
          215,
          225,
          225
         ],
         "yaxis": "y"
        },
        {
         "hoverinfo": "text",
         "marker": {
          "color": "rgb(61,153,112)"
         },
         "mode": "lines",
         "text": null,
         "type": "scatter",
         "x": [
          0,
          -0.006811949511089377,
          -0.006811949511089377,
          -0.004346414470735027
         ],
         "xaxis": "x",
         "y": [
          205,
          205,
          220,
          220
         ],
         "yaxis": "y"
        },
        {
         "hoverinfo": "text",
         "marker": {
          "color": "rgb(61,153,112)"
         },
         "mode": "lines",
         "text": null,
         "type": "scatter",
         "x": [
          0,
          -0.02041952740727389,
          -0.02041952740727389,
          -0.006811949511089377
         ],
         "xaxis": "x",
         "y": [
          195,
          195,
          212.5,
          212.5
         ],
         "yaxis": "y"
        },
        {
         "hoverinfo": "text",
         "marker": {
          "color": "rgb(61,153,112)"
         },
         "mode": "lines",
         "text": null,
         "type": "scatter",
         "x": [
          0,
          -0.0015564622868462497,
          -0.0015564622868462497,
          0
         ],
         "xaxis": "x",
         "y": [
          235,
          235,
          245,
          245
         ],
         "yaxis": "y"
        },
        {
         "hoverinfo": "text",
         "marker": {
          "color": "rgb(61,153,112)"
         },
         "mode": "lines",
         "text": null,
         "type": "scatter",
         "x": [
          0,
          0,
          0,
          0
         ],
         "xaxis": "x",
         "y": [
          295,
          295,
          305,
          305
         ],
         "yaxis": "y"
        },
        {
         "hoverinfo": "text",
         "marker": {
          "color": "rgb(61,153,112)"
         },
         "mode": "lines",
         "text": null,
         "type": "scatter",
         "x": [
          0,
          0,
          0,
          0
         ],
         "xaxis": "x",
         "y": [
          285,
          285,
          300,
          300
         ],
         "yaxis": "y"
        },
        {
         "hoverinfo": "text",
         "marker": {
          "color": "rgb(61,153,112)"
         },
         "mode": "lines",
         "text": null,
         "type": "scatter",
         "x": [
          0,
          0,
          0,
          0
         ],
         "xaxis": "x",
         "y": [
          275,
          275,
          292.5,
          292.5
         ],
         "yaxis": "y"
        },
        {
         "hoverinfo": "text",
         "marker": {
          "color": "rgb(61,153,112)"
         },
         "mode": "lines",
         "text": null,
         "type": "scatter",
         "x": [
          0,
          -5.611400233362929e-12,
          -5.611400233362929e-12,
          0
         ],
         "xaxis": "x",
         "y": [
          265,
          265,
          283.75,
          283.75
         ],
         "yaxis": "y"
        },
        {
         "hoverinfo": "text",
         "marker": {
          "color": "rgb(61,153,112)"
         },
         "mode": "lines",
         "text": null,
         "type": "scatter",
         "x": [
          0,
          -0.013260611393331434,
          -0.013260611393331434,
          -5.611400233362929e-12
         ],
         "xaxis": "x",
         "y": [
          255,
          255,
          274.375,
          274.375
         ],
         "yaxis": "y"
        },
        {
         "hoverinfo": "text",
         "marker": {
          "color": "rgb(61,153,112)"
         },
         "mode": "lines",
         "text": null,
         "type": "scatter",
         "x": [
          -0.0015564622868462497,
          -0.03601384913763802,
          -0.03601384913763802,
          -0.013260611393331434
         ],
         "xaxis": "x",
         "y": [
          240,
          240,
          264.6875,
          264.6875
         ],
         "yaxis": "y"
        },
        {
         "hoverinfo": "text",
         "marker": {
          "color": "rgb(61,153,112)"
         },
         "mode": "lines",
         "text": null,
         "type": "scatter",
         "x": [
          -0.02041952740727389,
          -0.10018970638285599,
          -0.10018970638285599,
          -0.03601384913763802
         ],
         "xaxis": "x",
         "y": [
          203.75,
          203.75,
          252.34375,
          252.34375
         ],
         "yaxis": "y"
        },
        {
         "hoverinfo": "text",
         "marker": {
          "color": "rgb(61,153,112)"
         },
         "mode": "lines",
         "text": null,
         "type": "scatter",
         "x": [
          -0.07133356601659303,
          -0.2361835427033199,
          -0.2361835427033199,
          -0.10018970638285599
         ],
         "xaxis": "x",
         "y": [
          120.546875,
          120.546875,
          228.046875,
          228.046875
         ],
         "yaxis": "y"
        },
        {
         "hoverinfo": "text",
         "marker": {
          "color": "rgb(61,153,112)"
         },
         "mode": "lines",
         "text": null,
         "type": "scatter",
         "x": [
          -0.18936265378106254,
          -0.3319919196961644,
          -0.3319919196961644,
          -0.2361835427033199
         ],
         "xaxis": "x",
         "y": [
          90,
          90,
          174.296875,
          174.296875
         ],
         "yaxis": "y"
        },
        {
         "hoverinfo": "text",
         "marker": {
          "color": "rgb(61,153,112)"
         },
         "mode": "lines",
         "text": null,
         "type": "scatter",
         "x": [
          -0.20903274803405186,
          -0.3979795079778254,
          -0.3979795079778254,
          -0.3319919196961644
         ],
         "xaxis": "x",
         "y": [
          36.25,
          36.25,
          132.1484375,
          132.1484375
         ],
         "yaxis": "y"
        },
        {
         "hoverinfo": "text",
         "marker": {
          "color": "rgb(61,153,112)"
         },
         "mode": "lines",
         "text": null,
         "type": "scatter",
         "x": [
          0,
          -0.46115127569827974,
          -0.46115127569827974,
          0
         ],
         "xaxis": "x",
         "y": [
          315,
          315,
          325,
          325
         ],
         "yaxis": "y"
        },
        {
         "hoverinfo": "text",
         "marker": {
          "color": "rgb(61,153,112)"
         },
         "mode": "lines",
         "text": null,
         "type": "scatter",
         "x": [
          -0.3979795079778254,
          -0.5901352100995161,
          -0.5901352100995161,
          -0.46115127569827974
         ],
         "xaxis": "x",
         "y": [
          84.19921875,
          84.19921875,
          320,
          320
         ],
         "yaxis": "y"
        },
        {
         "hoverinfo": "text",
         "marker": {
          "color": "rgb(255,65,54)"
         },
         "mode": "lines",
         "text": null,
         "type": "scatter",
         "x": [
          0,
          -0.15630396205012054,
          -0.15630396205012054,
          0
         ],
         "xaxis": "x",
         "y": [
          345,
          345,
          355,
          355
         ],
         "yaxis": "y"
        },
        {
         "hoverinfo": "text",
         "marker": {
          "color": "rgb(255,65,54)"
         },
         "mode": "lines",
         "text": null,
         "type": "scatter",
         "x": [
          0,
          0,
          0,
          0
         ],
         "xaxis": "x",
         "y": [
          385,
          385,
          395,
          395
         ],
         "yaxis": "y"
        },
        {
         "hoverinfo": "text",
         "marker": {
          "color": "rgb(255,65,54)"
         },
         "mode": "lines",
         "text": null,
         "type": "scatter",
         "x": [
          0,
          -0.004970333410985517,
          -0.004970333410985517,
          0
         ],
         "xaxis": "x",
         "y": [
          375,
          375,
          390,
          390
         ],
         "yaxis": "y"
        },
        {
         "hoverinfo": "text",
         "marker": {
          "color": "rgb(255,65,54)"
         },
         "mode": "lines",
         "text": null,
         "type": "scatter",
         "x": [
          0,
          -0.011841984257058069,
          -0.011841984257058069,
          -0.004970333410985517
         ],
         "xaxis": "x",
         "y": [
          365,
          365,
          382.5,
          382.5
         ],
         "yaxis": "y"
        },
        {
         "hoverinfo": "text",
         "marker": {
          "color": "rgb(255,65,54)"
         },
         "mode": "lines",
         "text": null,
         "type": "scatter",
         "x": [
          0,
          0,
          0,
          0
         ],
         "xaxis": "x",
         "y": [
          465,
          465,
          475,
          475
         ],
         "yaxis": "y"
        },
        {
         "hoverinfo": "text",
         "marker": {
          "color": "rgb(255,65,54)"
         },
         "mode": "lines",
         "text": null,
         "type": "scatter",
         "x": [
          0,
          0,
          0,
          0
         ],
         "xaxis": "x",
         "y": [
          455,
          455,
          470,
          470
         ],
         "yaxis": "y"
        },
        {
         "hoverinfo": "text",
         "marker": {
          "color": "rgb(255,65,54)"
         },
         "mode": "lines",
         "text": null,
         "type": "scatter",
         "x": [
          0,
          0,
          0,
          0
         ],
         "xaxis": "x",
         "y": [
          445,
          445,
          462.5,
          462.5
         ],
         "yaxis": "y"
        },
        {
         "hoverinfo": "text",
         "marker": {
          "color": "rgb(255,65,54)"
         },
         "mode": "lines",
         "text": null,
         "type": "scatter",
         "x": [
          0,
          -5.150102566631176e-12,
          -5.150102566631176e-12,
          0
         ],
         "xaxis": "x",
         "y": [
          435,
          435,
          453.75,
          453.75
         ],
         "yaxis": "y"
        },
        {
         "hoverinfo": "text",
         "marker": {
          "color": "rgb(255,65,54)"
         },
         "mode": "lines",
         "text": null,
         "type": "scatter",
         "x": [
          0,
          -8.30207014246298e-12,
          -8.30207014246298e-12,
          -5.150102566631176e-12
         ],
         "xaxis": "x",
         "y": [
          425,
          425,
          444.375,
          444.375
         ],
         "yaxis": "y"
        },
        {
         "hoverinfo": "text",
         "marker": {
          "color": "rgb(255,65,54)"
         },
         "mode": "lines",
         "text": null,
         "type": "scatter",
         "x": [
          0,
          -0.005511568926860759,
          -0.005511568926860759,
          -8.30207014246298e-12
         ],
         "xaxis": "x",
         "y": [
          415,
          415,
          434.6875,
          434.6875
         ],
         "yaxis": "y"
        },
        {
         "hoverinfo": "text",
         "marker": {
          "color": "rgb(255,65,54)"
         },
         "mode": "lines",
         "text": null,
         "type": "scatter",
         "x": [
          0,
          -0.019622814003134544,
          -0.019622814003134544,
          -0.005511568926860759
         ],
         "xaxis": "x",
         "y": [
          405,
          405,
          424.84375,
          424.84375
         ],
         "yaxis": "y"
        },
        {
         "hoverinfo": "text",
         "marker": {
          "color": "rgb(255,65,54)"
         },
         "mode": "lines",
         "text": null,
         "type": "scatter",
         "x": [
          -0.011841984257058069,
          -0.06851099567027999,
          -0.06851099567027999,
          -0.019622814003134544
         ],
         "xaxis": "x",
         "y": [
          373.75,
          373.75,
          414.921875,
          414.921875
         ],
         "yaxis": "y"
        },
        {
         "hoverinfo": "text",
         "marker": {
          "color": "rgb(255,65,54)"
         },
         "mode": "lines",
         "text": null,
         "type": "scatter",
         "x": [
          0,
          -0.00033525928300626173,
          -0.00033525928300626173,
          0
         ],
         "xaxis": "x",
         "y": [
          525,
          525,
          535,
          535
         ],
         "yaxis": "y"
        },
        {
         "hoverinfo": "text",
         "marker": {
          "color": "rgb(255,65,54)"
         },
         "mode": "lines",
         "text": null,
         "type": "scatter",
         "x": [
          0,
          -0.000498034845127282,
          -0.000498034845127282,
          -0.00033525928300626173
         ],
         "xaxis": "x",
         "y": [
          515,
          515,
          530,
          530
         ],
         "yaxis": "y"
        },
        {
         "hoverinfo": "text",
         "marker": {
          "color": "rgb(255,65,54)"
         },
         "mode": "lines",
         "text": null,
         "type": "scatter",
         "x": [
          0,
          -0.0020752862433878936,
          -0.0020752862433878936,
          -0.000498034845127282
         ],
         "xaxis": "x",
         "y": [
          505,
          505,
          522.5,
          522.5
         ],
         "yaxis": "y"
        },
        {
         "hoverinfo": "text",
         "marker": {
          "color": "rgb(255,65,54)"
         },
         "mode": "lines",
         "text": null,
         "type": "scatter",
         "x": [
          0,
          -0.009821905417584015,
          -0.009821905417584015,
          -0.0020752862433878936
         ],
         "xaxis": "x",
         "y": [
          495,
          495,
          513.75,
          513.75
         ],
         "yaxis": "y"
        },
        {
         "hoverinfo": "text",
         "marker": {
          "color": "rgb(255,65,54)"
         },
         "mode": "lines",
         "text": null,
         "type": "scatter",
         "x": [
          0,
          -0.014713568145853406,
          -0.014713568145853406,
          -0.009821905417584015
         ],
         "xaxis": "x",
         "y": [
          485,
          485,
          504.375,
          504.375
         ],
         "yaxis": "y"
        },
        {
         "hoverinfo": "text",
         "marker": {
          "color": "rgb(255,65,54)"
         },
         "mode": "lines",
         "text": null,
         "type": "scatter",
         "x": [
          0,
          -5.436984196194317e-12,
          -5.436984196194317e-12,
          0
         ],
         "xaxis": "x",
         "y": [
          575,
          575,
          585,
          585
         ],
         "yaxis": "y"
        },
        {
         "hoverinfo": "text",
         "marker": {
          "color": "rgb(255,65,54)"
         },
         "mode": "lines",
         "text": null,
         "type": "scatter",
         "x": [
          0,
          -1.1150913525881379e-11,
          -1.1150913525881379e-11,
          -5.436984196194317e-12
         ],
         "xaxis": "x",
         "y": [
          565,
          565,
          580,
          580
         ],
         "yaxis": "y"
        },
        {
         "hoverinfo": "text",
         "marker": {
          "color": "rgb(255,65,54)"
         },
         "mode": "lines",
         "text": null,
         "type": "scatter",
         "x": [
          0,
          -1.2872665896187149e-11,
          -1.2872665896187149e-11,
          -1.1150913525881379e-11
         ],
         "xaxis": "x",
         "y": [
          555,
          555,
          572.5,
          572.5
         ],
         "yaxis": "y"
        },
        {
         "hoverinfo": "text",
         "marker": {
          "color": "rgb(255,65,54)"
         },
         "mode": "lines",
         "text": null,
         "type": "scatter",
         "x": [
          0,
          0,
          0,
          0
         ],
         "xaxis": "x",
         "y": [
          615,
          615,
          625,
          625
         ],
         "yaxis": "y"
        },
        {
         "hoverinfo": "text",
         "marker": {
          "color": "rgb(255,65,54)"
         },
         "mode": "lines",
         "text": null,
         "type": "scatter",
         "x": [
          0,
          -8.398776400053709e-05,
          -8.398776400053709e-05,
          0
         ],
         "xaxis": "x",
         "y": [
          605,
          605,
          620,
          620
         ],
         "yaxis": "y"
        },
        {
         "hoverinfo": "text",
         "marker": {
          "color": "rgb(255,65,54)"
         },
         "mode": "lines",
         "text": null,
         "type": "scatter",
         "x": [
          0,
          -0.0002802734283333293,
          -0.0002802734283333293,
          -8.398776400053709e-05
         ],
         "xaxis": "x",
         "y": [
          595,
          595,
          612.5,
          612.5
         ],
         "yaxis": "y"
        },
        {
         "hoverinfo": "text",
         "marker": {
          "color": "rgb(255,65,54)"
         },
         "mode": "lines",
         "text": null,
         "type": "scatter",
         "x": [
          -1.2872665896187149e-11,
          -0.0005987837223618703,
          -0.0005987837223618703,
          -0.0002802734283333293
         ],
         "xaxis": "x",
         "y": [
          563.75,
          563.75,
          603.75,
          603.75
         ],
         "yaxis": "y"
        },
        {
         "hoverinfo": "text",
         "marker": {
          "color": "rgb(255,65,54)"
         },
         "mode": "lines",
         "text": null,
         "type": "scatter",
         "x": [
          0,
          -0.03503156837588034,
          -0.03503156837588034,
          -0.0005987837223618703
         ],
         "xaxis": "x",
         "y": [
          545,
          545,
          583.75,
          583.75
         ],
         "yaxis": "y"
        },
        {
         "hoverinfo": "text",
         "marker": {
          "color": "rgb(255,65,54)"
         },
         "mode": "lines",
         "text": null,
         "type": "scatter",
         "x": [
          -0.014713568145853406,
          -0.0914641963896402,
          -0.0914641963896402,
          -0.03503156837588034
         ],
         "xaxis": "x",
         "y": [
          494.6875,
          494.6875,
          564.375,
          564.375
         ],
         "yaxis": "y"
        },
        {
         "hoverinfo": "text",
         "marker": {
          "color": "rgb(255,65,54)"
         },
         "mode": "lines",
         "text": null,
         "type": "scatter",
         "x": [
          -0.06851099567027999,
          -0.13502441807043422,
          -0.13502441807043422,
          -0.0914641963896402
         ],
         "xaxis": "x",
         "y": [
          394.3359375,
          394.3359375,
          529.53125,
          529.53125
         ],
         "yaxis": "y"
        },
        {
         "hoverinfo": "text",
         "marker": {
          "color": "rgb(255,65,54)"
         },
         "mode": "lines",
         "text": null,
         "type": "scatter",
         "x": [
          0,
          -0.20446117971748357,
          -0.20446117971748357,
          0
         ],
         "xaxis": "x",
         "y": [
          635,
          635,
          645,
          645
         ],
         "yaxis": "y"
        },
        {
         "hoverinfo": "text",
         "marker": {
          "color": "rgb(255,65,54)"
         },
         "mode": "lines",
         "text": null,
         "type": "scatter",
         "x": [
          -0.13502441807043422,
          -0.23796236121774456,
          -0.23796236121774456,
          -0.20446117971748357
         ],
         "xaxis": "x",
         "y": [
          461.93359375,
          461.93359375,
          640,
          640
         ],
         "yaxis": "y"
        },
        {
         "hoverinfo": "text",
         "marker": {
          "color": "rgb(255,65,54)"
         },
         "mode": "lines",
         "text": null,
         "type": "scatter",
         "x": [
          -0.15630396205012054,
          -0.3331034891462178,
          -0.3331034891462178,
          -0.23796236121774456
         ],
         "xaxis": "x",
         "y": [
          350,
          350,
          550.966796875,
          550.966796875
         ],
         "yaxis": "y"
        },
        {
         "hoverinfo": "text",
         "marker": {
          "color": "rgb(255,65,54)"
         },
         "mode": "lines",
         "text": null,
         "type": "scatter",
         "x": [
          0,
          -0.5190401903519114,
          -0.5190401903519114,
          0
         ],
         "xaxis": "x",
         "y": [
          655,
          655,
          665,
          665
         ],
         "yaxis": "y"
        },
        {
         "hoverinfo": "text",
         "marker": {
          "color": "rgb(255,65,54)"
         },
         "mode": "lines",
         "text": null,
         "type": "scatter",
         "x": [
          -0.3331034891462178,
          -0.6437053825947749,
          -0.6437053825947749,
          -0.5190401903519114
         ],
         "xaxis": "x",
         "y": [
          450.4833984375,
          450.4833984375,
          660,
          660
         ],
         "yaxis": "y"
        },
        {
         "hoverinfo": "text",
         "marker": {
          "color": "rgb(255,65,54)"
         },
         "mode": "lines",
         "text": null,
         "type": "scatter",
         "x": [
          0,
          -0.6889312301207595,
          -0.6889312301207595,
          -0.6437053825947749
         ],
         "xaxis": "x",
         "y": [
          335,
          335,
          555.24169921875,
          555.24169921875
         ],
         "yaxis": "y"
        },
        {
         "hoverinfo": "text",
         "marker": {
          "color": "rgb(0,116,217)"
         },
         "mode": "lines",
         "text": null,
         "type": "scatter",
         "x": [
          -0.5901352100995161,
          -0.813905850607805,
          -0.813905850607805,
          -0.6889312301207595
         ],
         "xaxis": "x",
         "y": [
          202.099609375,
          202.099609375,
          445.120849609375,
          445.120849609375
         ],
         "yaxis": "y"
        },
        {
         "hoverinfo": "text",
         "marker": {
          "color": "rgb(0,116,217)"
         },
         "mode": "lines",
         "text": null,
         "type": "scatter",
         "x": [
          0,
          -0.9644662569692346,
          -0.9644662569692346,
          -0.813905850607805
         ],
         "xaxis": "x",
         "y": [
          15,
          15,
          323.6102294921875,
          323.6102294921875
         ],
         "yaxis": "y"
        },
        {
         "hoverinfo": "text",
         "marker": {
          "color": "rgb(0,116,217)"
         },
         "mode": "lines",
         "text": null,
         "type": "scatter",
         "x": [
          0,
          -1,
          -1,
          -0.9644662569692346
         ],
         "xaxis": "x",
         "y": [
          5,
          5,
          169.30511474609375,
          169.30511474609375
         ],
         "yaxis": "y"
        }
       ],
       "layout": {
        "autosize": false,
        "height": 800,
        "hovermode": "closest",
        "margin": {
         "r": 250
        },
        "showlegend": false,
        "width": 800,
        "xaxis": {
         "mirror": "allticks",
         "rangemode": "tozero",
         "showgrid": false,
         "showline": true,
         "showticklabels": true,
         "ticks": "outside",
         "type": "linear",
         "zeroline": false
        },
        "yaxis": {
         "mirror": "allticks",
         "rangemode": "tozero",
         "showgrid": false,
         "showline": true,
         "showticklabels": true,
         "side": "right",
         "tickmode": "array",
         "ticks": "outside",
         "ticktext": [
          "raohp_nonphylogenetic_weighted",
          "mpd_phylogenetic_unweighted",
          "lennon_nonphylogenetic_unweighted",
          "kulczynski_nonphylogenetic_unweighted",
          "pearson_nonphylogenetic_unweighted",
          "weighted_corr_nonphylogenetic_unweighted",
          "braycurtis_nonphylogenetic_unweighted",
          "soergel_nonphylogenetic_unweighted",
          "pearson_phylogenetic_unweighted",
          "gower_phylogenetic_weighted",
          "gower_nonphylogenetic_weighted",
          "euclidean_nonphylogenetic_unweighted",
          "tamas_coeff_nonphylogenetic_unweighted",
          "gower_nonphylogenetic_unweighted",
          "canberra_nonphylogenetic_unweighted",
          "manhattan_nonphylogenetic_unweighted",
          "coeff_similarity_nonphylogenetic_unweighted",
          "coeff_similarity_nonphylogenetic_weighted",
          "canberra_nonphylogenetic_weighted",
          "kulczynski_phylogenetic_unweighted",
          "weighted_corr_phylogenetic_unweighted",
          "soergel_phylogenetic_unweighted",
          "braycurtis_phylogenetic_unweighted",
          "canberra_phylogenetic_weighted",
          "coeff_similarity_phylogenetic_weighted",
          "euclidean_phylogenetic_unweighted",
          "tamas_coeff_phylogenetic_unweighted",
          "gower_phylogenetic_unweighted",
          "coeff_similarity_phylogenetic_unweighted",
          "canberra_phylogenetic_unweighted",
          "manhattan_phylogenetic_unweighted",
          "lennon_phylogenetic_unweighted",
          "mnnd_phylogenetic_unweighted",
          "mpd_phylogenetic_weighted",
          "hellinger_nonphylogenetic_weighted",
          "chi_squared_nonphylogenetic_weighted",
          "yue_clayton_nonphylogenetic_weighted",
          "morisita_horn_nonphylogenetic_weighted",
          "weighted_corr_nonphylogenetic_weighted",
          "pearson_nonphylogenetic_weighted",
          "euclidean_nonphylogenetic_weighted",
          "soergel_nonphylogenetic_weighted",
          "tamas_coeff_nonphylogenetic_weighted",
          "manhattan_nonphylogenetic_weighted",
          "braycurtis_nonphylogenetic_weighted",
          "kulczynski_nonphylogenetic_weighted",
          "lennon_nonphylogenetic_weighted",
          "whittaker_nonphylogenetic_weighted",
          "p_st_phylogenetic_weighted",
          "pearson_phylogenetic_weighted",
          "morisita_horn_phylogenetic_weighted",
          "raohp_phylogenetic_weighted",
          "weighted_corr_phylogenetic_weighted",
          "yue_clayton_phylogenetic_weighted",
          "euclidean_phylogenetic_weighted",
          "manhattan_phylogenetic_weighted",
          "complete_tree_phylogenetic_weighted",
          "whittaker_phylogenetic_weighted",
          "tamas_coeff_phylogenetic_weighted",
          "soergel_phylogenetic_weighted",
          "kulczynski_phylogenetic_weighted",
          "braycurtis_phylogenetic_weighted",
          "normalized_weighted_unifrac_phylogenetic_weighted",
          "lennon_phylogenetic_weighted",
          "hellinger_phylogenetic_weighted",
          "chi_squared_phylogenetic_weighted",
          "mnnd_phylogenetic_weighted"
         ],
         "tickvals": [
          5,
          15,
          25,
          35,
          45,
          55,
          65,
          75,
          85,
          95,
          105,
          115,
          125,
          135,
          145,
          155,
          165,
          175,
          185,
          195,
          205,
          215,
          225,
          235,
          245,
          255,
          265,
          275,
          285,
          295,
          305,
          315,
          325,
          335,
          345,
          355,
          365,
          375,
          385,
          395,
          405,
          415,
          425,
          435,
          445,
          455,
          465,
          475,
          485,
          495,
          505,
          515,
          525,
          535,
          545,
          555,
          565,
          575,
          585,
          595,
          605,
          615,
          625,
          635,
          645,
          655,
          665
         ],
         "type": "linear",
         "zeroline": false
        }
       }
      },
      "text/html": [
       "<div id=\"22df4d79-a3c4-4670-bf2c-90d2f93d0f0e\" style=\"height: 800px; width: 800px;\" class=\"plotly-graph-div\"></div><script type=\"text/javascript\">require([\"plotly\"], function(Plotly) { window.PLOTLYENV=window.PLOTLYENV || {};window.PLOTLYENV.BASE_URL=\"https://plot.ly\";Plotly.newPlot(\"22df4d79-a3c4-4670-bf2c-90d2f93d0f0e\", [{\"yaxis\": \"y\", \"y\": [45.0, 45.0, 55.0, 55.0], \"xaxis\": \"x\", \"marker\": {\"color\": \"rgb(61,153,112)\"}, \"mode\": \"lines\", \"x\": [-0.0, -0.0, -0.0, -0.0], \"text\": null, \"type\": \"scatter\", \"hoverinfo\": \"text\"}, {\"yaxis\": \"y\", \"y\": [65.0, 65.0, 75.0, 75.0], \"xaxis\": \"x\", \"marker\": {\"color\": \"rgb(61,153,112)\"}, \"mode\": \"lines\", \"x\": [-0.0, -0.006369356413815974, -0.006369356413815974, -0.0], \"text\": null, \"type\": \"scatter\", \"hoverinfo\": \"text\"}, {\"yaxis\": \"y\", \"y\": [50.0, 50.0, 70.0, 70.0], \"xaxis\": \"x\", \"marker\": {\"color\": \"rgb(61,153,112)\"}, \"mode\": \"lines\", \"x\": [-0.0, -0.008862234241208466, -0.008862234241208466, -0.006369356413815974], \"text\": null, \"type\": \"scatter\", \"hoverinfo\": \"text\"}, {\"yaxis\": \"y\", \"y\": [35.0, 35.0, 60.0, 60.0], \"xaxis\": \"x\", \"marker\": {\"color\": \"rgb(61,153,112)\"}, \"mode\": \"lines\", \"x\": [-0.0, -0.025639030285103975, -0.025639030285103975, -0.008862234241208466], \"text\": null, \"type\": \"scatter\", \"hoverinfo\": \"text\"}, {\"yaxis\": \"y\", \"y\": [25.0, 25.0, 47.5, 47.5], \"xaxis\": \"x\", \"marker\": {\"color\": \"rgb(61,153,112)\"}, \"mode\": \"lines\", \"x\": [-0.0, -0.20903274803405186, -0.20903274803405186, -0.025639030285103975], \"text\": null, \"type\": \"scatter\", \"hoverinfo\": \"text\"}, {\"yaxis\": \"y\", \"y\": [85.0, 85.0, 95.0, 95.0], \"xaxis\": \"x\", \"marker\": {\"color\": \"rgb(61,153,112)\"}, \"mode\": \"lines\", \"x\": [-0.0, -0.18936265378106254, -0.18936265378106254, -0.0], \"text\": null, \"type\": \"scatter\", \"hoverinfo\": \"text\"}, {\"yaxis\": \"y\", \"y\": [155.0, 155.0, 165.0, 165.0], \"xaxis\": \"x\", \"marker\": {\"color\": \"rgb(61,153,112)\"}, \"mode\": \"lines\", \"x\": [-0.0, -0.0, -0.0, -0.0], \"text\": null, \"type\": \"scatter\", \"hoverinfo\": \"text\"}, {\"yaxis\": \"y\", \"y\": [145.0, 145.0, 160.0, 160.0], \"xaxis\": \"x\", \"marker\": {\"color\": \"rgb(61,153,112)\"}, \"mode\": \"lines\", \"x\": [-0.0, -0.0, -0.0, -0.0], \"text\": null, \"type\": \"scatter\", \"hoverinfo\": \"text\"}, {\"yaxis\": \"y\", \"y\": [135.0, 135.0, 152.5, 152.5], \"xaxis\": \"x\", \"marker\": {\"color\": \"rgb(61,153,112)\"}, \"mode\": \"lines\", \"x\": [-0.0, -0.0, -0.0, -0.0], \"text\": null, \"type\": \"scatter\", \"hoverinfo\": \"text\"}, {\"yaxis\": \"y\", \"y\": [125.0, 125.0, 143.75, 143.75], \"xaxis\": \"x\", \"marker\": {\"color\": \"rgb(61,153,112)\"}, \"mode\": \"lines\", \"x\": [-0.0, -1.0141998352253268e-11, -1.0141998352253268e-11, -0.0], \"text\": null, \"type\": \"scatter\", \"hoverinfo\": \"text\"}, {\"yaxis\": \"y\", \"y\": [175.0, 175.0, 185.0, 185.0], \"xaxis\": \"x\", \"marker\": {\"color\": \"rgb(61,153,112)\"}, \"mode\": \"lines\", \"x\": [-0.0, -0.00019959340574604578, -0.00019959340574604578, -0.0], \"text\": null, \"type\": \"scatter\", \"hoverinfo\": \"text\"}, {\"yaxis\": \"y\", \"y\": [134.375, 134.375, 180.0, 180.0], \"xaxis\": \"x\", \"marker\": {\"color\": \"rgb(61,153,112)\"}, \"mode\": \"lines\", \"x\": [-1.0141998352253268e-11, -0.0034917509191068064, -0.0034917509191068064, -0.00019959340574604578], \"text\": null, \"type\": \"scatter\", \"hoverinfo\": \"text\"}, {\"yaxis\": \"y\", \"y\": [115.0, 115.0, 157.1875, 157.1875], \"xaxis\": \"x\", \"marker\": {\"color\": \"rgb(61,153,112)\"}, \"mode\": \"lines\", \"x\": [-0.0, -0.015880139561307675, -0.015880139561307675, -0.0034917509191068064], \"text\": null, \"type\": \"scatter\", \"hoverinfo\": \"text\"}, {\"yaxis\": \"y\", \"y\": [105.0, 105.0, 136.09375, 136.09375], \"xaxis\": \"x\", \"marker\": {\"color\": \"rgb(61,153,112)\"}, \"mode\": \"lines\", \"x\": [-0.0, -0.07133356601659303, -0.07133356601659303, -0.015880139561307675], \"text\": null, \"type\": \"scatter\", \"hoverinfo\": \"text\"}, {\"yaxis\": \"y\", \"y\": [215.0, 215.0, 225.0, 225.0], \"xaxis\": \"x\", \"marker\": {\"color\": \"rgb(61,153,112)\"}, \"mode\": \"lines\", \"x\": [-0.0, -0.004346414470735027, -0.004346414470735027, -0.0], \"text\": null, \"type\": \"scatter\", \"hoverinfo\": \"text\"}, {\"yaxis\": \"y\", \"y\": [205.0, 205.0, 220.0, 220.0], \"xaxis\": \"x\", \"marker\": {\"color\": \"rgb(61,153,112)\"}, \"mode\": \"lines\", \"x\": [-0.0, -0.006811949511089377, -0.006811949511089377, -0.004346414470735027], \"text\": null, \"type\": \"scatter\", \"hoverinfo\": \"text\"}, {\"yaxis\": \"y\", \"y\": [195.0, 195.0, 212.5, 212.5], \"xaxis\": \"x\", \"marker\": {\"color\": \"rgb(61,153,112)\"}, \"mode\": \"lines\", \"x\": [-0.0, -0.02041952740727389, -0.02041952740727389, -0.006811949511089377], \"text\": null, \"type\": \"scatter\", \"hoverinfo\": \"text\"}, {\"yaxis\": \"y\", \"y\": [235.0, 235.0, 245.0, 245.0], \"xaxis\": \"x\", \"marker\": {\"color\": \"rgb(61,153,112)\"}, \"mode\": \"lines\", \"x\": [-0.0, -0.0015564622868462497, -0.0015564622868462497, -0.0], \"text\": null, \"type\": \"scatter\", \"hoverinfo\": \"text\"}, {\"yaxis\": \"y\", \"y\": [295.0, 295.0, 305.0, 305.0], \"xaxis\": \"x\", \"marker\": {\"color\": \"rgb(61,153,112)\"}, \"mode\": \"lines\", \"x\": [-0.0, -0.0, -0.0, -0.0], \"text\": null, \"type\": \"scatter\", \"hoverinfo\": \"text\"}, {\"yaxis\": \"y\", \"y\": [285.0, 285.0, 300.0, 300.0], \"xaxis\": \"x\", \"marker\": {\"color\": \"rgb(61,153,112)\"}, \"mode\": \"lines\", \"x\": [-0.0, -0.0, -0.0, -0.0], \"text\": null, \"type\": \"scatter\", \"hoverinfo\": \"text\"}, {\"yaxis\": \"y\", \"y\": [275.0, 275.0, 292.5, 292.5], \"xaxis\": \"x\", \"marker\": {\"color\": \"rgb(61,153,112)\"}, \"mode\": \"lines\", \"x\": [-0.0, -0.0, -0.0, -0.0], \"text\": null, \"type\": \"scatter\", \"hoverinfo\": \"text\"}, {\"yaxis\": \"y\", \"y\": [265.0, 265.0, 283.75, 283.75], \"xaxis\": \"x\", \"marker\": {\"color\": \"rgb(61,153,112)\"}, \"mode\": \"lines\", \"x\": [-0.0, -5.611400233362929e-12, -5.611400233362929e-12, -0.0], \"text\": null, \"type\": \"scatter\", \"hoverinfo\": \"text\"}, {\"yaxis\": \"y\", \"y\": [255.0, 255.0, 274.375, 274.375], \"xaxis\": \"x\", \"marker\": {\"color\": \"rgb(61,153,112)\"}, \"mode\": \"lines\", \"x\": [-0.0, -0.013260611393331434, -0.013260611393331434, -5.611400233362929e-12], \"text\": null, \"type\": \"scatter\", \"hoverinfo\": \"text\"}, {\"yaxis\": \"y\", \"y\": [240.0, 240.0, 264.6875, 264.6875], \"xaxis\": \"x\", \"marker\": {\"color\": \"rgb(61,153,112)\"}, \"mode\": \"lines\", \"x\": [-0.0015564622868462497, -0.03601384913763802, -0.03601384913763802, -0.013260611393331434], \"text\": null, \"type\": \"scatter\", \"hoverinfo\": \"text\"}, {\"yaxis\": \"y\", \"y\": [203.75, 203.75, 252.34375, 252.34375], \"xaxis\": \"x\", \"marker\": {\"color\": \"rgb(61,153,112)\"}, \"mode\": \"lines\", \"x\": [-0.02041952740727389, -0.10018970638285599, -0.10018970638285599, -0.03601384913763802], \"text\": null, \"type\": \"scatter\", \"hoverinfo\": \"text\"}, {\"yaxis\": \"y\", \"y\": [120.546875, 120.546875, 228.046875, 228.046875], \"xaxis\": \"x\", \"marker\": {\"color\": \"rgb(61,153,112)\"}, \"mode\": \"lines\", \"x\": [-0.07133356601659303, -0.2361835427033199, -0.2361835427033199, -0.10018970638285599], \"text\": null, \"type\": \"scatter\", \"hoverinfo\": \"text\"}, {\"yaxis\": \"y\", \"y\": [90.0, 90.0, 174.296875, 174.296875], \"xaxis\": \"x\", \"marker\": {\"color\": \"rgb(61,153,112)\"}, \"mode\": \"lines\", \"x\": [-0.18936265378106254, -0.3319919196961644, -0.3319919196961644, -0.2361835427033199], \"text\": null, \"type\": \"scatter\", \"hoverinfo\": \"text\"}, {\"yaxis\": \"y\", \"y\": [36.25, 36.25, 132.1484375, 132.1484375], \"xaxis\": \"x\", \"marker\": {\"color\": \"rgb(61,153,112)\"}, \"mode\": \"lines\", \"x\": [-0.20903274803405186, -0.3979795079778254, -0.3979795079778254, -0.3319919196961644], \"text\": null, \"type\": \"scatter\", \"hoverinfo\": \"text\"}, {\"yaxis\": \"y\", \"y\": [315.0, 315.0, 325.0, 325.0], \"xaxis\": \"x\", \"marker\": {\"color\": \"rgb(61,153,112)\"}, \"mode\": \"lines\", \"x\": [-0.0, -0.46115127569827974, -0.46115127569827974, -0.0], \"text\": null, \"type\": \"scatter\", \"hoverinfo\": \"text\"}, {\"yaxis\": \"y\", \"y\": [84.19921875, 84.19921875, 320.0, 320.0], \"xaxis\": \"x\", \"marker\": {\"color\": \"rgb(61,153,112)\"}, \"mode\": \"lines\", \"x\": [-0.3979795079778254, -0.5901352100995161, -0.5901352100995161, -0.46115127569827974], \"text\": null, \"type\": \"scatter\", \"hoverinfo\": \"text\"}, {\"yaxis\": \"y\", \"y\": [345.0, 345.0, 355.0, 355.0], \"xaxis\": \"x\", \"marker\": {\"color\": \"rgb(255,65,54)\"}, \"mode\": \"lines\", \"x\": [-0.0, -0.15630396205012054, -0.15630396205012054, -0.0], \"text\": null, \"type\": \"scatter\", \"hoverinfo\": \"text\"}, {\"yaxis\": \"y\", \"y\": [385.0, 385.0, 395.0, 395.0], \"xaxis\": \"x\", \"marker\": {\"color\": \"rgb(255,65,54)\"}, \"mode\": \"lines\", \"x\": [-0.0, -0.0, -0.0, -0.0], \"text\": null, \"type\": \"scatter\", \"hoverinfo\": \"text\"}, {\"yaxis\": \"y\", \"y\": [375.0, 375.0, 390.0, 390.0], \"xaxis\": \"x\", \"marker\": {\"color\": \"rgb(255,65,54)\"}, \"mode\": \"lines\", \"x\": [-0.0, -0.004970333410985517, -0.004970333410985517, -0.0], \"text\": null, \"type\": \"scatter\", \"hoverinfo\": \"text\"}, {\"yaxis\": \"y\", \"y\": [365.0, 365.0, 382.5, 382.5], \"xaxis\": \"x\", \"marker\": {\"color\": \"rgb(255,65,54)\"}, \"mode\": \"lines\", \"x\": [-0.0, -0.011841984257058069, -0.011841984257058069, -0.004970333410985517], \"text\": null, \"type\": \"scatter\", \"hoverinfo\": \"text\"}, {\"yaxis\": \"y\", \"y\": [465.0, 465.0, 475.0, 475.0], \"xaxis\": \"x\", \"marker\": {\"color\": \"rgb(255,65,54)\"}, \"mode\": \"lines\", \"x\": [-0.0, -0.0, -0.0, -0.0], \"text\": null, \"type\": \"scatter\", \"hoverinfo\": \"text\"}, {\"yaxis\": \"y\", \"y\": [455.0, 455.0, 470.0, 470.0], \"xaxis\": \"x\", \"marker\": {\"color\": \"rgb(255,65,54)\"}, \"mode\": \"lines\", \"x\": [-0.0, -0.0, -0.0, -0.0], \"text\": null, \"type\": \"scatter\", \"hoverinfo\": \"text\"}, {\"yaxis\": \"y\", \"y\": [445.0, 445.0, 462.5, 462.5], \"xaxis\": \"x\", \"marker\": {\"color\": \"rgb(255,65,54)\"}, \"mode\": \"lines\", \"x\": [-0.0, -0.0, -0.0, -0.0], \"text\": null, \"type\": \"scatter\", \"hoverinfo\": \"text\"}, {\"yaxis\": \"y\", \"y\": [435.0, 435.0, 453.75, 453.75], \"xaxis\": \"x\", \"marker\": {\"color\": \"rgb(255,65,54)\"}, \"mode\": \"lines\", \"x\": [-0.0, -5.150102566631176e-12, -5.150102566631176e-12, -0.0], \"text\": null, \"type\": \"scatter\", \"hoverinfo\": \"text\"}, {\"yaxis\": \"y\", \"y\": [425.0, 425.0, 444.375, 444.375], \"xaxis\": \"x\", \"marker\": {\"color\": \"rgb(255,65,54)\"}, \"mode\": \"lines\", \"x\": [-0.0, -8.30207014246298e-12, -8.30207014246298e-12, -5.150102566631176e-12], \"text\": null, \"type\": \"scatter\", \"hoverinfo\": \"text\"}, {\"yaxis\": \"y\", \"y\": [415.0, 415.0, 434.6875, 434.6875], \"xaxis\": \"x\", \"marker\": {\"color\": \"rgb(255,65,54)\"}, \"mode\": \"lines\", \"x\": [-0.0, -0.005511568926860759, -0.005511568926860759, -8.30207014246298e-12], \"text\": null, \"type\": \"scatter\", \"hoverinfo\": \"text\"}, {\"yaxis\": \"y\", \"y\": [405.0, 405.0, 424.84375, 424.84375], \"xaxis\": \"x\", \"marker\": {\"color\": \"rgb(255,65,54)\"}, \"mode\": \"lines\", \"x\": [-0.0, -0.019622814003134544, -0.019622814003134544, -0.005511568926860759], \"text\": null, \"type\": \"scatter\", \"hoverinfo\": \"text\"}, {\"yaxis\": \"y\", \"y\": [373.75, 373.75, 414.921875, 414.921875], \"xaxis\": \"x\", \"marker\": {\"color\": \"rgb(255,65,54)\"}, \"mode\": \"lines\", \"x\": [-0.011841984257058069, -0.06851099567027999, -0.06851099567027999, -0.019622814003134544], \"text\": null, \"type\": \"scatter\", \"hoverinfo\": \"text\"}, {\"yaxis\": \"y\", \"y\": [525.0, 525.0, 535.0, 535.0], \"xaxis\": \"x\", \"marker\": {\"color\": \"rgb(255,65,54)\"}, \"mode\": \"lines\", \"x\": [-0.0, -0.00033525928300626173, -0.00033525928300626173, -0.0], \"text\": null, \"type\": \"scatter\", \"hoverinfo\": \"text\"}, {\"yaxis\": \"y\", \"y\": [515.0, 515.0, 530.0, 530.0], \"xaxis\": \"x\", \"marker\": {\"color\": \"rgb(255,65,54)\"}, \"mode\": \"lines\", \"x\": [-0.0, -0.000498034845127282, -0.000498034845127282, -0.00033525928300626173], \"text\": null, \"type\": \"scatter\", \"hoverinfo\": \"text\"}, {\"yaxis\": \"y\", \"y\": [505.0, 505.0, 522.5, 522.5], \"xaxis\": \"x\", \"marker\": {\"color\": \"rgb(255,65,54)\"}, \"mode\": \"lines\", \"x\": [-0.0, -0.0020752862433878936, -0.0020752862433878936, -0.000498034845127282], \"text\": null, \"type\": \"scatter\", \"hoverinfo\": \"text\"}, {\"yaxis\": \"y\", \"y\": [495.0, 495.0, 513.75, 513.75], \"xaxis\": \"x\", \"marker\": {\"color\": \"rgb(255,65,54)\"}, \"mode\": \"lines\", \"x\": [-0.0, -0.009821905417584015, -0.009821905417584015, -0.0020752862433878936], \"text\": null, \"type\": \"scatter\", \"hoverinfo\": \"text\"}, {\"yaxis\": \"y\", \"y\": [485.0, 485.0, 504.375, 504.375], \"xaxis\": \"x\", \"marker\": {\"color\": \"rgb(255,65,54)\"}, \"mode\": \"lines\", \"x\": [-0.0, -0.014713568145853406, -0.014713568145853406, -0.009821905417584015], \"text\": null, \"type\": \"scatter\", \"hoverinfo\": \"text\"}, {\"yaxis\": \"y\", \"y\": [575.0, 575.0, 585.0, 585.0], \"xaxis\": \"x\", \"marker\": {\"color\": \"rgb(255,65,54)\"}, \"mode\": \"lines\", \"x\": [-0.0, -5.436984196194317e-12, -5.436984196194317e-12, -0.0], \"text\": null, \"type\": \"scatter\", \"hoverinfo\": \"text\"}, {\"yaxis\": \"y\", \"y\": [565.0, 565.0, 580.0, 580.0], \"xaxis\": \"x\", \"marker\": {\"color\": \"rgb(255,65,54)\"}, \"mode\": \"lines\", \"x\": [-0.0, -1.1150913525881379e-11, -1.1150913525881379e-11, -5.436984196194317e-12], \"text\": null, \"type\": \"scatter\", \"hoverinfo\": \"text\"}, {\"yaxis\": \"y\", \"y\": [555.0, 555.0, 572.5, 572.5], \"xaxis\": \"x\", \"marker\": {\"color\": \"rgb(255,65,54)\"}, \"mode\": \"lines\", \"x\": [-0.0, -1.2872665896187149e-11, -1.2872665896187149e-11, -1.1150913525881379e-11], \"text\": null, \"type\": \"scatter\", \"hoverinfo\": \"text\"}, {\"yaxis\": \"y\", \"y\": [615.0, 615.0, 625.0, 625.0], \"xaxis\": \"x\", \"marker\": {\"color\": \"rgb(255,65,54)\"}, \"mode\": \"lines\", \"x\": [-0.0, -0.0, -0.0, -0.0], \"text\": null, \"type\": \"scatter\", \"hoverinfo\": \"text\"}, {\"yaxis\": \"y\", \"y\": [605.0, 605.0, 620.0, 620.0], \"xaxis\": \"x\", \"marker\": {\"color\": \"rgb(255,65,54)\"}, \"mode\": \"lines\", \"x\": [-0.0, -8.398776400053709e-05, -8.398776400053709e-05, -0.0], \"text\": null, \"type\": \"scatter\", \"hoverinfo\": \"text\"}, {\"yaxis\": \"y\", \"y\": [595.0, 595.0, 612.5, 612.5], \"xaxis\": \"x\", \"marker\": {\"color\": \"rgb(255,65,54)\"}, \"mode\": \"lines\", \"x\": [-0.0, -0.0002802734283333293, -0.0002802734283333293, -8.398776400053709e-05], \"text\": null, \"type\": \"scatter\", \"hoverinfo\": \"text\"}, {\"yaxis\": \"y\", \"y\": [563.75, 563.75, 603.75, 603.75], \"xaxis\": \"x\", \"marker\": {\"color\": \"rgb(255,65,54)\"}, \"mode\": \"lines\", \"x\": [-1.2872665896187149e-11, -0.0005987837223618703, -0.0005987837223618703, -0.0002802734283333293], \"text\": null, \"type\": \"scatter\", \"hoverinfo\": \"text\"}, {\"yaxis\": \"y\", \"y\": [545.0, 545.0, 583.75, 583.75], \"xaxis\": \"x\", \"marker\": {\"color\": \"rgb(255,65,54)\"}, \"mode\": \"lines\", \"x\": [-0.0, -0.03503156837588034, -0.03503156837588034, -0.0005987837223618703], \"text\": null, \"type\": \"scatter\", \"hoverinfo\": \"text\"}, {\"yaxis\": \"y\", \"y\": [494.6875, 494.6875, 564.375, 564.375], \"xaxis\": \"x\", \"marker\": {\"color\": \"rgb(255,65,54)\"}, \"mode\": \"lines\", \"x\": [-0.014713568145853406, -0.0914641963896402, -0.0914641963896402, -0.03503156837588034], \"text\": null, \"type\": \"scatter\", \"hoverinfo\": \"text\"}, {\"yaxis\": \"y\", \"y\": [394.3359375, 394.3359375, 529.53125, 529.53125], \"xaxis\": \"x\", \"marker\": {\"color\": \"rgb(255,65,54)\"}, \"mode\": \"lines\", \"x\": [-0.06851099567027999, -0.13502441807043422, -0.13502441807043422, -0.0914641963896402], \"text\": null, \"type\": \"scatter\", \"hoverinfo\": \"text\"}, {\"yaxis\": \"y\", \"y\": [635.0, 635.0, 645.0, 645.0], \"xaxis\": \"x\", \"marker\": {\"color\": \"rgb(255,65,54)\"}, \"mode\": \"lines\", \"x\": [-0.0, -0.20446117971748357, -0.20446117971748357, -0.0], \"text\": null, \"type\": \"scatter\", \"hoverinfo\": \"text\"}, {\"yaxis\": \"y\", \"y\": [461.93359375, 461.93359375, 640.0, 640.0], \"xaxis\": \"x\", \"marker\": {\"color\": \"rgb(255,65,54)\"}, \"mode\": \"lines\", \"x\": [-0.13502441807043422, -0.23796236121774456, -0.23796236121774456, -0.20446117971748357], \"text\": null, \"type\": \"scatter\", \"hoverinfo\": \"text\"}, {\"yaxis\": \"y\", \"y\": [350.0, 350.0, 550.966796875, 550.966796875], \"xaxis\": \"x\", \"marker\": {\"color\": \"rgb(255,65,54)\"}, \"mode\": \"lines\", \"x\": [-0.15630396205012054, -0.3331034891462178, -0.3331034891462178, -0.23796236121774456], \"text\": null, \"type\": \"scatter\", \"hoverinfo\": \"text\"}, {\"yaxis\": \"y\", \"y\": [655.0, 655.0, 665.0, 665.0], \"xaxis\": \"x\", \"marker\": {\"color\": \"rgb(255,65,54)\"}, \"mode\": \"lines\", \"x\": [-0.0, -0.5190401903519114, -0.5190401903519114, -0.0], \"text\": null, \"type\": \"scatter\", \"hoverinfo\": \"text\"}, {\"yaxis\": \"y\", \"y\": [450.4833984375, 450.4833984375, 660.0, 660.0], \"xaxis\": \"x\", \"marker\": {\"color\": \"rgb(255,65,54)\"}, \"mode\": \"lines\", \"x\": [-0.3331034891462178, -0.6437053825947749, -0.6437053825947749, -0.5190401903519114], \"text\": null, \"type\": \"scatter\", \"hoverinfo\": \"text\"}, {\"yaxis\": \"y\", \"y\": [335.0, 335.0, 555.24169921875, 555.24169921875], \"xaxis\": \"x\", \"marker\": {\"color\": \"rgb(255,65,54)\"}, \"mode\": \"lines\", \"x\": [-0.0, -0.6889312301207595, -0.6889312301207595, -0.6437053825947749], \"text\": null, \"type\": \"scatter\", \"hoverinfo\": \"text\"}, {\"yaxis\": \"y\", \"y\": [202.099609375, 202.099609375, 445.120849609375, 445.120849609375], \"xaxis\": \"x\", \"marker\": {\"color\": \"rgb(0,116,217)\"}, \"mode\": \"lines\", \"x\": [-0.5901352100995161, -0.813905850607805, -0.813905850607805, -0.6889312301207595], \"text\": null, \"type\": \"scatter\", \"hoverinfo\": \"text\"}, {\"yaxis\": \"y\", \"y\": [15.0, 15.0, 323.6102294921875, 323.6102294921875], \"xaxis\": \"x\", \"marker\": {\"color\": \"rgb(0,116,217)\"}, \"mode\": \"lines\", \"x\": [-0.0, -0.9644662569692346, -0.9644662569692346, -0.813905850607805], \"text\": null, \"type\": \"scatter\", \"hoverinfo\": \"text\"}, {\"yaxis\": \"y\", \"y\": [5.0, 5.0, 169.30511474609375, 169.30511474609375], \"xaxis\": \"x\", \"marker\": {\"color\": \"rgb(0,116,217)\"}, \"mode\": \"lines\", \"x\": [-0.0, -1.0, -1.0, -0.9644662569692346], \"text\": null, \"type\": \"scatter\", \"hoverinfo\": \"text\"}], {\"yaxis\": {\"ticktext\": [\"raohp_nonphylogenetic_weighted\", \"mpd_phylogenetic_unweighted\", \"lennon_nonphylogenetic_unweighted\", \"kulczynski_nonphylogenetic_unweighted\", \"pearson_nonphylogenetic_unweighted\", \"weighted_corr_nonphylogenetic_unweighted\", \"braycurtis_nonphylogenetic_unweighted\", \"soergel_nonphylogenetic_unweighted\", \"pearson_phylogenetic_unweighted\", \"gower_phylogenetic_weighted\", \"gower_nonphylogenetic_weighted\", \"euclidean_nonphylogenetic_unweighted\", \"tamas_coeff_nonphylogenetic_unweighted\", \"gower_nonphylogenetic_unweighted\", \"canberra_nonphylogenetic_unweighted\", \"manhattan_nonphylogenetic_unweighted\", \"coeff_similarity_nonphylogenetic_unweighted\", \"coeff_similarity_nonphylogenetic_weighted\", \"canberra_nonphylogenetic_weighted\", \"kulczynski_phylogenetic_unweighted\", \"weighted_corr_phylogenetic_unweighted\", \"soergel_phylogenetic_unweighted\", \"braycurtis_phylogenetic_unweighted\", \"canberra_phylogenetic_weighted\", \"coeff_similarity_phylogenetic_weighted\", \"euclidean_phylogenetic_unweighted\", \"tamas_coeff_phylogenetic_unweighted\", \"gower_phylogenetic_unweighted\", \"coeff_similarity_phylogenetic_unweighted\", \"canberra_phylogenetic_unweighted\", \"manhattan_phylogenetic_unweighted\", \"lennon_phylogenetic_unweighted\", \"mnnd_phylogenetic_unweighted\", \"mpd_phylogenetic_weighted\", \"hellinger_nonphylogenetic_weighted\", \"chi_squared_nonphylogenetic_weighted\", \"yue_clayton_nonphylogenetic_weighted\", \"morisita_horn_nonphylogenetic_weighted\", \"weighted_corr_nonphylogenetic_weighted\", \"pearson_nonphylogenetic_weighted\", \"euclidean_nonphylogenetic_weighted\", \"soergel_nonphylogenetic_weighted\", \"tamas_coeff_nonphylogenetic_weighted\", \"manhattan_nonphylogenetic_weighted\", \"braycurtis_nonphylogenetic_weighted\", \"kulczynski_nonphylogenetic_weighted\", \"lennon_nonphylogenetic_weighted\", \"whittaker_nonphylogenetic_weighted\", \"p_st_phylogenetic_weighted\", \"pearson_phylogenetic_weighted\", \"morisita_horn_phylogenetic_weighted\", \"raohp_phylogenetic_weighted\", \"weighted_corr_phylogenetic_weighted\", \"yue_clayton_phylogenetic_weighted\", \"euclidean_phylogenetic_weighted\", \"manhattan_phylogenetic_weighted\", \"complete_tree_phylogenetic_weighted\", \"whittaker_phylogenetic_weighted\", \"tamas_coeff_phylogenetic_weighted\", \"soergel_phylogenetic_weighted\", \"kulczynski_phylogenetic_weighted\", \"braycurtis_phylogenetic_weighted\", \"normalized_weighted_unifrac_phylogenetic_weighted\", \"lennon_phylogenetic_weighted\", \"hellinger_phylogenetic_weighted\", \"chi_squared_phylogenetic_weighted\", \"mnnd_phylogenetic_weighted\"], \"tickmode\": \"array\", \"tickvals\": [5, 15, 25, 35, 45, 55, 65, 75, 85, 95, 105, 115, 125, 135, 145, 155, 165, 175, 185, 195, 205, 215, 225, 235, 245, 255, 265, 275, 285, 295, 305, 315, 325, 335, 345, 355, 365, 375, 385, 395, 405, 415, 425, 435, 445, 455, 465, 475, 485, 495, 505, 515, 525, 535, 545, 555, 565, 575, 585, 595, 605, 615, 625, 635, 645, 655, 665], \"rangemode\": \"tozero\", \"zeroline\": false, \"showline\": true, \"side\": \"right\", \"type\": \"linear\", \"ticks\": \"outside\", \"showgrid\": false, \"showticklabels\": true, \"mirror\": \"allticks\"}, \"hovermode\": \"closest\", \"height\": 800, \"margin\": {\"r\": 250}, \"width\": 800, \"xaxis\": {\"showgrid\": false, \"mirror\": \"allticks\", \"type\": \"linear\", \"ticks\": \"outside\", \"rangemode\": \"tozero\", \"showticklabels\": true, \"showline\": true, \"zeroline\": false}, \"showlegend\": false, \"autosize\": false}, {\"showLink\": true, \"linkText\": \"Export to plot.ly\"})});</script>"
      ],
      "text/vnd.plotly.v1+html": [
       "<div id=\"22df4d79-a3c4-4670-bf2c-90d2f93d0f0e\" style=\"height: 800px; width: 800px;\" class=\"plotly-graph-div\"></div><script type=\"text/javascript\">require([\"plotly\"], function(Plotly) { window.PLOTLYENV=window.PLOTLYENV || {};window.PLOTLYENV.BASE_URL=\"https://plot.ly\";Plotly.newPlot(\"22df4d79-a3c4-4670-bf2c-90d2f93d0f0e\", [{\"yaxis\": \"y\", \"y\": [45.0, 45.0, 55.0, 55.0], \"xaxis\": \"x\", \"marker\": {\"color\": \"rgb(61,153,112)\"}, \"mode\": \"lines\", \"x\": [-0.0, -0.0, -0.0, -0.0], \"text\": null, \"type\": \"scatter\", \"hoverinfo\": \"text\"}, {\"yaxis\": \"y\", \"y\": [65.0, 65.0, 75.0, 75.0], \"xaxis\": \"x\", \"marker\": {\"color\": \"rgb(61,153,112)\"}, \"mode\": \"lines\", \"x\": [-0.0, -0.006369356413815974, -0.006369356413815974, -0.0], \"text\": null, \"type\": \"scatter\", \"hoverinfo\": \"text\"}, {\"yaxis\": \"y\", \"y\": [50.0, 50.0, 70.0, 70.0], \"xaxis\": \"x\", \"marker\": {\"color\": \"rgb(61,153,112)\"}, \"mode\": \"lines\", \"x\": [-0.0, -0.008862234241208466, -0.008862234241208466, -0.006369356413815974], \"text\": null, \"type\": \"scatter\", \"hoverinfo\": \"text\"}, {\"yaxis\": \"y\", \"y\": [35.0, 35.0, 60.0, 60.0], \"xaxis\": \"x\", \"marker\": {\"color\": \"rgb(61,153,112)\"}, \"mode\": \"lines\", \"x\": [-0.0, -0.025639030285103975, -0.025639030285103975, -0.008862234241208466], \"text\": null, \"type\": \"scatter\", \"hoverinfo\": \"text\"}, {\"yaxis\": \"y\", \"y\": [25.0, 25.0, 47.5, 47.5], \"xaxis\": \"x\", \"marker\": {\"color\": \"rgb(61,153,112)\"}, \"mode\": \"lines\", \"x\": [-0.0, -0.20903274803405186, -0.20903274803405186, -0.025639030285103975], \"text\": null, \"type\": \"scatter\", \"hoverinfo\": \"text\"}, {\"yaxis\": \"y\", \"y\": [85.0, 85.0, 95.0, 95.0], \"xaxis\": \"x\", \"marker\": {\"color\": \"rgb(61,153,112)\"}, \"mode\": \"lines\", \"x\": [-0.0, -0.18936265378106254, -0.18936265378106254, -0.0], \"text\": null, \"type\": \"scatter\", \"hoverinfo\": \"text\"}, {\"yaxis\": \"y\", \"y\": [155.0, 155.0, 165.0, 165.0], \"xaxis\": \"x\", \"marker\": {\"color\": \"rgb(61,153,112)\"}, \"mode\": \"lines\", \"x\": [-0.0, -0.0, -0.0, -0.0], \"text\": null, \"type\": \"scatter\", \"hoverinfo\": \"text\"}, {\"yaxis\": \"y\", \"y\": [145.0, 145.0, 160.0, 160.0], \"xaxis\": \"x\", \"marker\": {\"color\": \"rgb(61,153,112)\"}, \"mode\": \"lines\", \"x\": [-0.0, -0.0, -0.0, -0.0], \"text\": null, \"type\": \"scatter\", \"hoverinfo\": \"text\"}, {\"yaxis\": \"y\", \"y\": [135.0, 135.0, 152.5, 152.5], \"xaxis\": \"x\", \"marker\": {\"color\": \"rgb(61,153,112)\"}, \"mode\": \"lines\", \"x\": [-0.0, -0.0, -0.0, -0.0], \"text\": null, \"type\": \"scatter\", \"hoverinfo\": \"text\"}, {\"yaxis\": \"y\", \"y\": [125.0, 125.0, 143.75, 143.75], \"xaxis\": \"x\", \"marker\": {\"color\": \"rgb(61,153,112)\"}, \"mode\": \"lines\", \"x\": [-0.0, -1.0141998352253268e-11, -1.0141998352253268e-11, -0.0], \"text\": null, \"type\": \"scatter\", \"hoverinfo\": \"text\"}, {\"yaxis\": \"y\", \"y\": [175.0, 175.0, 185.0, 185.0], \"xaxis\": \"x\", \"marker\": {\"color\": \"rgb(61,153,112)\"}, \"mode\": \"lines\", \"x\": [-0.0, -0.00019959340574604578, -0.00019959340574604578, -0.0], \"text\": null, \"type\": \"scatter\", \"hoverinfo\": \"text\"}, {\"yaxis\": \"y\", \"y\": [134.375, 134.375, 180.0, 180.0], \"xaxis\": \"x\", \"marker\": {\"color\": \"rgb(61,153,112)\"}, \"mode\": \"lines\", \"x\": [-1.0141998352253268e-11, -0.0034917509191068064, -0.0034917509191068064, -0.00019959340574604578], \"text\": null, \"type\": \"scatter\", \"hoverinfo\": \"text\"}, {\"yaxis\": \"y\", \"y\": [115.0, 115.0, 157.1875, 157.1875], \"xaxis\": \"x\", \"marker\": {\"color\": \"rgb(61,153,112)\"}, \"mode\": \"lines\", \"x\": [-0.0, -0.015880139561307675, -0.015880139561307675, -0.0034917509191068064], \"text\": null, \"type\": \"scatter\", \"hoverinfo\": \"text\"}, {\"yaxis\": \"y\", \"y\": [105.0, 105.0, 136.09375, 136.09375], \"xaxis\": \"x\", \"marker\": {\"color\": \"rgb(61,153,112)\"}, \"mode\": \"lines\", \"x\": [-0.0, -0.07133356601659303, -0.07133356601659303, -0.015880139561307675], \"text\": null, \"type\": \"scatter\", \"hoverinfo\": \"text\"}, {\"yaxis\": \"y\", \"y\": [215.0, 215.0, 225.0, 225.0], \"xaxis\": \"x\", \"marker\": {\"color\": \"rgb(61,153,112)\"}, \"mode\": \"lines\", \"x\": [-0.0, -0.004346414470735027, -0.004346414470735027, -0.0], \"text\": null, \"type\": \"scatter\", \"hoverinfo\": \"text\"}, {\"yaxis\": \"y\", \"y\": [205.0, 205.0, 220.0, 220.0], \"xaxis\": \"x\", \"marker\": {\"color\": \"rgb(61,153,112)\"}, \"mode\": \"lines\", \"x\": [-0.0, -0.006811949511089377, -0.006811949511089377, -0.004346414470735027], \"text\": null, \"type\": \"scatter\", \"hoverinfo\": \"text\"}, {\"yaxis\": \"y\", \"y\": [195.0, 195.0, 212.5, 212.5], \"xaxis\": \"x\", \"marker\": {\"color\": \"rgb(61,153,112)\"}, \"mode\": \"lines\", \"x\": [-0.0, -0.02041952740727389, -0.02041952740727389, -0.006811949511089377], \"text\": null, \"type\": \"scatter\", \"hoverinfo\": \"text\"}, {\"yaxis\": \"y\", \"y\": [235.0, 235.0, 245.0, 245.0], \"xaxis\": \"x\", \"marker\": {\"color\": \"rgb(61,153,112)\"}, \"mode\": \"lines\", \"x\": [-0.0, -0.0015564622868462497, -0.0015564622868462497, -0.0], \"text\": null, \"type\": \"scatter\", \"hoverinfo\": \"text\"}, {\"yaxis\": \"y\", \"y\": [295.0, 295.0, 305.0, 305.0], \"xaxis\": \"x\", \"marker\": {\"color\": \"rgb(61,153,112)\"}, \"mode\": \"lines\", \"x\": [-0.0, -0.0, -0.0, -0.0], \"text\": null, \"type\": \"scatter\", \"hoverinfo\": \"text\"}, {\"yaxis\": \"y\", \"y\": [285.0, 285.0, 300.0, 300.0], \"xaxis\": \"x\", \"marker\": {\"color\": \"rgb(61,153,112)\"}, \"mode\": \"lines\", \"x\": [-0.0, -0.0, -0.0, -0.0], \"text\": null, \"type\": \"scatter\", \"hoverinfo\": \"text\"}, {\"yaxis\": \"y\", \"y\": [275.0, 275.0, 292.5, 292.5], \"xaxis\": \"x\", \"marker\": {\"color\": \"rgb(61,153,112)\"}, \"mode\": \"lines\", \"x\": [-0.0, -0.0, -0.0, -0.0], \"text\": null, \"type\": \"scatter\", \"hoverinfo\": \"text\"}, {\"yaxis\": \"y\", \"y\": [265.0, 265.0, 283.75, 283.75], \"xaxis\": \"x\", \"marker\": {\"color\": \"rgb(61,153,112)\"}, \"mode\": \"lines\", \"x\": [-0.0, -5.611400233362929e-12, -5.611400233362929e-12, -0.0], \"text\": null, \"type\": \"scatter\", \"hoverinfo\": \"text\"}, {\"yaxis\": \"y\", \"y\": [255.0, 255.0, 274.375, 274.375], \"xaxis\": \"x\", \"marker\": {\"color\": \"rgb(61,153,112)\"}, \"mode\": \"lines\", \"x\": [-0.0, -0.013260611393331434, -0.013260611393331434, -5.611400233362929e-12], \"text\": null, \"type\": \"scatter\", \"hoverinfo\": \"text\"}, {\"yaxis\": \"y\", \"y\": [240.0, 240.0, 264.6875, 264.6875], \"xaxis\": \"x\", \"marker\": {\"color\": \"rgb(61,153,112)\"}, \"mode\": \"lines\", \"x\": [-0.0015564622868462497, -0.03601384913763802, -0.03601384913763802, -0.013260611393331434], \"text\": null, \"type\": \"scatter\", \"hoverinfo\": \"text\"}, {\"yaxis\": \"y\", \"y\": [203.75, 203.75, 252.34375, 252.34375], \"xaxis\": \"x\", \"marker\": {\"color\": \"rgb(61,153,112)\"}, \"mode\": \"lines\", \"x\": [-0.02041952740727389, -0.10018970638285599, -0.10018970638285599, -0.03601384913763802], \"text\": null, \"type\": \"scatter\", \"hoverinfo\": \"text\"}, {\"yaxis\": \"y\", \"y\": [120.546875, 120.546875, 228.046875, 228.046875], \"xaxis\": \"x\", \"marker\": {\"color\": \"rgb(61,153,112)\"}, \"mode\": \"lines\", \"x\": [-0.07133356601659303, -0.2361835427033199, -0.2361835427033199, -0.10018970638285599], \"text\": null, \"type\": \"scatter\", \"hoverinfo\": \"text\"}, {\"yaxis\": \"y\", \"y\": [90.0, 90.0, 174.296875, 174.296875], \"xaxis\": \"x\", \"marker\": {\"color\": \"rgb(61,153,112)\"}, \"mode\": \"lines\", \"x\": [-0.18936265378106254, -0.3319919196961644, -0.3319919196961644, -0.2361835427033199], \"text\": null, \"type\": \"scatter\", \"hoverinfo\": \"text\"}, {\"yaxis\": \"y\", \"y\": [36.25, 36.25, 132.1484375, 132.1484375], \"xaxis\": \"x\", \"marker\": {\"color\": \"rgb(61,153,112)\"}, \"mode\": \"lines\", \"x\": [-0.20903274803405186, -0.3979795079778254, -0.3979795079778254, -0.3319919196961644], \"text\": null, \"type\": \"scatter\", \"hoverinfo\": \"text\"}, {\"yaxis\": \"y\", \"y\": [315.0, 315.0, 325.0, 325.0], \"xaxis\": \"x\", \"marker\": {\"color\": \"rgb(61,153,112)\"}, \"mode\": \"lines\", \"x\": [-0.0, -0.46115127569827974, -0.46115127569827974, -0.0], \"text\": null, \"type\": \"scatter\", \"hoverinfo\": \"text\"}, {\"yaxis\": \"y\", \"y\": [84.19921875, 84.19921875, 320.0, 320.0], \"xaxis\": \"x\", \"marker\": {\"color\": \"rgb(61,153,112)\"}, \"mode\": \"lines\", \"x\": [-0.3979795079778254, -0.5901352100995161, -0.5901352100995161, -0.46115127569827974], \"text\": null, \"type\": \"scatter\", \"hoverinfo\": \"text\"}, {\"yaxis\": \"y\", \"y\": [345.0, 345.0, 355.0, 355.0], \"xaxis\": \"x\", \"marker\": {\"color\": \"rgb(255,65,54)\"}, \"mode\": \"lines\", \"x\": [-0.0, -0.15630396205012054, -0.15630396205012054, -0.0], \"text\": null, \"type\": \"scatter\", \"hoverinfo\": \"text\"}, {\"yaxis\": \"y\", \"y\": [385.0, 385.0, 395.0, 395.0], \"xaxis\": \"x\", \"marker\": {\"color\": \"rgb(255,65,54)\"}, \"mode\": \"lines\", \"x\": [-0.0, -0.0, -0.0, -0.0], \"text\": null, \"type\": \"scatter\", \"hoverinfo\": \"text\"}, {\"yaxis\": \"y\", \"y\": [375.0, 375.0, 390.0, 390.0], \"xaxis\": \"x\", \"marker\": {\"color\": \"rgb(255,65,54)\"}, \"mode\": \"lines\", \"x\": [-0.0, -0.004970333410985517, -0.004970333410985517, -0.0], \"text\": null, \"type\": \"scatter\", \"hoverinfo\": \"text\"}, {\"yaxis\": \"y\", \"y\": [365.0, 365.0, 382.5, 382.5], \"xaxis\": \"x\", \"marker\": {\"color\": \"rgb(255,65,54)\"}, \"mode\": \"lines\", \"x\": [-0.0, -0.011841984257058069, -0.011841984257058069, -0.004970333410985517], \"text\": null, \"type\": \"scatter\", \"hoverinfo\": \"text\"}, {\"yaxis\": \"y\", \"y\": [465.0, 465.0, 475.0, 475.0], \"xaxis\": \"x\", \"marker\": {\"color\": \"rgb(255,65,54)\"}, \"mode\": \"lines\", \"x\": [-0.0, -0.0, -0.0, -0.0], \"text\": null, \"type\": \"scatter\", \"hoverinfo\": \"text\"}, {\"yaxis\": \"y\", \"y\": [455.0, 455.0, 470.0, 470.0], \"xaxis\": \"x\", \"marker\": {\"color\": \"rgb(255,65,54)\"}, \"mode\": \"lines\", \"x\": [-0.0, -0.0, -0.0, -0.0], \"text\": null, \"type\": \"scatter\", \"hoverinfo\": \"text\"}, {\"yaxis\": \"y\", \"y\": [445.0, 445.0, 462.5, 462.5], \"xaxis\": \"x\", \"marker\": {\"color\": \"rgb(255,65,54)\"}, \"mode\": \"lines\", \"x\": [-0.0, -0.0, -0.0, -0.0], \"text\": null, \"type\": \"scatter\", \"hoverinfo\": \"text\"}, {\"yaxis\": \"y\", \"y\": [435.0, 435.0, 453.75, 453.75], \"xaxis\": \"x\", \"marker\": {\"color\": \"rgb(255,65,54)\"}, \"mode\": \"lines\", \"x\": [-0.0, -5.150102566631176e-12, -5.150102566631176e-12, -0.0], \"text\": null, \"type\": \"scatter\", \"hoverinfo\": \"text\"}, {\"yaxis\": \"y\", \"y\": [425.0, 425.0, 444.375, 444.375], \"xaxis\": \"x\", \"marker\": {\"color\": \"rgb(255,65,54)\"}, \"mode\": \"lines\", \"x\": [-0.0, -8.30207014246298e-12, -8.30207014246298e-12, -5.150102566631176e-12], \"text\": null, \"type\": \"scatter\", \"hoverinfo\": \"text\"}, {\"yaxis\": \"y\", \"y\": [415.0, 415.0, 434.6875, 434.6875], \"xaxis\": \"x\", \"marker\": {\"color\": \"rgb(255,65,54)\"}, \"mode\": \"lines\", \"x\": [-0.0, -0.005511568926860759, -0.005511568926860759, -8.30207014246298e-12], \"text\": null, \"type\": \"scatter\", \"hoverinfo\": \"text\"}, {\"yaxis\": \"y\", \"y\": [405.0, 405.0, 424.84375, 424.84375], \"xaxis\": \"x\", \"marker\": {\"color\": \"rgb(255,65,54)\"}, \"mode\": \"lines\", \"x\": [-0.0, -0.019622814003134544, -0.019622814003134544, -0.005511568926860759], \"text\": null, \"type\": \"scatter\", \"hoverinfo\": \"text\"}, {\"yaxis\": \"y\", \"y\": [373.75, 373.75, 414.921875, 414.921875], \"xaxis\": \"x\", \"marker\": {\"color\": \"rgb(255,65,54)\"}, \"mode\": \"lines\", \"x\": [-0.011841984257058069, -0.06851099567027999, -0.06851099567027999, -0.019622814003134544], \"text\": null, \"type\": \"scatter\", \"hoverinfo\": \"text\"}, {\"yaxis\": \"y\", \"y\": [525.0, 525.0, 535.0, 535.0], \"xaxis\": \"x\", \"marker\": {\"color\": \"rgb(255,65,54)\"}, \"mode\": \"lines\", \"x\": [-0.0, -0.00033525928300626173, -0.00033525928300626173, -0.0], \"text\": null, \"type\": \"scatter\", \"hoverinfo\": \"text\"}, {\"yaxis\": \"y\", \"y\": [515.0, 515.0, 530.0, 530.0], \"xaxis\": \"x\", \"marker\": {\"color\": \"rgb(255,65,54)\"}, \"mode\": \"lines\", \"x\": [-0.0, -0.000498034845127282, -0.000498034845127282, -0.00033525928300626173], \"text\": null, \"type\": \"scatter\", \"hoverinfo\": \"text\"}, {\"yaxis\": \"y\", \"y\": [505.0, 505.0, 522.5, 522.5], \"xaxis\": \"x\", \"marker\": {\"color\": \"rgb(255,65,54)\"}, \"mode\": \"lines\", \"x\": [-0.0, -0.0020752862433878936, -0.0020752862433878936, -0.000498034845127282], \"text\": null, \"type\": \"scatter\", \"hoverinfo\": \"text\"}, {\"yaxis\": \"y\", \"y\": [495.0, 495.0, 513.75, 513.75], \"xaxis\": \"x\", \"marker\": {\"color\": \"rgb(255,65,54)\"}, \"mode\": \"lines\", \"x\": [-0.0, -0.009821905417584015, -0.009821905417584015, -0.0020752862433878936], \"text\": null, \"type\": \"scatter\", \"hoverinfo\": \"text\"}, {\"yaxis\": \"y\", \"y\": [485.0, 485.0, 504.375, 504.375], \"xaxis\": \"x\", \"marker\": {\"color\": \"rgb(255,65,54)\"}, \"mode\": \"lines\", \"x\": [-0.0, -0.014713568145853406, -0.014713568145853406, -0.009821905417584015], \"text\": null, \"type\": \"scatter\", \"hoverinfo\": \"text\"}, {\"yaxis\": \"y\", \"y\": [575.0, 575.0, 585.0, 585.0], \"xaxis\": \"x\", \"marker\": {\"color\": \"rgb(255,65,54)\"}, \"mode\": \"lines\", \"x\": [-0.0, -5.436984196194317e-12, -5.436984196194317e-12, -0.0], \"text\": null, \"type\": \"scatter\", \"hoverinfo\": \"text\"}, {\"yaxis\": \"y\", \"y\": [565.0, 565.0, 580.0, 580.0], \"xaxis\": \"x\", \"marker\": {\"color\": \"rgb(255,65,54)\"}, \"mode\": \"lines\", \"x\": [-0.0, -1.1150913525881379e-11, -1.1150913525881379e-11, -5.436984196194317e-12], \"text\": null, \"type\": \"scatter\", \"hoverinfo\": \"text\"}, {\"yaxis\": \"y\", \"y\": [555.0, 555.0, 572.5, 572.5], \"xaxis\": \"x\", \"marker\": {\"color\": \"rgb(255,65,54)\"}, \"mode\": \"lines\", \"x\": [-0.0, -1.2872665896187149e-11, -1.2872665896187149e-11, -1.1150913525881379e-11], \"text\": null, \"type\": \"scatter\", \"hoverinfo\": \"text\"}, {\"yaxis\": \"y\", \"y\": [615.0, 615.0, 625.0, 625.0], \"xaxis\": \"x\", \"marker\": {\"color\": \"rgb(255,65,54)\"}, \"mode\": \"lines\", \"x\": [-0.0, -0.0, -0.0, -0.0], \"text\": null, \"type\": \"scatter\", \"hoverinfo\": \"text\"}, {\"yaxis\": \"y\", \"y\": [605.0, 605.0, 620.0, 620.0], \"xaxis\": \"x\", \"marker\": {\"color\": \"rgb(255,65,54)\"}, \"mode\": \"lines\", \"x\": [-0.0, -8.398776400053709e-05, -8.398776400053709e-05, -0.0], \"text\": null, \"type\": \"scatter\", \"hoverinfo\": \"text\"}, {\"yaxis\": \"y\", \"y\": [595.0, 595.0, 612.5, 612.5], \"xaxis\": \"x\", \"marker\": {\"color\": \"rgb(255,65,54)\"}, \"mode\": \"lines\", \"x\": [-0.0, -0.0002802734283333293, -0.0002802734283333293, -8.398776400053709e-05], \"text\": null, \"type\": \"scatter\", \"hoverinfo\": \"text\"}, {\"yaxis\": \"y\", \"y\": [563.75, 563.75, 603.75, 603.75], \"xaxis\": \"x\", \"marker\": {\"color\": \"rgb(255,65,54)\"}, \"mode\": \"lines\", \"x\": [-1.2872665896187149e-11, -0.0005987837223618703, -0.0005987837223618703, -0.0002802734283333293], \"text\": null, \"type\": \"scatter\", \"hoverinfo\": \"text\"}, {\"yaxis\": \"y\", \"y\": [545.0, 545.0, 583.75, 583.75], \"xaxis\": \"x\", \"marker\": {\"color\": \"rgb(255,65,54)\"}, \"mode\": \"lines\", \"x\": [-0.0, -0.03503156837588034, -0.03503156837588034, -0.0005987837223618703], \"text\": null, \"type\": \"scatter\", \"hoverinfo\": \"text\"}, {\"yaxis\": \"y\", \"y\": [494.6875, 494.6875, 564.375, 564.375], \"xaxis\": \"x\", \"marker\": {\"color\": \"rgb(255,65,54)\"}, \"mode\": \"lines\", \"x\": [-0.014713568145853406, -0.0914641963896402, -0.0914641963896402, -0.03503156837588034], \"text\": null, \"type\": \"scatter\", \"hoverinfo\": \"text\"}, {\"yaxis\": \"y\", \"y\": [394.3359375, 394.3359375, 529.53125, 529.53125], \"xaxis\": \"x\", \"marker\": {\"color\": \"rgb(255,65,54)\"}, \"mode\": \"lines\", \"x\": [-0.06851099567027999, -0.13502441807043422, -0.13502441807043422, -0.0914641963896402], \"text\": null, \"type\": \"scatter\", \"hoverinfo\": \"text\"}, {\"yaxis\": \"y\", \"y\": [635.0, 635.0, 645.0, 645.0], \"xaxis\": \"x\", \"marker\": {\"color\": \"rgb(255,65,54)\"}, \"mode\": \"lines\", \"x\": [-0.0, -0.20446117971748357, -0.20446117971748357, -0.0], \"text\": null, \"type\": \"scatter\", \"hoverinfo\": \"text\"}, {\"yaxis\": \"y\", \"y\": [461.93359375, 461.93359375, 640.0, 640.0], \"xaxis\": \"x\", \"marker\": {\"color\": \"rgb(255,65,54)\"}, \"mode\": \"lines\", \"x\": [-0.13502441807043422, -0.23796236121774456, -0.23796236121774456, -0.20446117971748357], \"text\": null, \"type\": \"scatter\", \"hoverinfo\": \"text\"}, {\"yaxis\": \"y\", \"y\": [350.0, 350.0, 550.966796875, 550.966796875], \"xaxis\": \"x\", \"marker\": {\"color\": \"rgb(255,65,54)\"}, \"mode\": \"lines\", \"x\": [-0.15630396205012054, -0.3331034891462178, -0.3331034891462178, -0.23796236121774456], \"text\": null, \"type\": \"scatter\", \"hoverinfo\": \"text\"}, {\"yaxis\": \"y\", \"y\": [655.0, 655.0, 665.0, 665.0], \"xaxis\": \"x\", \"marker\": {\"color\": \"rgb(255,65,54)\"}, \"mode\": \"lines\", \"x\": [-0.0, -0.5190401903519114, -0.5190401903519114, -0.0], \"text\": null, \"type\": \"scatter\", \"hoverinfo\": \"text\"}, {\"yaxis\": \"y\", \"y\": [450.4833984375, 450.4833984375, 660.0, 660.0], \"xaxis\": \"x\", \"marker\": {\"color\": \"rgb(255,65,54)\"}, \"mode\": \"lines\", \"x\": [-0.3331034891462178, -0.6437053825947749, -0.6437053825947749, -0.5190401903519114], \"text\": null, \"type\": \"scatter\", \"hoverinfo\": \"text\"}, {\"yaxis\": \"y\", \"y\": [335.0, 335.0, 555.24169921875, 555.24169921875], \"xaxis\": \"x\", \"marker\": {\"color\": \"rgb(255,65,54)\"}, \"mode\": \"lines\", \"x\": [-0.0, -0.6889312301207595, -0.6889312301207595, -0.6437053825947749], \"text\": null, \"type\": \"scatter\", \"hoverinfo\": \"text\"}, {\"yaxis\": \"y\", \"y\": [202.099609375, 202.099609375, 445.120849609375, 445.120849609375], \"xaxis\": \"x\", \"marker\": {\"color\": \"rgb(0,116,217)\"}, \"mode\": \"lines\", \"x\": [-0.5901352100995161, -0.813905850607805, -0.813905850607805, -0.6889312301207595], \"text\": null, \"type\": \"scatter\", \"hoverinfo\": \"text\"}, {\"yaxis\": \"y\", \"y\": [15.0, 15.0, 323.6102294921875, 323.6102294921875], \"xaxis\": \"x\", \"marker\": {\"color\": \"rgb(0,116,217)\"}, \"mode\": \"lines\", \"x\": [-0.0, -0.9644662569692346, -0.9644662569692346, -0.813905850607805], \"text\": null, \"type\": \"scatter\", \"hoverinfo\": \"text\"}, {\"yaxis\": \"y\", \"y\": [5.0, 5.0, 169.30511474609375, 169.30511474609375], \"xaxis\": \"x\", \"marker\": {\"color\": \"rgb(0,116,217)\"}, \"mode\": \"lines\", \"x\": [-0.0, -1.0, -1.0, -0.9644662569692346], \"text\": null, \"type\": \"scatter\", \"hoverinfo\": \"text\"}], {\"yaxis\": {\"ticktext\": [\"raohp_nonphylogenetic_weighted\", \"mpd_phylogenetic_unweighted\", \"lennon_nonphylogenetic_unweighted\", \"kulczynski_nonphylogenetic_unweighted\", \"pearson_nonphylogenetic_unweighted\", \"weighted_corr_nonphylogenetic_unweighted\", \"braycurtis_nonphylogenetic_unweighted\", \"soergel_nonphylogenetic_unweighted\", \"pearson_phylogenetic_unweighted\", \"gower_phylogenetic_weighted\", \"gower_nonphylogenetic_weighted\", \"euclidean_nonphylogenetic_unweighted\", \"tamas_coeff_nonphylogenetic_unweighted\", \"gower_nonphylogenetic_unweighted\", \"canberra_nonphylogenetic_unweighted\", \"manhattan_nonphylogenetic_unweighted\", \"coeff_similarity_nonphylogenetic_unweighted\", \"coeff_similarity_nonphylogenetic_weighted\", \"canberra_nonphylogenetic_weighted\", \"kulczynski_phylogenetic_unweighted\", \"weighted_corr_phylogenetic_unweighted\", \"soergel_phylogenetic_unweighted\", \"braycurtis_phylogenetic_unweighted\", \"canberra_phylogenetic_weighted\", \"coeff_similarity_phylogenetic_weighted\", \"euclidean_phylogenetic_unweighted\", \"tamas_coeff_phylogenetic_unweighted\", \"gower_phylogenetic_unweighted\", \"coeff_similarity_phylogenetic_unweighted\", \"canberra_phylogenetic_unweighted\", \"manhattan_phylogenetic_unweighted\", \"lennon_phylogenetic_unweighted\", \"mnnd_phylogenetic_unweighted\", \"mpd_phylogenetic_weighted\", \"hellinger_nonphylogenetic_weighted\", \"chi_squared_nonphylogenetic_weighted\", \"yue_clayton_nonphylogenetic_weighted\", \"morisita_horn_nonphylogenetic_weighted\", \"weighted_corr_nonphylogenetic_weighted\", \"pearson_nonphylogenetic_weighted\", \"euclidean_nonphylogenetic_weighted\", \"soergel_nonphylogenetic_weighted\", \"tamas_coeff_nonphylogenetic_weighted\", \"manhattan_nonphylogenetic_weighted\", \"braycurtis_nonphylogenetic_weighted\", \"kulczynski_nonphylogenetic_weighted\", \"lennon_nonphylogenetic_weighted\", \"whittaker_nonphylogenetic_weighted\", \"p_st_phylogenetic_weighted\", \"pearson_phylogenetic_weighted\", \"morisita_horn_phylogenetic_weighted\", \"raohp_phylogenetic_weighted\", \"weighted_corr_phylogenetic_weighted\", \"yue_clayton_phylogenetic_weighted\", \"euclidean_phylogenetic_weighted\", \"manhattan_phylogenetic_weighted\", \"complete_tree_phylogenetic_weighted\", \"whittaker_phylogenetic_weighted\", \"tamas_coeff_phylogenetic_weighted\", \"soergel_phylogenetic_weighted\", \"kulczynski_phylogenetic_weighted\", \"braycurtis_phylogenetic_weighted\", \"normalized_weighted_unifrac_phylogenetic_weighted\", \"lennon_phylogenetic_weighted\", \"hellinger_phylogenetic_weighted\", \"chi_squared_phylogenetic_weighted\", \"mnnd_phylogenetic_weighted\"], \"tickmode\": \"array\", \"tickvals\": [5, 15, 25, 35, 45, 55, 65, 75, 85, 95, 105, 115, 125, 135, 145, 155, 165, 175, 185, 195, 205, 215, 225, 235, 245, 255, 265, 275, 285, 295, 305, 315, 325, 335, 345, 355, 365, 375, 385, 395, 405, 415, 425, 435, 445, 455, 465, 475, 485, 495, 505, 515, 525, 535, 545, 555, 565, 575, 585, 595, 605, 615, 625, 635, 645, 655, 665], \"rangemode\": \"tozero\", \"zeroline\": false, \"showline\": true, \"side\": \"right\", \"type\": \"linear\", \"ticks\": \"outside\", \"showgrid\": false, \"showticklabels\": true, \"mirror\": \"allticks\"}, \"hovermode\": \"closest\", \"height\": 800, \"margin\": {\"r\": 250}, \"width\": 800, \"xaxis\": {\"showgrid\": false, \"mirror\": \"allticks\", \"type\": \"linear\", \"ticks\": \"outside\", \"rangemode\": \"tozero\", \"showticklabels\": true, \"showline\": true, \"zeroline\": false}, \"showlegend\": false, \"autosize\": false}, {\"showLink\": true, \"linkText\": \"Export to plot.ly\"})});</script>"
      ]
     },
     "metadata": {},
     "output_type": "display_data"
    }
   ],
   "source": [
    "#Plot all distance measures\n",
    "plot_dm_dendrogram(height=800)"
   ]
  },
  {
   "cell_type": "code",
   "execution_count": 23,
   "metadata": {},
   "outputs": [
    {
     "name": "stderr",
     "output_type": "stream",
     "text": [
      "/home/mwhall/anaconda3/envs/qiime2-2018.4/lib/python3.5/site-packages/scipy/stats/stats.py:3021: RuntimeWarning:\n",
      "\n",
      "invalid value encountered in double_scalars\n",
      "\n"
     ]
    },
    {
     "data": {
      "application/vnd.plotly.v1+json": {
       "data": [
        {
         "hoverinfo": "text",
         "marker": {
          "color": "rgb(61,153,112)"
         },
         "mode": "lines",
         "text": null,
         "type": "scatter",
         "x": [
          0,
          0,
          0,
          0
         ],
         "xaxis": "x",
         "y": [
          55,
          55,
          65,
          65
         ],
         "yaxis": "y"
        },
        {
         "hoverinfo": "text",
         "marker": {
          "color": "rgb(61,153,112)"
         },
         "mode": "lines",
         "text": null,
         "type": "scatter",
         "x": [
          0,
          -0.0046456520731491535,
          -0.0046456520731491535,
          0
         ],
         "xaxis": "x",
         "y": [
          45,
          45,
          60,
          60
         ],
         "yaxis": "y"
        },
        {
         "hoverinfo": "text",
         "marker": {
          "color": "rgb(61,153,112)"
         },
         "mode": "lines",
         "text": null,
         "type": "scatter",
         "x": [
          0,
          -0.010188991615907805,
          -0.010188991615907805,
          -0.0046456520731491535
         ],
         "xaxis": "x",
         "y": [
          35,
          35,
          52.5,
          52.5
         ],
         "yaxis": "y"
        },
        {
         "hoverinfo": "text",
         "marker": {
          "color": "rgb(61,153,112)"
         },
         "mode": "lines",
         "text": null,
         "type": "scatter",
         "x": [
          0,
          0,
          0,
          0
         ],
         "xaxis": "x",
         "y": [
          135,
          135,
          145,
          145
         ],
         "yaxis": "y"
        },
        {
         "hoverinfo": "text",
         "marker": {
          "color": "rgb(61,153,112)"
         },
         "mode": "lines",
         "text": null,
         "type": "scatter",
         "x": [
          0,
          0,
          0,
          0
         ],
         "xaxis": "x",
         "y": [
          125,
          125,
          140,
          140
         ],
         "yaxis": "y"
        },
        {
         "hoverinfo": "text",
         "marker": {
          "color": "rgb(61,153,112)"
         },
         "mode": "lines",
         "text": null,
         "type": "scatter",
         "x": [
          0,
          0,
          0,
          0
         ],
         "xaxis": "x",
         "y": [
          115,
          115,
          132.5,
          132.5
         ],
         "yaxis": "y"
        },
        {
         "hoverinfo": "text",
         "marker": {
          "color": "rgb(61,153,112)"
         },
         "mode": "lines",
         "text": null,
         "type": "scatter",
         "x": [
          0,
          -5.186073792629031e-12,
          -5.186073792629031e-12,
          0
         ],
         "xaxis": "x",
         "y": [
          105,
          105,
          123.75,
          123.75
         ],
         "yaxis": "y"
        },
        {
         "hoverinfo": "text",
         "marker": {
          "color": "rgb(61,153,112)"
         },
         "mode": "lines",
         "text": null,
         "type": "scatter",
         "x": [
          0,
          -9.624079311265632e-12,
          -9.624079311265632e-12,
          -5.186073792629031e-12
         ],
         "xaxis": "x",
         "y": [
          95,
          95,
          114.375,
          114.375
         ],
         "yaxis": "y"
        },
        {
         "hoverinfo": "text",
         "marker": {
          "color": "rgb(61,153,112)"
         },
         "mode": "lines",
         "text": null,
         "type": "scatter",
         "x": [
          0,
          -0.004983104633709694,
          -0.004983104633709694,
          -9.624079311265632e-12
         ],
         "xaxis": "x",
         "y": [
          85,
          85,
          104.6875,
          104.6875
         ],
         "yaxis": "y"
        },
        {
         "hoverinfo": "text",
         "marker": {
          "color": "rgb(61,153,112)"
         },
         "mode": "lines",
         "text": null,
         "type": "scatter",
         "x": [
          0,
          -0.019381384261157448,
          -0.019381384261157448,
          -0.004983104633709694
         ],
         "xaxis": "x",
         "y": [
          75,
          75,
          94.84375,
          94.84375
         ],
         "yaxis": "y"
        },
        {
         "hoverinfo": "text",
         "marker": {
          "color": "rgb(61,153,112)"
         },
         "mode": "lines",
         "text": null,
         "type": "scatter",
         "x": [
          -0.010188991615907805,
          -0.0607558865885848,
          -0.0607558865885848,
          -0.019381384261157448
         ],
         "xaxis": "x",
         "y": [
          43.75,
          43.75,
          84.921875,
          84.921875
         ],
         "yaxis": "y"
        },
        {
         "hoverinfo": "text",
         "marker": {
          "color": "rgb(61,153,112)"
         },
         "mode": "lines",
         "text": null,
         "type": "scatter",
         "x": [
          0,
          -0.1307153248476986,
          -0.1307153248476986,
          -0.0607558865885848
         ],
         "xaxis": "x",
         "y": [
          25,
          25,
          64.3359375,
          64.3359375
         ],
         "yaxis": "y"
        },
        {
         "hoverinfo": "text",
         "marker": {
          "color": "rgb(61,153,112)"
         },
         "mode": "lines",
         "text": null,
         "type": "scatter",
         "x": [
          0,
          -0.0003407472253832422,
          -0.0003407472253832422,
          0
         ],
         "xaxis": "x",
         "y": [
          215,
          215,
          225,
          225
         ],
         "yaxis": "y"
        },
        {
         "hoverinfo": "text",
         "marker": {
          "color": "rgb(61,153,112)"
         },
         "mode": "lines",
         "text": null,
         "type": "scatter",
         "x": [
          0,
          -0.000619231721416702,
          -0.000619231721416702,
          -0.0003407472253832422
         ],
         "xaxis": "x",
         "y": [
          205,
          205,
          220,
          220
         ],
         "yaxis": "y"
        },
        {
         "hoverinfo": "text",
         "marker": {
          "color": "rgb(61,153,112)"
         },
         "mode": "lines",
         "text": null,
         "type": "scatter",
         "x": [
          0,
          -0.00255648240221699,
          -0.00255648240221699,
          -0.000619231721416702
         ],
         "xaxis": "x",
         "y": [
          195,
          195,
          212.5,
          212.5
         ],
         "yaxis": "y"
        },
        {
         "hoverinfo": "text",
         "marker": {
          "color": "rgb(61,153,112)"
         },
         "mode": "lines",
         "text": null,
         "type": "scatter",
         "x": [
          0,
          -0.012515179402454085,
          -0.012515179402454085,
          -0.00255648240221699
         ],
         "xaxis": "x",
         "y": [
          185,
          185,
          203.75,
          203.75
         ],
         "yaxis": "y"
        },
        {
         "hoverinfo": "text",
         "marker": {
          "color": "rgb(61,153,112)"
         },
         "mode": "lines",
         "text": null,
         "type": "scatter",
         "x": [
          0,
          -0.015872034968189053,
          -0.015872034968189053,
          -0.012515179402454085
         ],
         "xaxis": "x",
         "y": [
          175,
          175,
          194.375,
          194.375
         ],
         "yaxis": "y"
        },
        {
         "hoverinfo": "text",
         "marker": {
          "color": "rgb(61,153,112)"
         },
         "mode": "lines",
         "text": null,
         "type": "scatter",
         "x": [
          0,
          -3.781419621873283e-12,
          -3.781419621873283e-12,
          0
         ],
         "xaxis": "x",
         "y": [
          265,
          265,
          275,
          275
         ],
         "yaxis": "y"
        },
        {
         "hoverinfo": "text",
         "marker": {
          "color": "rgb(61,153,112)"
         },
         "mode": "lines",
         "text": null,
         "type": "scatter",
         "x": [
          0,
          -1.096828183833054e-11,
          -1.096828183833054e-11,
          -3.781419621873283e-12
         ],
         "xaxis": "x",
         "y": [
          255,
          255,
          270,
          270
         ],
         "yaxis": "y"
        },
        {
         "hoverinfo": "text",
         "marker": {
          "color": "rgb(61,153,112)"
         },
         "mode": "lines",
         "text": null,
         "type": "scatter",
         "x": [
          0,
          -1.4438931531894165e-11,
          -1.4438931531894165e-11,
          -1.096828183833054e-11
         ],
         "xaxis": "x",
         "y": [
          245,
          245,
          262.5,
          262.5
         ],
         "yaxis": "y"
        },
        {
         "hoverinfo": "text",
         "marker": {
          "color": "rgb(61,153,112)"
         },
         "mode": "lines",
         "text": null,
         "type": "scatter",
         "x": [
          0,
          0,
          0,
          0
         ],
         "xaxis": "x",
         "y": [
          305,
          305,
          315,
          315
         ],
         "yaxis": "y"
        },
        {
         "hoverinfo": "text",
         "marker": {
          "color": "rgb(61,153,112)"
         },
         "mode": "lines",
         "text": null,
         "type": "scatter",
         "x": [
          0,
          -0.00010691685209662793,
          -0.00010691685209662793,
          0
         ],
         "xaxis": "x",
         "y": [
          295,
          295,
          310,
          310
         ],
         "yaxis": "y"
        },
        {
         "hoverinfo": "text",
         "marker": {
          "color": "rgb(61,153,112)"
         },
         "mode": "lines",
         "text": null,
         "type": "scatter",
         "x": [
          0,
          -0.00029127860431125513,
          -0.00029127860431125513,
          -0.00010691685209662793
         ],
         "xaxis": "x",
         "y": [
          285,
          285,
          302.5,
          302.5
         ],
         "yaxis": "y"
        },
        {
         "hoverinfo": "text",
         "marker": {
          "color": "rgb(61,153,112)"
         },
         "mode": "lines",
         "text": null,
         "type": "scatter",
         "x": [
          -1.4438931531894165e-11,
          -0.0007838763292193907,
          -0.0007838763292193907,
          -0.00029127860431125513
         ],
         "xaxis": "x",
         "y": [
          253.75,
          253.75,
          293.75,
          293.75
         ],
         "yaxis": "y"
        },
        {
         "hoverinfo": "text",
         "marker": {
          "color": "rgb(61,153,112)"
         },
         "mode": "lines",
         "text": null,
         "type": "scatter",
         "x": [
          0,
          -0.034321239054893704,
          -0.034321239054893704,
          -0.0007838763292193907
         ],
         "xaxis": "x",
         "y": [
          235,
          235,
          273.75,
          273.75
         ],
         "yaxis": "y"
        },
        {
         "hoverinfo": "text",
         "marker": {
          "color": "rgb(61,153,112)"
         },
         "mode": "lines",
         "text": null,
         "type": "scatter",
         "x": [
          -0.015872034968189053,
          -0.08387357218325307,
          -0.08387357218325307,
          -0.034321239054893704
         ],
         "xaxis": "x",
         "y": [
          184.6875,
          184.6875,
          254.375,
          254.375
         ],
         "yaxis": "y"
        },
        {
         "hoverinfo": "text",
         "marker": {
          "color": "rgb(61,153,112)"
         },
         "mode": "lines",
         "text": null,
         "type": "scatter",
         "x": [
          0,
          -0.1666080358954327,
          -0.1666080358954327,
          -0.08387357218325307
         ],
         "xaxis": "x",
         "y": [
          165,
          165,
          219.53125,
          219.53125
         ],
         "yaxis": "y"
        },
        {
         "hoverinfo": "text",
         "marker": {
          "color": "rgb(61,153,112)"
         },
         "mode": "lines",
         "text": null,
         "type": "scatter",
         "x": [
          0,
          -0.1872160079368555,
          -0.1872160079368555,
          -0.1666080358954327
         ],
         "xaxis": "x",
         "y": [
          155,
          155,
          192.265625,
          192.265625
         ],
         "yaxis": "y"
        },
        {
         "hoverinfo": "text",
         "marker": {
          "color": "rgb(61,153,112)"
         },
         "mode": "lines",
         "text": null,
         "type": "scatter",
         "x": [
          -0.1307153248476986,
          -0.2062348614454404,
          -0.2062348614454404,
          -0.1872160079368555
         ],
         "xaxis": "x",
         "y": [
          44.66796875,
          44.66796875,
          173.6328125,
          173.6328125
         ],
         "yaxis": "y"
        },
        {
         "hoverinfo": "text",
         "marker": {
          "color": "rgb(61,153,112)"
         },
         "mode": "lines",
         "text": null,
         "type": "scatter",
         "x": [
          0,
          -0.32785552924746586,
          -0.32785552924746586,
          0
         ],
         "xaxis": "x",
         "y": [
          325,
          325,
          335,
          335
         ],
         "yaxis": "y"
        },
        {
         "hoverinfo": "text",
         "marker": {
          "color": "rgb(61,153,112)"
         },
         "mode": "lines",
         "text": null,
         "type": "scatter",
         "x": [
          -0.2062348614454404,
          -0.43692793004153196,
          -0.43692793004153196,
          -0.32785552924746586
         ],
         "xaxis": "x",
         "y": [
          109.150390625,
          109.150390625,
          330,
          330
         ],
         "yaxis": "y"
        },
        {
         "hoverinfo": "text",
         "marker": {
          "color": "rgb(0,116,217)"
         },
         "mode": "lines",
         "text": null,
         "type": "scatter",
         "x": [
          0,
          -0.7519344176980658,
          -0.7519344176980658,
          -0.43692793004153196
         ],
         "xaxis": "x",
         "y": [
          15,
          15,
          219.5751953125,
          219.5751953125
         ],
         "yaxis": "y"
        },
        {
         "hoverinfo": "text",
         "marker": {
          "color": "rgb(255,65,54)"
         },
         "mode": "lines",
         "text": null,
         "type": "scatter",
         "x": [
          0,
          -0.001023196075810917,
          -0.001023196075810917,
          0
         ],
         "xaxis": "x",
         "y": [
          355,
          355,
          365,
          365
         ],
         "yaxis": "y"
        },
        {
         "hoverinfo": "text",
         "marker": {
          "color": "rgb(255,65,54)"
         },
         "mode": "lines",
         "text": null,
         "type": "scatter",
         "x": [
          0,
          -0.00011012413482891503,
          -0.00011012413482891503,
          0
         ],
         "xaxis": "x",
         "y": [
          395,
          395,
          405,
          405
         ],
         "yaxis": "y"
        },
        {
         "hoverinfo": "text",
         "marker": {
          "color": "rgb(255,65,54)"
         },
         "mode": "lines",
         "text": null,
         "type": "scatter",
         "x": [
          0,
          -0.03522698807875185,
          -0.03522698807875185,
          -0.00011012413482891503
         ],
         "xaxis": "x",
         "y": [
          385,
          385,
          400,
          400
         ],
         "yaxis": "y"
        },
        {
         "hoverinfo": "text",
         "marker": {
          "color": "rgb(255,65,54)"
         },
         "mode": "lines",
         "text": null,
         "type": "scatter",
         "x": [
          0,
          -0.07320467269174043,
          -0.07320467269174043,
          -0.03522698807875185
         ],
         "xaxis": "x",
         "y": [
          375,
          375,
          392.5,
          392.5
         ],
         "yaxis": "y"
        },
        {
         "hoverinfo": "text",
         "marker": {
          "color": "rgb(255,65,54)"
         },
         "mode": "lines",
         "text": null,
         "type": "scatter",
         "x": [
          -0.001023196075810917,
          -0.09128256958830917,
          -0.09128256958830917,
          -0.07320467269174043
         ],
         "xaxis": "x",
         "y": [
          360,
          360,
          383.75,
          383.75
         ],
         "yaxis": "y"
        },
        {
         "hoverinfo": "text",
         "marker": {
          "color": "rgb(0,116,217)"
         },
         "mode": "lines",
         "text": null,
         "type": "scatter",
         "x": [
          0,
          -0.7573913959711701,
          -0.7573913959711701,
          -0.09128256958830917
         ],
         "xaxis": "x",
         "y": [
          345,
          345,
          371.875,
          371.875
         ],
         "yaxis": "y"
        },
        {
         "hoverinfo": "text",
         "marker": {
          "color": "rgb(0,116,217)"
         },
         "mode": "lines",
         "text": null,
         "type": "scatter",
         "x": [
          -0.7519344176980658,
          -0.8638546266705828,
          -0.8638546266705828,
          -0.7573913959711701
         ],
         "xaxis": "x",
         "y": [
          117.28759765625,
          117.28759765625,
          358.4375,
          358.4375
         ],
         "yaxis": "y"
        },
        {
         "hoverinfo": "text",
         "marker": {
          "color": "rgb(0,116,217)"
         },
         "mode": "lines",
         "text": null,
         "type": "scatter",
         "x": [
          0,
          -1,
          -1,
          -0.8638546266705828
         ],
         "xaxis": "x",
         "y": [
          5,
          5,
          237.862548828125,
          237.862548828125
         ],
         "yaxis": "y"
        }
       ],
       "layout": {
        "autosize": false,
        "height": 600,
        "hovermode": "closest",
        "margin": {
         "r": 250
        },
        "showlegend": false,
        "width": 800,
        "xaxis": {
         "mirror": "allticks",
         "rangemode": "tozero",
         "showgrid": false,
         "showline": true,
         "showticklabels": true,
         "ticks": "outside",
         "type": "linear",
         "zeroline": false
        },
        "yaxis": {
         "mirror": "allticks",
         "rangemode": "tozero",
         "showgrid": false,
         "showline": true,
         "showticklabels": true,
         "side": "right",
         "tickmode": "array",
         "ticks": "outside",
         "ticktext": [
          "raohp_nonphylogenetic_weighted",
          "mnnd_phylogenetic_weighted",
          "hellinger_nonphylogenetic_weighted",
          "yue_clayton_nonphylogenetic_weighted",
          "morisita_horn_nonphylogenetic_weighted",
          "weighted_corr_nonphylogenetic_weighted",
          "pearson_nonphylogenetic_weighted",
          "euclidean_nonphylogenetic_weighted",
          "soergel_nonphylogenetic_weighted",
          "tamas_coeff_nonphylogenetic_weighted",
          "manhattan_nonphylogenetic_weighted",
          "braycurtis_nonphylogenetic_weighted",
          "kulczynski_nonphylogenetic_weighted",
          "lennon_nonphylogenetic_weighted",
          "whittaker_nonphylogenetic_weighted",
          "hellinger_phylogenetic_weighted",
          "lennon_phylogenetic_weighted",
          "pearson_phylogenetic_weighted",
          "p_st_phylogenetic_weighted",
          "morisita_horn_phylogenetic_weighted",
          "raohp_phylogenetic_weighted",
          "weighted_corr_phylogenetic_weighted",
          "yue_clayton_phylogenetic_weighted",
          "euclidean_phylogenetic_weighted",
          "manhattan_phylogenetic_weighted",
          "complete_tree_phylogenetic_weighted",
          "whittaker_phylogenetic_weighted",
          "tamas_coeff_phylogenetic_weighted",
          "soergel_phylogenetic_weighted",
          "kulczynski_phylogenetic_weighted",
          "braycurtis_phylogenetic_weighted",
          "normalized_weighted_unifrac_phylogenetic_weighted",
          "chi_squared_phylogenetic_weighted",
          "chi_squared_nonphylogenetic_weighted",
          "mpd_phylogenetic_weighted",
          "canberra_phylogenetic_weighted",
          "coeff_similarity_phylogenetic_weighted",
          "gower_phylogenetic_weighted",
          "gower_nonphylogenetic_weighted",
          "coeff_similarity_nonphylogenetic_weighted",
          "canberra_nonphylogenetic_weighted"
         ],
         "tickvals": [
          5,
          15,
          25,
          35,
          45,
          55,
          65,
          75,
          85,
          95,
          105,
          115,
          125,
          135,
          145,
          155,
          165,
          175,
          185,
          195,
          205,
          215,
          225,
          235,
          245,
          255,
          265,
          275,
          285,
          295,
          305,
          315,
          325,
          335,
          345,
          355,
          365,
          375,
          385,
          395,
          405
         ],
         "type": "linear",
         "zeroline": false
        }
       }
      },
      "text/html": [
       "<div id=\"eb69945a-65cd-42a6-af53-2fdfc008a9bc\" style=\"height: 600px; width: 800px;\" class=\"plotly-graph-div\"></div><script type=\"text/javascript\">require([\"plotly\"], function(Plotly) { window.PLOTLYENV=window.PLOTLYENV || {};window.PLOTLYENV.BASE_URL=\"https://plot.ly\";Plotly.newPlot(\"eb69945a-65cd-42a6-af53-2fdfc008a9bc\", [{\"yaxis\": \"y\", \"y\": [55.0, 55.0, 65.0, 65.0], \"xaxis\": \"x\", \"marker\": {\"color\": \"rgb(61,153,112)\"}, \"mode\": \"lines\", \"x\": [-0.0, -0.0, -0.0, -0.0], \"text\": null, \"type\": \"scatter\", \"hoverinfo\": \"text\"}, {\"yaxis\": \"y\", \"y\": [45.0, 45.0, 60.0, 60.0], \"xaxis\": \"x\", \"marker\": {\"color\": \"rgb(61,153,112)\"}, \"mode\": \"lines\", \"x\": [-0.0, -0.0046456520731491535, -0.0046456520731491535, -0.0], \"text\": null, \"type\": \"scatter\", \"hoverinfo\": \"text\"}, {\"yaxis\": \"y\", \"y\": [35.0, 35.0, 52.5, 52.5], \"xaxis\": \"x\", \"marker\": {\"color\": \"rgb(61,153,112)\"}, \"mode\": \"lines\", \"x\": [-0.0, -0.010188991615907805, -0.010188991615907805, -0.0046456520731491535], \"text\": null, \"type\": \"scatter\", \"hoverinfo\": \"text\"}, {\"yaxis\": \"y\", \"y\": [135.0, 135.0, 145.0, 145.0], \"xaxis\": \"x\", \"marker\": {\"color\": \"rgb(61,153,112)\"}, \"mode\": \"lines\", \"x\": [-0.0, -0.0, -0.0, -0.0], \"text\": null, \"type\": \"scatter\", \"hoverinfo\": \"text\"}, {\"yaxis\": \"y\", \"y\": [125.0, 125.0, 140.0, 140.0], \"xaxis\": \"x\", \"marker\": {\"color\": \"rgb(61,153,112)\"}, \"mode\": \"lines\", \"x\": [-0.0, -0.0, -0.0, -0.0], \"text\": null, \"type\": \"scatter\", \"hoverinfo\": \"text\"}, {\"yaxis\": \"y\", \"y\": [115.0, 115.0, 132.5, 132.5], \"xaxis\": \"x\", \"marker\": {\"color\": \"rgb(61,153,112)\"}, \"mode\": \"lines\", \"x\": [-0.0, -0.0, -0.0, -0.0], \"text\": null, \"type\": \"scatter\", \"hoverinfo\": \"text\"}, {\"yaxis\": \"y\", \"y\": [105.0, 105.0, 123.75, 123.75], \"xaxis\": \"x\", \"marker\": {\"color\": \"rgb(61,153,112)\"}, \"mode\": \"lines\", \"x\": [-0.0, -5.186073792629031e-12, -5.186073792629031e-12, -0.0], \"text\": null, \"type\": \"scatter\", \"hoverinfo\": \"text\"}, {\"yaxis\": \"y\", \"y\": [95.0, 95.0, 114.375, 114.375], \"xaxis\": \"x\", \"marker\": {\"color\": \"rgb(61,153,112)\"}, \"mode\": \"lines\", \"x\": [-0.0, -9.624079311265632e-12, -9.624079311265632e-12, -5.186073792629031e-12], \"text\": null, \"type\": \"scatter\", \"hoverinfo\": \"text\"}, {\"yaxis\": \"y\", \"y\": [85.0, 85.0, 104.6875, 104.6875], \"xaxis\": \"x\", \"marker\": {\"color\": \"rgb(61,153,112)\"}, \"mode\": \"lines\", \"x\": [-0.0, -0.004983104633709694, -0.004983104633709694, -9.624079311265632e-12], \"text\": null, \"type\": \"scatter\", \"hoverinfo\": \"text\"}, {\"yaxis\": \"y\", \"y\": [75.0, 75.0, 94.84375, 94.84375], \"xaxis\": \"x\", \"marker\": {\"color\": \"rgb(61,153,112)\"}, \"mode\": \"lines\", \"x\": [-0.0, -0.019381384261157448, -0.019381384261157448, -0.004983104633709694], \"text\": null, \"type\": \"scatter\", \"hoverinfo\": \"text\"}, {\"yaxis\": \"y\", \"y\": [43.75, 43.75, 84.921875, 84.921875], \"xaxis\": \"x\", \"marker\": {\"color\": \"rgb(61,153,112)\"}, \"mode\": \"lines\", \"x\": [-0.010188991615907805, -0.0607558865885848, -0.0607558865885848, -0.019381384261157448], \"text\": null, \"type\": \"scatter\", \"hoverinfo\": \"text\"}, {\"yaxis\": \"y\", \"y\": [25.0, 25.0, 64.3359375, 64.3359375], \"xaxis\": \"x\", \"marker\": {\"color\": \"rgb(61,153,112)\"}, \"mode\": \"lines\", \"x\": [-0.0, -0.1307153248476986, -0.1307153248476986, -0.0607558865885848], \"text\": null, \"type\": \"scatter\", \"hoverinfo\": \"text\"}, {\"yaxis\": \"y\", \"y\": [215.0, 215.0, 225.0, 225.0], \"xaxis\": \"x\", \"marker\": {\"color\": \"rgb(61,153,112)\"}, \"mode\": \"lines\", \"x\": [-0.0, -0.0003407472253832422, -0.0003407472253832422, -0.0], \"text\": null, \"type\": \"scatter\", \"hoverinfo\": \"text\"}, {\"yaxis\": \"y\", \"y\": [205.0, 205.0, 220.0, 220.0], \"xaxis\": \"x\", \"marker\": {\"color\": \"rgb(61,153,112)\"}, \"mode\": \"lines\", \"x\": [-0.0, -0.000619231721416702, -0.000619231721416702, -0.0003407472253832422], \"text\": null, \"type\": \"scatter\", \"hoverinfo\": \"text\"}, {\"yaxis\": \"y\", \"y\": [195.0, 195.0, 212.5, 212.5], \"xaxis\": \"x\", \"marker\": {\"color\": \"rgb(61,153,112)\"}, \"mode\": \"lines\", \"x\": [-0.0, -0.00255648240221699, -0.00255648240221699, -0.000619231721416702], \"text\": null, \"type\": \"scatter\", \"hoverinfo\": \"text\"}, {\"yaxis\": \"y\", \"y\": [185.0, 185.0, 203.75, 203.75], \"xaxis\": \"x\", \"marker\": {\"color\": \"rgb(61,153,112)\"}, \"mode\": \"lines\", \"x\": [-0.0, -0.012515179402454085, -0.012515179402454085, -0.00255648240221699], \"text\": null, \"type\": \"scatter\", \"hoverinfo\": \"text\"}, {\"yaxis\": \"y\", \"y\": [175.0, 175.0, 194.375, 194.375], \"xaxis\": \"x\", \"marker\": {\"color\": \"rgb(61,153,112)\"}, \"mode\": \"lines\", \"x\": [-0.0, -0.015872034968189053, -0.015872034968189053, -0.012515179402454085], \"text\": null, \"type\": \"scatter\", \"hoverinfo\": \"text\"}, {\"yaxis\": \"y\", \"y\": [265.0, 265.0, 275.0, 275.0], \"xaxis\": \"x\", \"marker\": {\"color\": \"rgb(61,153,112)\"}, \"mode\": \"lines\", \"x\": [-0.0, -3.781419621873283e-12, -3.781419621873283e-12, -0.0], \"text\": null, \"type\": \"scatter\", \"hoverinfo\": \"text\"}, {\"yaxis\": \"y\", \"y\": [255.0, 255.0, 270.0, 270.0], \"xaxis\": \"x\", \"marker\": {\"color\": \"rgb(61,153,112)\"}, \"mode\": \"lines\", \"x\": [-0.0, -1.096828183833054e-11, -1.096828183833054e-11, -3.781419621873283e-12], \"text\": null, \"type\": \"scatter\", \"hoverinfo\": \"text\"}, {\"yaxis\": \"y\", \"y\": [245.0, 245.0, 262.5, 262.5], \"xaxis\": \"x\", \"marker\": {\"color\": \"rgb(61,153,112)\"}, \"mode\": \"lines\", \"x\": [-0.0, -1.4438931531894165e-11, -1.4438931531894165e-11, -1.096828183833054e-11], \"text\": null, \"type\": \"scatter\", \"hoverinfo\": \"text\"}, {\"yaxis\": \"y\", \"y\": [305.0, 305.0, 315.0, 315.0], \"xaxis\": \"x\", \"marker\": {\"color\": \"rgb(61,153,112)\"}, \"mode\": \"lines\", \"x\": [-0.0, -0.0, -0.0, -0.0], \"text\": null, \"type\": \"scatter\", \"hoverinfo\": \"text\"}, {\"yaxis\": \"y\", \"y\": [295.0, 295.0, 310.0, 310.0], \"xaxis\": \"x\", \"marker\": {\"color\": \"rgb(61,153,112)\"}, \"mode\": \"lines\", \"x\": [-0.0, -0.00010691685209662793, -0.00010691685209662793, -0.0], \"text\": null, \"type\": \"scatter\", \"hoverinfo\": \"text\"}, {\"yaxis\": \"y\", \"y\": [285.0, 285.0, 302.5, 302.5], \"xaxis\": \"x\", \"marker\": {\"color\": \"rgb(61,153,112)\"}, \"mode\": \"lines\", \"x\": [-0.0, -0.00029127860431125513, -0.00029127860431125513, -0.00010691685209662793], \"text\": null, \"type\": \"scatter\", \"hoverinfo\": \"text\"}, {\"yaxis\": \"y\", \"y\": [253.75, 253.75, 293.75, 293.75], \"xaxis\": \"x\", \"marker\": {\"color\": \"rgb(61,153,112)\"}, \"mode\": \"lines\", \"x\": [-1.4438931531894165e-11, -0.0007838763292193907, -0.0007838763292193907, -0.00029127860431125513], \"text\": null, \"type\": \"scatter\", \"hoverinfo\": \"text\"}, {\"yaxis\": \"y\", \"y\": [235.0, 235.0, 273.75, 273.75], \"xaxis\": \"x\", \"marker\": {\"color\": \"rgb(61,153,112)\"}, \"mode\": \"lines\", \"x\": [-0.0, -0.034321239054893704, -0.034321239054893704, -0.0007838763292193907], \"text\": null, \"type\": \"scatter\", \"hoverinfo\": \"text\"}, {\"yaxis\": \"y\", \"y\": [184.6875, 184.6875, 254.375, 254.375], \"xaxis\": \"x\", \"marker\": {\"color\": \"rgb(61,153,112)\"}, \"mode\": \"lines\", \"x\": [-0.015872034968189053, -0.08387357218325307, -0.08387357218325307, -0.034321239054893704], \"text\": null, \"type\": \"scatter\", \"hoverinfo\": \"text\"}, {\"yaxis\": \"y\", \"y\": [165.0, 165.0, 219.53125, 219.53125], \"xaxis\": \"x\", \"marker\": {\"color\": \"rgb(61,153,112)\"}, \"mode\": \"lines\", \"x\": [-0.0, -0.1666080358954327, -0.1666080358954327, -0.08387357218325307], \"text\": null, \"type\": \"scatter\", \"hoverinfo\": \"text\"}, {\"yaxis\": \"y\", \"y\": [155.0, 155.0, 192.265625, 192.265625], \"xaxis\": \"x\", \"marker\": {\"color\": \"rgb(61,153,112)\"}, \"mode\": \"lines\", \"x\": [-0.0, -0.1872160079368555, -0.1872160079368555, -0.1666080358954327], \"text\": null, \"type\": \"scatter\", \"hoverinfo\": \"text\"}, {\"yaxis\": \"y\", \"y\": [44.66796875, 44.66796875, 173.6328125, 173.6328125], \"xaxis\": \"x\", \"marker\": {\"color\": \"rgb(61,153,112)\"}, \"mode\": \"lines\", \"x\": [-0.1307153248476986, -0.2062348614454404, -0.2062348614454404, -0.1872160079368555], \"text\": null, \"type\": \"scatter\", \"hoverinfo\": \"text\"}, {\"yaxis\": \"y\", \"y\": [325.0, 325.0, 335.0, 335.0], \"xaxis\": \"x\", \"marker\": {\"color\": \"rgb(61,153,112)\"}, \"mode\": \"lines\", \"x\": [-0.0, -0.32785552924746586, -0.32785552924746586, -0.0], \"text\": null, \"type\": \"scatter\", \"hoverinfo\": \"text\"}, {\"yaxis\": \"y\", \"y\": [109.150390625, 109.150390625, 330.0, 330.0], \"xaxis\": \"x\", \"marker\": {\"color\": \"rgb(61,153,112)\"}, \"mode\": \"lines\", \"x\": [-0.2062348614454404, -0.43692793004153196, -0.43692793004153196, -0.32785552924746586], \"text\": null, \"type\": \"scatter\", \"hoverinfo\": \"text\"}, {\"yaxis\": \"y\", \"y\": [15.0, 15.0, 219.5751953125, 219.5751953125], \"xaxis\": \"x\", \"marker\": {\"color\": \"rgb(0,116,217)\"}, \"mode\": \"lines\", \"x\": [-0.0, -0.7519344176980658, -0.7519344176980658, -0.43692793004153196], \"text\": null, \"type\": \"scatter\", \"hoverinfo\": \"text\"}, {\"yaxis\": \"y\", \"y\": [355.0, 355.0, 365.0, 365.0], \"xaxis\": \"x\", \"marker\": {\"color\": \"rgb(255,65,54)\"}, \"mode\": \"lines\", \"x\": [-0.0, -0.001023196075810917, -0.001023196075810917, -0.0], \"text\": null, \"type\": \"scatter\", \"hoverinfo\": \"text\"}, {\"yaxis\": \"y\", \"y\": [395.0, 395.0, 405.0, 405.0], \"xaxis\": \"x\", \"marker\": {\"color\": \"rgb(255,65,54)\"}, \"mode\": \"lines\", \"x\": [-0.0, -0.00011012413482891503, -0.00011012413482891503, -0.0], \"text\": null, \"type\": \"scatter\", \"hoverinfo\": \"text\"}, {\"yaxis\": \"y\", \"y\": [385.0, 385.0, 400.0, 400.0], \"xaxis\": \"x\", \"marker\": {\"color\": \"rgb(255,65,54)\"}, \"mode\": \"lines\", \"x\": [-0.0, -0.03522698807875185, -0.03522698807875185, -0.00011012413482891503], \"text\": null, \"type\": \"scatter\", \"hoverinfo\": \"text\"}, {\"yaxis\": \"y\", \"y\": [375.0, 375.0, 392.5, 392.5], \"xaxis\": \"x\", \"marker\": {\"color\": \"rgb(255,65,54)\"}, \"mode\": \"lines\", \"x\": [-0.0, -0.07320467269174043, -0.07320467269174043, -0.03522698807875185], \"text\": null, \"type\": \"scatter\", \"hoverinfo\": \"text\"}, {\"yaxis\": \"y\", \"y\": [360.0, 360.0, 383.75, 383.75], \"xaxis\": \"x\", \"marker\": {\"color\": \"rgb(255,65,54)\"}, \"mode\": \"lines\", \"x\": [-0.001023196075810917, -0.09128256958830917, -0.09128256958830917, -0.07320467269174043], \"text\": null, \"type\": \"scatter\", \"hoverinfo\": \"text\"}, {\"yaxis\": \"y\", \"y\": [345.0, 345.0, 371.875, 371.875], \"xaxis\": \"x\", \"marker\": {\"color\": \"rgb(0,116,217)\"}, \"mode\": \"lines\", \"x\": [-0.0, -0.7573913959711701, -0.7573913959711701, -0.09128256958830917], \"text\": null, \"type\": \"scatter\", \"hoverinfo\": \"text\"}, {\"yaxis\": \"y\", \"y\": [117.28759765625, 117.28759765625, 358.4375, 358.4375], \"xaxis\": \"x\", \"marker\": {\"color\": \"rgb(0,116,217)\"}, \"mode\": \"lines\", \"x\": [-0.7519344176980658, -0.8638546266705828, -0.8638546266705828, -0.7573913959711701], \"text\": null, \"type\": \"scatter\", \"hoverinfo\": \"text\"}, {\"yaxis\": \"y\", \"y\": [5.0, 5.0, 237.862548828125, 237.862548828125], \"xaxis\": \"x\", \"marker\": {\"color\": \"rgb(0,116,217)\"}, \"mode\": \"lines\", \"x\": [-0.0, -1.0, -1.0, -0.8638546266705828], \"text\": null, \"type\": \"scatter\", \"hoverinfo\": \"text\"}], {\"yaxis\": {\"ticktext\": [\"raohp_nonphylogenetic_weighted\", \"mnnd_phylogenetic_weighted\", \"hellinger_nonphylogenetic_weighted\", \"yue_clayton_nonphylogenetic_weighted\", \"morisita_horn_nonphylogenetic_weighted\", \"weighted_corr_nonphylogenetic_weighted\", \"pearson_nonphylogenetic_weighted\", \"euclidean_nonphylogenetic_weighted\", \"soergel_nonphylogenetic_weighted\", \"tamas_coeff_nonphylogenetic_weighted\", \"manhattan_nonphylogenetic_weighted\", \"braycurtis_nonphylogenetic_weighted\", \"kulczynski_nonphylogenetic_weighted\", \"lennon_nonphylogenetic_weighted\", \"whittaker_nonphylogenetic_weighted\", \"hellinger_phylogenetic_weighted\", \"lennon_phylogenetic_weighted\", \"pearson_phylogenetic_weighted\", \"p_st_phylogenetic_weighted\", \"morisita_horn_phylogenetic_weighted\", \"raohp_phylogenetic_weighted\", \"weighted_corr_phylogenetic_weighted\", \"yue_clayton_phylogenetic_weighted\", \"euclidean_phylogenetic_weighted\", \"manhattan_phylogenetic_weighted\", \"complete_tree_phylogenetic_weighted\", \"whittaker_phylogenetic_weighted\", \"tamas_coeff_phylogenetic_weighted\", \"soergel_phylogenetic_weighted\", \"kulczynski_phylogenetic_weighted\", \"braycurtis_phylogenetic_weighted\", \"normalized_weighted_unifrac_phylogenetic_weighted\", \"chi_squared_phylogenetic_weighted\", \"chi_squared_nonphylogenetic_weighted\", \"mpd_phylogenetic_weighted\", \"canberra_phylogenetic_weighted\", \"coeff_similarity_phylogenetic_weighted\", \"gower_phylogenetic_weighted\", \"gower_nonphylogenetic_weighted\", \"coeff_similarity_nonphylogenetic_weighted\", \"canberra_nonphylogenetic_weighted\"], \"tickmode\": \"array\", \"tickvals\": [5, 15, 25, 35, 45, 55, 65, 75, 85, 95, 105, 115, 125, 135, 145, 155, 165, 175, 185, 195, 205, 215, 225, 235, 245, 255, 265, 275, 285, 295, 305, 315, 325, 335, 345, 355, 365, 375, 385, 395, 405], \"rangemode\": \"tozero\", \"zeroline\": false, \"showline\": true, \"side\": \"right\", \"type\": \"linear\", \"ticks\": \"outside\", \"showgrid\": false, \"showticklabels\": true, \"mirror\": \"allticks\"}, \"hovermode\": \"closest\", \"height\": 600, \"margin\": {\"r\": 250}, \"width\": 800, \"xaxis\": {\"showgrid\": false, \"mirror\": \"allticks\", \"type\": \"linear\", \"ticks\": \"outside\", \"rangemode\": \"tozero\", \"showticklabels\": true, \"showline\": true, \"zeroline\": false}, \"showlegend\": false, \"autosize\": false}, {\"showLink\": true, \"linkText\": \"Export to plot.ly\"})});</script>"
      ],
      "text/vnd.plotly.v1+html": [
       "<div id=\"eb69945a-65cd-42a6-af53-2fdfc008a9bc\" style=\"height: 600px; width: 800px;\" class=\"plotly-graph-div\"></div><script type=\"text/javascript\">require([\"plotly\"], function(Plotly) { window.PLOTLYENV=window.PLOTLYENV || {};window.PLOTLYENV.BASE_URL=\"https://plot.ly\";Plotly.newPlot(\"eb69945a-65cd-42a6-af53-2fdfc008a9bc\", [{\"yaxis\": \"y\", \"y\": [55.0, 55.0, 65.0, 65.0], \"xaxis\": \"x\", \"marker\": {\"color\": \"rgb(61,153,112)\"}, \"mode\": \"lines\", \"x\": [-0.0, -0.0, -0.0, -0.0], \"text\": null, \"type\": \"scatter\", \"hoverinfo\": \"text\"}, {\"yaxis\": \"y\", \"y\": [45.0, 45.0, 60.0, 60.0], \"xaxis\": \"x\", \"marker\": {\"color\": \"rgb(61,153,112)\"}, \"mode\": \"lines\", \"x\": [-0.0, -0.0046456520731491535, -0.0046456520731491535, -0.0], \"text\": null, \"type\": \"scatter\", \"hoverinfo\": \"text\"}, {\"yaxis\": \"y\", \"y\": [35.0, 35.0, 52.5, 52.5], \"xaxis\": \"x\", \"marker\": {\"color\": \"rgb(61,153,112)\"}, \"mode\": \"lines\", \"x\": [-0.0, -0.010188991615907805, -0.010188991615907805, -0.0046456520731491535], \"text\": null, \"type\": \"scatter\", \"hoverinfo\": \"text\"}, {\"yaxis\": \"y\", \"y\": [135.0, 135.0, 145.0, 145.0], \"xaxis\": \"x\", \"marker\": {\"color\": \"rgb(61,153,112)\"}, \"mode\": \"lines\", \"x\": [-0.0, -0.0, -0.0, -0.0], \"text\": null, \"type\": \"scatter\", \"hoverinfo\": \"text\"}, {\"yaxis\": \"y\", \"y\": [125.0, 125.0, 140.0, 140.0], \"xaxis\": \"x\", \"marker\": {\"color\": \"rgb(61,153,112)\"}, \"mode\": \"lines\", \"x\": [-0.0, -0.0, -0.0, -0.0], \"text\": null, \"type\": \"scatter\", \"hoverinfo\": \"text\"}, {\"yaxis\": \"y\", \"y\": [115.0, 115.0, 132.5, 132.5], \"xaxis\": \"x\", \"marker\": {\"color\": \"rgb(61,153,112)\"}, \"mode\": \"lines\", \"x\": [-0.0, -0.0, -0.0, -0.0], \"text\": null, \"type\": \"scatter\", \"hoverinfo\": \"text\"}, {\"yaxis\": \"y\", \"y\": [105.0, 105.0, 123.75, 123.75], \"xaxis\": \"x\", \"marker\": {\"color\": \"rgb(61,153,112)\"}, \"mode\": \"lines\", \"x\": [-0.0, -5.186073792629031e-12, -5.186073792629031e-12, -0.0], \"text\": null, \"type\": \"scatter\", \"hoverinfo\": \"text\"}, {\"yaxis\": \"y\", \"y\": [95.0, 95.0, 114.375, 114.375], \"xaxis\": \"x\", \"marker\": {\"color\": \"rgb(61,153,112)\"}, \"mode\": \"lines\", \"x\": [-0.0, -9.624079311265632e-12, -9.624079311265632e-12, -5.186073792629031e-12], \"text\": null, \"type\": \"scatter\", \"hoverinfo\": \"text\"}, {\"yaxis\": \"y\", \"y\": [85.0, 85.0, 104.6875, 104.6875], \"xaxis\": \"x\", \"marker\": {\"color\": \"rgb(61,153,112)\"}, \"mode\": \"lines\", \"x\": [-0.0, -0.004983104633709694, -0.004983104633709694, -9.624079311265632e-12], \"text\": null, \"type\": \"scatter\", \"hoverinfo\": \"text\"}, {\"yaxis\": \"y\", \"y\": [75.0, 75.0, 94.84375, 94.84375], \"xaxis\": \"x\", \"marker\": {\"color\": \"rgb(61,153,112)\"}, \"mode\": \"lines\", \"x\": [-0.0, -0.019381384261157448, -0.019381384261157448, -0.004983104633709694], \"text\": null, \"type\": \"scatter\", \"hoverinfo\": \"text\"}, {\"yaxis\": \"y\", \"y\": [43.75, 43.75, 84.921875, 84.921875], \"xaxis\": \"x\", \"marker\": {\"color\": \"rgb(61,153,112)\"}, \"mode\": \"lines\", \"x\": [-0.010188991615907805, -0.0607558865885848, -0.0607558865885848, -0.019381384261157448], \"text\": null, \"type\": \"scatter\", \"hoverinfo\": \"text\"}, {\"yaxis\": \"y\", \"y\": [25.0, 25.0, 64.3359375, 64.3359375], \"xaxis\": \"x\", \"marker\": {\"color\": \"rgb(61,153,112)\"}, \"mode\": \"lines\", \"x\": [-0.0, -0.1307153248476986, -0.1307153248476986, -0.0607558865885848], \"text\": null, \"type\": \"scatter\", \"hoverinfo\": \"text\"}, {\"yaxis\": \"y\", \"y\": [215.0, 215.0, 225.0, 225.0], \"xaxis\": \"x\", \"marker\": {\"color\": \"rgb(61,153,112)\"}, \"mode\": \"lines\", \"x\": [-0.0, -0.0003407472253832422, -0.0003407472253832422, -0.0], \"text\": null, \"type\": \"scatter\", \"hoverinfo\": \"text\"}, {\"yaxis\": \"y\", \"y\": [205.0, 205.0, 220.0, 220.0], \"xaxis\": \"x\", \"marker\": {\"color\": \"rgb(61,153,112)\"}, \"mode\": \"lines\", \"x\": [-0.0, -0.000619231721416702, -0.000619231721416702, -0.0003407472253832422], \"text\": null, \"type\": \"scatter\", \"hoverinfo\": \"text\"}, {\"yaxis\": \"y\", \"y\": [195.0, 195.0, 212.5, 212.5], \"xaxis\": \"x\", \"marker\": {\"color\": \"rgb(61,153,112)\"}, \"mode\": \"lines\", \"x\": [-0.0, -0.00255648240221699, -0.00255648240221699, -0.000619231721416702], \"text\": null, \"type\": \"scatter\", \"hoverinfo\": \"text\"}, {\"yaxis\": \"y\", \"y\": [185.0, 185.0, 203.75, 203.75], \"xaxis\": \"x\", \"marker\": {\"color\": \"rgb(61,153,112)\"}, \"mode\": \"lines\", \"x\": [-0.0, -0.012515179402454085, -0.012515179402454085, -0.00255648240221699], \"text\": null, \"type\": \"scatter\", \"hoverinfo\": \"text\"}, {\"yaxis\": \"y\", \"y\": [175.0, 175.0, 194.375, 194.375], \"xaxis\": \"x\", \"marker\": {\"color\": \"rgb(61,153,112)\"}, \"mode\": \"lines\", \"x\": [-0.0, -0.015872034968189053, -0.015872034968189053, -0.012515179402454085], \"text\": null, \"type\": \"scatter\", \"hoverinfo\": \"text\"}, {\"yaxis\": \"y\", \"y\": [265.0, 265.0, 275.0, 275.0], \"xaxis\": \"x\", \"marker\": {\"color\": \"rgb(61,153,112)\"}, \"mode\": \"lines\", \"x\": [-0.0, -3.781419621873283e-12, -3.781419621873283e-12, -0.0], \"text\": null, \"type\": \"scatter\", \"hoverinfo\": \"text\"}, {\"yaxis\": \"y\", \"y\": [255.0, 255.0, 270.0, 270.0], \"xaxis\": \"x\", \"marker\": {\"color\": \"rgb(61,153,112)\"}, \"mode\": \"lines\", \"x\": [-0.0, -1.096828183833054e-11, -1.096828183833054e-11, -3.781419621873283e-12], \"text\": null, \"type\": \"scatter\", \"hoverinfo\": \"text\"}, {\"yaxis\": \"y\", \"y\": [245.0, 245.0, 262.5, 262.5], \"xaxis\": \"x\", \"marker\": {\"color\": \"rgb(61,153,112)\"}, \"mode\": \"lines\", \"x\": [-0.0, -1.4438931531894165e-11, -1.4438931531894165e-11, -1.096828183833054e-11], \"text\": null, \"type\": \"scatter\", \"hoverinfo\": \"text\"}, {\"yaxis\": \"y\", \"y\": [305.0, 305.0, 315.0, 315.0], \"xaxis\": \"x\", \"marker\": {\"color\": \"rgb(61,153,112)\"}, \"mode\": \"lines\", \"x\": [-0.0, -0.0, -0.0, -0.0], \"text\": null, \"type\": \"scatter\", \"hoverinfo\": \"text\"}, {\"yaxis\": \"y\", \"y\": [295.0, 295.0, 310.0, 310.0], \"xaxis\": \"x\", \"marker\": {\"color\": \"rgb(61,153,112)\"}, \"mode\": \"lines\", \"x\": [-0.0, -0.00010691685209662793, -0.00010691685209662793, -0.0], \"text\": null, \"type\": \"scatter\", \"hoverinfo\": \"text\"}, {\"yaxis\": \"y\", \"y\": [285.0, 285.0, 302.5, 302.5], \"xaxis\": \"x\", \"marker\": {\"color\": \"rgb(61,153,112)\"}, \"mode\": \"lines\", \"x\": [-0.0, -0.00029127860431125513, -0.00029127860431125513, -0.00010691685209662793], \"text\": null, \"type\": \"scatter\", \"hoverinfo\": \"text\"}, {\"yaxis\": \"y\", \"y\": [253.75, 253.75, 293.75, 293.75], \"xaxis\": \"x\", \"marker\": {\"color\": \"rgb(61,153,112)\"}, \"mode\": \"lines\", \"x\": [-1.4438931531894165e-11, -0.0007838763292193907, -0.0007838763292193907, -0.00029127860431125513], \"text\": null, \"type\": \"scatter\", \"hoverinfo\": \"text\"}, {\"yaxis\": \"y\", \"y\": [235.0, 235.0, 273.75, 273.75], \"xaxis\": \"x\", \"marker\": {\"color\": \"rgb(61,153,112)\"}, \"mode\": \"lines\", \"x\": [-0.0, -0.034321239054893704, -0.034321239054893704, -0.0007838763292193907], \"text\": null, \"type\": \"scatter\", \"hoverinfo\": \"text\"}, {\"yaxis\": \"y\", \"y\": [184.6875, 184.6875, 254.375, 254.375], \"xaxis\": \"x\", \"marker\": {\"color\": \"rgb(61,153,112)\"}, \"mode\": \"lines\", \"x\": [-0.015872034968189053, -0.08387357218325307, -0.08387357218325307, -0.034321239054893704], \"text\": null, \"type\": \"scatter\", \"hoverinfo\": \"text\"}, {\"yaxis\": \"y\", \"y\": [165.0, 165.0, 219.53125, 219.53125], \"xaxis\": \"x\", \"marker\": {\"color\": \"rgb(61,153,112)\"}, \"mode\": \"lines\", \"x\": [-0.0, -0.1666080358954327, -0.1666080358954327, -0.08387357218325307], \"text\": null, \"type\": \"scatter\", \"hoverinfo\": \"text\"}, {\"yaxis\": \"y\", \"y\": [155.0, 155.0, 192.265625, 192.265625], \"xaxis\": \"x\", \"marker\": {\"color\": \"rgb(61,153,112)\"}, \"mode\": \"lines\", \"x\": [-0.0, -0.1872160079368555, -0.1872160079368555, -0.1666080358954327], \"text\": null, \"type\": \"scatter\", \"hoverinfo\": \"text\"}, {\"yaxis\": \"y\", \"y\": [44.66796875, 44.66796875, 173.6328125, 173.6328125], \"xaxis\": \"x\", \"marker\": {\"color\": \"rgb(61,153,112)\"}, \"mode\": \"lines\", \"x\": [-0.1307153248476986, -0.2062348614454404, -0.2062348614454404, -0.1872160079368555], \"text\": null, \"type\": \"scatter\", \"hoverinfo\": \"text\"}, {\"yaxis\": \"y\", \"y\": [325.0, 325.0, 335.0, 335.0], \"xaxis\": \"x\", \"marker\": {\"color\": \"rgb(61,153,112)\"}, \"mode\": \"lines\", \"x\": [-0.0, -0.32785552924746586, -0.32785552924746586, -0.0], \"text\": null, \"type\": \"scatter\", \"hoverinfo\": \"text\"}, {\"yaxis\": \"y\", \"y\": [109.150390625, 109.150390625, 330.0, 330.0], \"xaxis\": \"x\", \"marker\": {\"color\": \"rgb(61,153,112)\"}, \"mode\": \"lines\", \"x\": [-0.2062348614454404, -0.43692793004153196, -0.43692793004153196, -0.32785552924746586], \"text\": null, \"type\": \"scatter\", \"hoverinfo\": \"text\"}, {\"yaxis\": \"y\", \"y\": [15.0, 15.0, 219.5751953125, 219.5751953125], \"xaxis\": \"x\", \"marker\": {\"color\": \"rgb(0,116,217)\"}, \"mode\": \"lines\", \"x\": [-0.0, -0.7519344176980658, -0.7519344176980658, -0.43692793004153196], \"text\": null, \"type\": \"scatter\", \"hoverinfo\": \"text\"}, {\"yaxis\": \"y\", \"y\": [355.0, 355.0, 365.0, 365.0], \"xaxis\": \"x\", \"marker\": {\"color\": \"rgb(255,65,54)\"}, \"mode\": \"lines\", \"x\": [-0.0, -0.001023196075810917, -0.001023196075810917, -0.0], \"text\": null, \"type\": \"scatter\", \"hoverinfo\": \"text\"}, {\"yaxis\": \"y\", \"y\": [395.0, 395.0, 405.0, 405.0], \"xaxis\": \"x\", \"marker\": {\"color\": \"rgb(255,65,54)\"}, \"mode\": \"lines\", \"x\": [-0.0, -0.00011012413482891503, -0.00011012413482891503, -0.0], \"text\": null, \"type\": \"scatter\", \"hoverinfo\": \"text\"}, {\"yaxis\": \"y\", \"y\": [385.0, 385.0, 400.0, 400.0], \"xaxis\": \"x\", \"marker\": {\"color\": \"rgb(255,65,54)\"}, \"mode\": \"lines\", \"x\": [-0.0, -0.03522698807875185, -0.03522698807875185, -0.00011012413482891503], \"text\": null, \"type\": \"scatter\", \"hoverinfo\": \"text\"}, {\"yaxis\": \"y\", \"y\": [375.0, 375.0, 392.5, 392.5], \"xaxis\": \"x\", \"marker\": {\"color\": \"rgb(255,65,54)\"}, \"mode\": \"lines\", \"x\": [-0.0, -0.07320467269174043, -0.07320467269174043, -0.03522698807875185], \"text\": null, \"type\": \"scatter\", \"hoverinfo\": \"text\"}, {\"yaxis\": \"y\", \"y\": [360.0, 360.0, 383.75, 383.75], \"xaxis\": \"x\", \"marker\": {\"color\": \"rgb(255,65,54)\"}, \"mode\": \"lines\", \"x\": [-0.001023196075810917, -0.09128256958830917, -0.09128256958830917, -0.07320467269174043], \"text\": null, \"type\": \"scatter\", \"hoverinfo\": \"text\"}, {\"yaxis\": \"y\", \"y\": [345.0, 345.0, 371.875, 371.875], \"xaxis\": \"x\", \"marker\": {\"color\": \"rgb(0,116,217)\"}, \"mode\": \"lines\", \"x\": [-0.0, -0.7573913959711701, -0.7573913959711701, -0.09128256958830917], \"text\": null, \"type\": \"scatter\", \"hoverinfo\": \"text\"}, {\"yaxis\": \"y\", \"y\": [117.28759765625, 117.28759765625, 358.4375, 358.4375], \"xaxis\": \"x\", \"marker\": {\"color\": \"rgb(0,116,217)\"}, \"mode\": \"lines\", \"x\": [-0.7519344176980658, -0.8638546266705828, -0.8638546266705828, -0.7573913959711701], \"text\": null, \"type\": \"scatter\", \"hoverinfo\": \"text\"}, {\"yaxis\": \"y\", \"y\": [5.0, 5.0, 237.862548828125, 237.862548828125], \"xaxis\": \"x\", \"marker\": {\"color\": \"rgb(0,116,217)\"}, \"mode\": \"lines\", \"x\": [-0.0, -1.0, -1.0, -0.8638546266705828], \"text\": null, \"type\": \"scatter\", \"hoverinfo\": \"text\"}], {\"yaxis\": {\"ticktext\": [\"raohp_nonphylogenetic_weighted\", \"mnnd_phylogenetic_weighted\", \"hellinger_nonphylogenetic_weighted\", \"yue_clayton_nonphylogenetic_weighted\", \"morisita_horn_nonphylogenetic_weighted\", \"weighted_corr_nonphylogenetic_weighted\", \"pearson_nonphylogenetic_weighted\", \"euclidean_nonphylogenetic_weighted\", \"soergel_nonphylogenetic_weighted\", \"tamas_coeff_nonphylogenetic_weighted\", \"manhattan_nonphylogenetic_weighted\", \"braycurtis_nonphylogenetic_weighted\", \"kulczynski_nonphylogenetic_weighted\", \"lennon_nonphylogenetic_weighted\", \"whittaker_nonphylogenetic_weighted\", \"hellinger_phylogenetic_weighted\", \"lennon_phylogenetic_weighted\", \"pearson_phylogenetic_weighted\", \"p_st_phylogenetic_weighted\", \"morisita_horn_phylogenetic_weighted\", \"raohp_phylogenetic_weighted\", \"weighted_corr_phylogenetic_weighted\", \"yue_clayton_phylogenetic_weighted\", \"euclidean_phylogenetic_weighted\", \"manhattan_phylogenetic_weighted\", \"complete_tree_phylogenetic_weighted\", \"whittaker_phylogenetic_weighted\", \"tamas_coeff_phylogenetic_weighted\", \"soergel_phylogenetic_weighted\", \"kulczynski_phylogenetic_weighted\", \"braycurtis_phylogenetic_weighted\", \"normalized_weighted_unifrac_phylogenetic_weighted\", \"chi_squared_phylogenetic_weighted\", \"chi_squared_nonphylogenetic_weighted\", \"mpd_phylogenetic_weighted\", \"canberra_phylogenetic_weighted\", \"coeff_similarity_phylogenetic_weighted\", \"gower_phylogenetic_weighted\", \"gower_nonphylogenetic_weighted\", \"coeff_similarity_nonphylogenetic_weighted\", \"canberra_nonphylogenetic_weighted\"], \"tickmode\": \"array\", \"tickvals\": [5, 15, 25, 35, 45, 55, 65, 75, 85, 95, 105, 115, 125, 135, 145, 155, 165, 175, 185, 195, 205, 215, 225, 235, 245, 255, 265, 275, 285, 295, 305, 315, 325, 335, 345, 355, 365, 375, 385, 395, 405], \"rangemode\": \"tozero\", \"zeroline\": false, \"showline\": true, \"side\": \"right\", \"type\": \"linear\", \"ticks\": \"outside\", \"showgrid\": false, \"showticklabels\": true, \"mirror\": \"allticks\"}, \"hovermode\": \"closest\", \"height\": 600, \"margin\": {\"r\": 250}, \"width\": 800, \"xaxis\": {\"showgrid\": false, \"mirror\": \"allticks\", \"type\": \"linear\", \"ticks\": \"outside\", \"rangemode\": \"tozero\", \"showticklabels\": true, \"showline\": true, \"zeroline\": false}, \"showlegend\": false, \"autosize\": false}, {\"showLink\": true, \"linkText\": \"Export to plot.ly\"})});</script>"
      ]
     },
     "metadata": {},
     "output_type": "display_data"
    }
   ],
   "source": [
    "plot_dm_dendrogram(filters=[\"unweighted\"],height=600)"
   ]
  },
  {
   "cell_type": "code",
   "execution_count": 24,
   "metadata": {},
   "outputs": [
    {
     "data": {
      "application/vnd.plotly.v1+json": {
       "data": [
        {
         "hoverinfo": "text",
         "marker": {
          "color": "rgb(61,153,112)"
         },
         "mode": "lines",
         "text": null,
         "type": "scatter",
         "x": [
          0,
          0,
          0,
          0
         ],
         "xaxis": "x",
         "y": [
          85,
          85,
          95,
          95
         ],
         "yaxis": "y"
        },
        {
         "hoverinfo": "text",
         "marker": {
          "color": "rgb(61,153,112)"
         },
         "mode": "lines",
         "text": null,
         "type": "scatter",
         "x": [
          0,
          0,
          0,
          0
         ],
         "xaxis": "x",
         "y": [
          75,
          75,
          90,
          90
         ],
         "yaxis": "y"
        },
        {
         "hoverinfo": "text",
         "marker": {
          "color": "rgb(61,153,112)"
         },
         "mode": "lines",
         "text": null,
         "type": "scatter",
         "x": [
          0,
          0,
          0,
          0
         ],
         "xaxis": "x",
         "y": [
          65,
          65,
          82.5,
          82.5
         ],
         "yaxis": "y"
        },
        {
         "hoverinfo": "text",
         "marker": {
          "color": "rgb(61,153,112)"
         },
         "mode": "lines",
         "text": null,
         "type": "scatter",
         "x": [
          0,
          -7.307709992687705e-12,
          -7.307709992687705e-12,
          0
         ],
         "xaxis": "x",
         "y": [
          55,
          55,
          73.75,
          73.75
         ],
         "yaxis": "y"
        },
        {
         "hoverinfo": "text",
         "marker": {
          "color": "rgb(61,153,112)"
         },
         "mode": "lines",
         "text": null,
         "type": "scatter",
         "x": [
          0,
          -0.015227326963747734,
          -0.015227326963747734,
          -7.307709992687705e-12
         ],
         "xaxis": "x",
         "y": [
          45,
          45,
          64.375,
          64.375
         ],
         "yaxis": "y"
        },
        {
         "hoverinfo": "text",
         "marker": {
          "color": "rgb(61,153,112)"
         },
         "mode": "lines",
         "text": null,
         "type": "scatter",
         "x": [
          0,
          -0.004182317591268192,
          -0.004182317591268192,
          0
         ],
         "xaxis": "x",
         "y": [
          125,
          125,
          135,
          135
         ],
         "yaxis": "y"
        },
        {
         "hoverinfo": "text",
         "marker": {
          "color": "rgb(61,153,112)"
         },
         "mode": "lines",
         "text": null,
         "type": "scatter",
         "x": [
          0,
          -0.005055166922387444,
          -0.005055166922387444,
          -0.004182317591268192
         ],
         "xaxis": "x",
         "y": [
          115,
          115,
          130,
          130
         ],
         "yaxis": "y"
        },
        {
         "hoverinfo": "text",
         "marker": {
          "color": "rgb(61,153,112)"
         },
         "mode": "lines",
         "text": null,
         "type": "scatter",
         "x": [
          0,
          -0.015938902532847837,
          -0.015938902532847837,
          -0.005055166922387444
         ],
         "xaxis": "x",
         "y": [
          105,
          105,
          122.5,
          122.5
         ],
         "yaxis": "y"
        },
        {
         "hoverinfo": "text",
         "marker": {
          "color": "rgb(61,153,112)"
         },
         "mode": "lines",
         "text": null,
         "type": "scatter",
         "x": [
          0,
          0,
          0,
          0
         ],
         "xaxis": "x",
         "y": [
          185,
          185,
          195,
          195
         ],
         "yaxis": "y"
        },
        {
         "hoverinfo": "text",
         "marker": {
          "color": "rgb(61,153,112)"
         },
         "mode": "lines",
         "text": null,
         "type": "scatter",
         "x": [
          0,
          0,
          0,
          0
         ],
         "xaxis": "x",
         "y": [
          175,
          175,
          190,
          190
         ],
         "yaxis": "y"
        },
        {
         "hoverinfo": "text",
         "marker": {
          "color": "rgb(61,153,112)"
         },
         "mode": "lines",
         "text": null,
         "type": "scatter",
         "x": [
          0,
          0,
          0,
          0
         ],
         "xaxis": "x",
         "y": [
          165,
          165,
          182.5,
          182.5
         ],
         "yaxis": "y"
        },
        {
         "hoverinfo": "text",
         "marker": {
          "color": "rgb(61,153,112)"
         },
         "mode": "lines",
         "text": null,
         "type": "scatter",
         "x": [
          0,
          -4.0527581290916714e-12,
          -4.0527581290916714e-12,
          0
         ],
         "xaxis": "x",
         "y": [
          155,
          155,
          173.75,
          173.75
         ],
         "yaxis": "y"
        },
        {
         "hoverinfo": "text",
         "marker": {
          "color": "rgb(61,153,112)"
         },
         "mode": "lines",
         "text": null,
         "type": "scatter",
         "x": [
          0,
          -0.0199402553947029,
          -0.0199402553947029,
          -4.0527581290916714e-12
         ],
         "xaxis": "x",
         "y": [
          145,
          145,
          164.375,
          164.375
         ],
         "yaxis": "y"
        },
        {
         "hoverinfo": "text",
         "marker": {
          "color": "rgb(61,153,112)"
         },
         "mode": "lines",
         "text": null,
         "type": "scatter",
         "x": [
          -0.015938902532847837,
          -0.07085392653508697,
          -0.07085392653508697,
          -0.0199402553947029
         ],
         "xaxis": "x",
         "y": [
          113.75,
          113.75,
          154.6875,
          154.6875
         ],
         "yaxis": "y"
        },
        {
         "hoverinfo": "text",
         "marker": {
          "color": "rgb(61,153,112)"
         },
         "mode": "lines",
         "text": null,
         "type": "scatter",
         "x": [
          -0.015227326963747734,
          -0.14815424329510204,
          -0.14815424329510204,
          -0.07085392653508697
         ],
         "xaxis": "x",
         "y": [
          54.6875,
          54.6875,
          134.21875,
          134.21875
         ],
         "yaxis": "y"
        },
        {
         "hoverinfo": "text",
         "marker": {
          "color": "rgb(61,153,112)"
         },
         "mode": "lines",
         "text": null,
         "type": "scatter",
         "x": [
          0,
          0,
          0,
          0
         ],
         "xaxis": "x",
         "y": [
          245,
          245,
          255,
          255
         ],
         "yaxis": "y"
        },
        {
         "hoverinfo": "text",
         "marker": {
          "color": "rgb(61,153,112)"
         },
         "mode": "lines",
         "text": null,
         "type": "scatter",
         "x": [
          0,
          -0.004815666386698947,
          -0.004815666386698947,
          0
         ],
         "xaxis": "x",
         "y": [
          235,
          235,
          250,
          250
         ],
         "yaxis": "y"
        },
        {
         "hoverinfo": "text",
         "marker": {
          "color": "rgb(61,153,112)"
         },
         "mode": "lines",
         "text": null,
         "type": "scatter",
         "x": [
          0,
          -0.008032575647370995,
          -0.008032575647370995,
          -0.004815666386698947
         ],
         "xaxis": "x",
         "y": [
          225,
          225,
          242.5,
          242.5
         ],
         "yaxis": "y"
        },
        {
         "hoverinfo": "text",
         "marker": {
          "color": "rgb(61,153,112)"
         },
         "mode": "lines",
         "text": null,
         "type": "scatter",
         "x": [
          0,
          -0.01993567049975989,
          -0.01993567049975989,
          -0.008032575647370995
         ],
         "xaxis": "x",
         "y": [
          215,
          215,
          233.75,
          233.75
         ],
         "yaxis": "y"
        },
        {
         "hoverinfo": "text",
         "marker": {
          "color": "rgb(61,153,112)"
         },
         "mode": "lines",
         "text": null,
         "type": "scatter",
         "x": [
          0,
          -0.20300255164785913,
          -0.20300255164785913,
          -0.01993567049975989
         ],
         "xaxis": "x",
         "y": [
          205,
          205,
          224.375,
          224.375
         ],
         "yaxis": "y"
        },
        {
         "hoverinfo": "text",
         "marker": {
          "color": "rgb(61,153,112)"
         },
         "mode": "lines",
         "text": null,
         "type": "scatter",
         "x": [
          -0.14815424329510204,
          -0.3119651460829286,
          -0.3119651460829286,
          -0.20300255164785913
         ],
         "xaxis": "x",
         "y": [
          94.453125,
          94.453125,
          214.6875,
          214.6875
         ],
         "yaxis": "y"
        },
        {
         "hoverinfo": "text",
         "marker": {
          "color": "rgb(61,153,112)"
         },
         "mode": "lines",
         "text": null,
         "type": "scatter",
         "x": [
          0,
          -0.4037271825994279,
          -0.4037271825994279,
          -0.3119651460829286
         ],
         "xaxis": "x",
         "y": [
          35,
          35,
          154.5703125,
          154.5703125
         ],
         "yaxis": "y"
        },
        {
         "hoverinfo": "text",
         "marker": {
          "color": "rgb(61,153,112)"
         },
         "mode": "lines",
         "text": null,
         "type": "scatter",
         "x": [
          0,
          -0.43213007222315075,
          -0.43213007222315075,
          -0.4037271825994279
         ],
         "xaxis": "x",
         "y": [
          25,
          25,
          94.78515625,
          94.78515625
         ],
         "yaxis": "y"
        },
        {
         "hoverinfo": "text",
         "marker": {
          "color": "rgb(0,116,217)"
         },
         "mode": "lines",
         "text": null,
         "type": "scatter",
         "x": [
          0,
          -0.6870341308591454,
          -0.6870341308591454,
          -0.43213007222315075
         ],
         "xaxis": "x",
         "y": [
          15,
          15,
          59.892578125,
          59.892578125
         ],
         "yaxis": "y"
        },
        {
         "hoverinfo": "text",
         "marker": {
          "color": "rgb(0,116,217)"
         },
         "mode": "lines",
         "text": null,
         "type": "scatter",
         "x": [
          0,
          -0.9641406698856753,
          -0.9641406698856753,
          -0.6870341308591454
         ],
         "xaxis": "x",
         "y": [
          5,
          5,
          37.4462890625,
          37.4462890625
         ],
         "yaxis": "y"
        }
       ],
       "layout": {
        "autosize": false,
        "height": 600,
        "hovermode": "closest",
        "margin": {
         "r": 250
        },
        "showlegend": false,
        "width": 800,
        "xaxis": {
         "mirror": "allticks",
         "rangemode": "tozero",
         "showgrid": false,
         "showline": true,
         "showticklabels": true,
         "ticks": "outside",
         "type": "linear",
         "zeroline": false
        },
        "yaxis": {
         "mirror": "allticks",
         "rangemode": "tozero",
         "showgrid": false,
         "showline": true,
         "showticklabels": true,
         "side": "right",
         "tickmode": "array",
         "ticks": "outside",
         "ticktext": [
          "mpd_phylogenetic_unweighted",
          "lennon_phylogenetic_unweighted",
          "mnnd_phylogenetic_unweighted",
          "pearson_phylogenetic_unweighted",
          "euclidean_nonphylogenetic_unweighted",
          "tamas_coeff_nonphylogenetic_unweighted",
          "gower_nonphylogenetic_unweighted",
          "canberra_nonphylogenetic_unweighted",
          "manhattan_nonphylogenetic_unweighted",
          "coeff_similarity_nonphylogenetic_unweighted",
          "kulczynski_phylogenetic_unweighted",
          "soergel_phylogenetic_unweighted",
          "weighted_corr_phylogenetic_unweighted",
          "braycurtis_phylogenetic_unweighted",
          "euclidean_phylogenetic_unweighted",
          "tamas_coeff_phylogenetic_unweighted",
          "gower_phylogenetic_unweighted",
          "coeff_similarity_phylogenetic_unweighted",
          "canberra_phylogenetic_unweighted",
          "manhattan_phylogenetic_unweighted",
          "lennon_nonphylogenetic_unweighted",
          "kulczynski_nonphylogenetic_unweighted",
          "soergel_nonphylogenetic_unweighted",
          "braycurtis_nonphylogenetic_unweighted",
          "pearson_nonphylogenetic_unweighted",
          "weighted_corr_nonphylogenetic_unweighted"
         ],
         "tickvals": [
          5,
          15,
          25,
          35,
          45,
          55,
          65,
          75,
          85,
          95,
          105,
          115,
          125,
          135,
          145,
          155,
          165,
          175,
          185,
          195,
          205,
          215,
          225,
          235,
          245,
          255
         ],
         "type": "linear",
         "zeroline": false
        }
       }
      },
      "text/html": [
       "<div id=\"41e36daf-6be0-4ffe-a8fa-c19eeee77e22\" style=\"height: 600px; width: 800px;\" class=\"plotly-graph-div\"></div><script type=\"text/javascript\">require([\"plotly\"], function(Plotly) { window.PLOTLYENV=window.PLOTLYENV || {};window.PLOTLYENV.BASE_URL=\"https://plot.ly\";Plotly.newPlot(\"41e36daf-6be0-4ffe-a8fa-c19eeee77e22\", [{\"yaxis\": \"y\", \"y\": [85.0, 85.0, 95.0, 95.0], \"xaxis\": \"x\", \"marker\": {\"color\": \"rgb(61,153,112)\"}, \"mode\": \"lines\", \"x\": [-0.0, -0.0, -0.0, -0.0], \"text\": null, \"type\": \"scatter\", \"hoverinfo\": \"text\"}, {\"yaxis\": \"y\", \"y\": [75.0, 75.0, 90.0, 90.0], \"xaxis\": \"x\", \"marker\": {\"color\": \"rgb(61,153,112)\"}, \"mode\": \"lines\", \"x\": [-0.0, -0.0, -0.0, -0.0], \"text\": null, \"type\": \"scatter\", \"hoverinfo\": \"text\"}, {\"yaxis\": \"y\", \"y\": [65.0, 65.0, 82.5, 82.5], \"xaxis\": \"x\", \"marker\": {\"color\": \"rgb(61,153,112)\"}, \"mode\": \"lines\", \"x\": [-0.0, -0.0, -0.0, -0.0], \"text\": null, \"type\": \"scatter\", \"hoverinfo\": \"text\"}, {\"yaxis\": \"y\", \"y\": [55.0, 55.0, 73.75, 73.75], \"xaxis\": \"x\", \"marker\": {\"color\": \"rgb(61,153,112)\"}, \"mode\": \"lines\", \"x\": [-0.0, -7.307709992687705e-12, -7.307709992687705e-12, -0.0], \"text\": null, \"type\": \"scatter\", \"hoverinfo\": \"text\"}, {\"yaxis\": \"y\", \"y\": [45.0, 45.0, 64.375, 64.375], \"xaxis\": \"x\", \"marker\": {\"color\": \"rgb(61,153,112)\"}, \"mode\": \"lines\", \"x\": [-0.0, -0.015227326963747734, -0.015227326963747734, -7.307709992687705e-12], \"text\": null, \"type\": \"scatter\", \"hoverinfo\": \"text\"}, {\"yaxis\": \"y\", \"y\": [125.0, 125.0, 135.0, 135.0], \"xaxis\": \"x\", \"marker\": {\"color\": \"rgb(61,153,112)\"}, \"mode\": \"lines\", \"x\": [-0.0, -0.004182317591268192, -0.004182317591268192, -0.0], \"text\": null, \"type\": \"scatter\", \"hoverinfo\": \"text\"}, {\"yaxis\": \"y\", \"y\": [115.0, 115.0, 130.0, 130.0], \"xaxis\": \"x\", \"marker\": {\"color\": \"rgb(61,153,112)\"}, \"mode\": \"lines\", \"x\": [-0.0, -0.005055166922387444, -0.005055166922387444, -0.004182317591268192], \"text\": null, \"type\": \"scatter\", \"hoverinfo\": \"text\"}, {\"yaxis\": \"y\", \"y\": [105.0, 105.0, 122.5, 122.5], \"xaxis\": \"x\", \"marker\": {\"color\": \"rgb(61,153,112)\"}, \"mode\": \"lines\", \"x\": [-0.0, -0.015938902532847837, -0.015938902532847837, -0.005055166922387444], \"text\": null, \"type\": \"scatter\", \"hoverinfo\": \"text\"}, {\"yaxis\": \"y\", \"y\": [185.0, 185.0, 195.0, 195.0], \"xaxis\": \"x\", \"marker\": {\"color\": \"rgb(61,153,112)\"}, \"mode\": \"lines\", \"x\": [-0.0, -0.0, -0.0, -0.0], \"text\": null, \"type\": \"scatter\", \"hoverinfo\": \"text\"}, {\"yaxis\": \"y\", \"y\": [175.0, 175.0, 190.0, 190.0], \"xaxis\": \"x\", \"marker\": {\"color\": \"rgb(61,153,112)\"}, \"mode\": \"lines\", \"x\": [-0.0, -0.0, -0.0, -0.0], \"text\": null, \"type\": \"scatter\", \"hoverinfo\": \"text\"}, {\"yaxis\": \"y\", \"y\": [165.0, 165.0, 182.5, 182.5], \"xaxis\": \"x\", \"marker\": {\"color\": \"rgb(61,153,112)\"}, \"mode\": \"lines\", \"x\": [-0.0, -0.0, -0.0, -0.0], \"text\": null, \"type\": \"scatter\", \"hoverinfo\": \"text\"}, {\"yaxis\": \"y\", \"y\": [155.0, 155.0, 173.75, 173.75], \"xaxis\": \"x\", \"marker\": {\"color\": \"rgb(61,153,112)\"}, \"mode\": \"lines\", \"x\": [-0.0, -4.0527581290916714e-12, -4.0527581290916714e-12, -0.0], \"text\": null, \"type\": \"scatter\", \"hoverinfo\": \"text\"}, {\"yaxis\": \"y\", \"y\": [145.0, 145.0, 164.375, 164.375], \"xaxis\": \"x\", \"marker\": {\"color\": \"rgb(61,153,112)\"}, \"mode\": \"lines\", \"x\": [-0.0, -0.0199402553947029, -0.0199402553947029, -4.0527581290916714e-12], \"text\": null, \"type\": \"scatter\", \"hoverinfo\": \"text\"}, {\"yaxis\": \"y\", \"y\": [113.75, 113.75, 154.6875, 154.6875], \"xaxis\": \"x\", \"marker\": {\"color\": \"rgb(61,153,112)\"}, \"mode\": \"lines\", \"x\": [-0.015938902532847837, -0.07085392653508697, -0.07085392653508697, -0.0199402553947029], \"text\": null, \"type\": \"scatter\", \"hoverinfo\": \"text\"}, {\"yaxis\": \"y\", \"y\": [54.6875, 54.6875, 134.21875, 134.21875], \"xaxis\": \"x\", \"marker\": {\"color\": \"rgb(61,153,112)\"}, \"mode\": \"lines\", \"x\": [-0.015227326963747734, -0.14815424329510204, -0.14815424329510204, -0.07085392653508697], \"text\": null, \"type\": \"scatter\", \"hoverinfo\": \"text\"}, {\"yaxis\": \"y\", \"y\": [245.0, 245.0, 255.0, 255.0], \"xaxis\": \"x\", \"marker\": {\"color\": \"rgb(61,153,112)\"}, \"mode\": \"lines\", \"x\": [-0.0, -0.0, -0.0, -0.0], \"text\": null, \"type\": \"scatter\", \"hoverinfo\": \"text\"}, {\"yaxis\": \"y\", \"y\": [235.0, 235.0, 250.0, 250.0], \"xaxis\": \"x\", \"marker\": {\"color\": \"rgb(61,153,112)\"}, \"mode\": \"lines\", \"x\": [-0.0, -0.004815666386698947, -0.004815666386698947, -0.0], \"text\": null, \"type\": \"scatter\", \"hoverinfo\": \"text\"}, {\"yaxis\": \"y\", \"y\": [225.0, 225.0, 242.5, 242.5], \"xaxis\": \"x\", \"marker\": {\"color\": \"rgb(61,153,112)\"}, \"mode\": \"lines\", \"x\": [-0.0, -0.008032575647370995, -0.008032575647370995, -0.004815666386698947], \"text\": null, \"type\": \"scatter\", \"hoverinfo\": \"text\"}, {\"yaxis\": \"y\", \"y\": [215.0, 215.0, 233.75, 233.75], \"xaxis\": \"x\", \"marker\": {\"color\": \"rgb(61,153,112)\"}, \"mode\": \"lines\", \"x\": [-0.0, -0.01993567049975989, -0.01993567049975989, -0.008032575647370995], \"text\": null, \"type\": \"scatter\", \"hoverinfo\": \"text\"}, {\"yaxis\": \"y\", \"y\": [205.0, 205.0, 224.375, 224.375], \"xaxis\": \"x\", \"marker\": {\"color\": \"rgb(61,153,112)\"}, \"mode\": \"lines\", \"x\": [-0.0, -0.20300255164785913, -0.20300255164785913, -0.01993567049975989], \"text\": null, \"type\": \"scatter\", \"hoverinfo\": \"text\"}, {\"yaxis\": \"y\", \"y\": [94.453125, 94.453125, 214.6875, 214.6875], \"xaxis\": \"x\", \"marker\": {\"color\": \"rgb(61,153,112)\"}, \"mode\": \"lines\", \"x\": [-0.14815424329510204, -0.3119651460829286, -0.3119651460829286, -0.20300255164785913], \"text\": null, \"type\": \"scatter\", \"hoverinfo\": \"text\"}, {\"yaxis\": \"y\", \"y\": [35.0, 35.0, 154.5703125, 154.5703125], \"xaxis\": \"x\", \"marker\": {\"color\": \"rgb(61,153,112)\"}, \"mode\": \"lines\", \"x\": [-0.0, -0.4037271825994279, -0.4037271825994279, -0.3119651460829286], \"text\": null, \"type\": \"scatter\", \"hoverinfo\": \"text\"}, {\"yaxis\": \"y\", \"y\": [25.0, 25.0, 94.78515625, 94.78515625], \"xaxis\": \"x\", \"marker\": {\"color\": \"rgb(61,153,112)\"}, \"mode\": \"lines\", \"x\": [-0.0, -0.43213007222315075, -0.43213007222315075, -0.4037271825994279], \"text\": null, \"type\": \"scatter\", \"hoverinfo\": \"text\"}, {\"yaxis\": \"y\", \"y\": [15.0, 15.0, 59.892578125, 59.892578125], \"xaxis\": \"x\", \"marker\": {\"color\": \"rgb(0,116,217)\"}, \"mode\": \"lines\", \"x\": [-0.0, -0.6870341308591454, -0.6870341308591454, -0.43213007222315075], \"text\": null, \"type\": \"scatter\", \"hoverinfo\": \"text\"}, {\"yaxis\": \"y\", \"y\": [5.0, 5.0, 37.4462890625, 37.4462890625], \"xaxis\": \"x\", \"marker\": {\"color\": \"rgb(0,116,217)\"}, \"mode\": \"lines\", \"x\": [-0.0, -0.9641406698856753, -0.9641406698856753, -0.6870341308591454], \"text\": null, \"type\": \"scatter\", \"hoverinfo\": \"text\"}], {\"yaxis\": {\"ticktext\": [\"mpd_phylogenetic_unweighted\", \"lennon_phylogenetic_unweighted\", \"mnnd_phylogenetic_unweighted\", \"pearson_phylogenetic_unweighted\", \"euclidean_nonphylogenetic_unweighted\", \"tamas_coeff_nonphylogenetic_unweighted\", \"gower_nonphylogenetic_unweighted\", \"canberra_nonphylogenetic_unweighted\", \"manhattan_nonphylogenetic_unweighted\", \"coeff_similarity_nonphylogenetic_unweighted\", \"kulczynski_phylogenetic_unweighted\", \"soergel_phylogenetic_unweighted\", \"weighted_corr_phylogenetic_unweighted\", \"braycurtis_phylogenetic_unweighted\", \"euclidean_phylogenetic_unweighted\", \"tamas_coeff_phylogenetic_unweighted\", \"gower_phylogenetic_unweighted\", \"coeff_similarity_phylogenetic_unweighted\", \"canberra_phylogenetic_unweighted\", \"manhattan_phylogenetic_unweighted\", \"lennon_nonphylogenetic_unweighted\", \"kulczynski_nonphylogenetic_unweighted\", \"soergel_nonphylogenetic_unweighted\", \"braycurtis_nonphylogenetic_unweighted\", \"pearson_nonphylogenetic_unweighted\", \"weighted_corr_nonphylogenetic_unweighted\"], \"tickmode\": \"array\", \"tickvals\": [5, 15, 25, 35, 45, 55, 65, 75, 85, 95, 105, 115, 125, 135, 145, 155, 165, 175, 185, 195, 205, 215, 225, 235, 245, 255], \"rangemode\": \"tozero\", \"zeroline\": false, \"showline\": true, \"side\": \"right\", \"type\": \"linear\", \"ticks\": \"outside\", \"showgrid\": false, \"showticklabels\": true, \"mirror\": \"allticks\"}, \"hovermode\": \"closest\", \"height\": 600, \"margin\": {\"r\": 250}, \"width\": 800, \"xaxis\": {\"showgrid\": false, \"mirror\": \"allticks\", \"type\": \"linear\", \"ticks\": \"outside\", \"rangemode\": \"tozero\", \"showticklabels\": true, \"showline\": true, \"zeroline\": false}, \"showlegend\": false, \"autosize\": false}, {\"showLink\": true, \"linkText\": \"Export to plot.ly\"})});</script>"
      ],
      "text/vnd.plotly.v1+html": [
       "<div id=\"41e36daf-6be0-4ffe-a8fa-c19eeee77e22\" style=\"height: 600px; width: 800px;\" class=\"plotly-graph-div\"></div><script type=\"text/javascript\">require([\"plotly\"], function(Plotly) { window.PLOTLYENV=window.PLOTLYENV || {};window.PLOTLYENV.BASE_URL=\"https://plot.ly\";Plotly.newPlot(\"41e36daf-6be0-4ffe-a8fa-c19eeee77e22\", [{\"yaxis\": \"y\", \"y\": [85.0, 85.0, 95.0, 95.0], \"xaxis\": \"x\", \"marker\": {\"color\": \"rgb(61,153,112)\"}, \"mode\": \"lines\", \"x\": [-0.0, -0.0, -0.0, -0.0], \"text\": null, \"type\": \"scatter\", \"hoverinfo\": \"text\"}, {\"yaxis\": \"y\", \"y\": [75.0, 75.0, 90.0, 90.0], \"xaxis\": \"x\", \"marker\": {\"color\": \"rgb(61,153,112)\"}, \"mode\": \"lines\", \"x\": [-0.0, -0.0, -0.0, -0.0], \"text\": null, \"type\": \"scatter\", \"hoverinfo\": \"text\"}, {\"yaxis\": \"y\", \"y\": [65.0, 65.0, 82.5, 82.5], \"xaxis\": \"x\", \"marker\": {\"color\": \"rgb(61,153,112)\"}, \"mode\": \"lines\", \"x\": [-0.0, -0.0, -0.0, -0.0], \"text\": null, \"type\": \"scatter\", \"hoverinfo\": \"text\"}, {\"yaxis\": \"y\", \"y\": [55.0, 55.0, 73.75, 73.75], \"xaxis\": \"x\", \"marker\": {\"color\": \"rgb(61,153,112)\"}, \"mode\": \"lines\", \"x\": [-0.0, -7.307709992687705e-12, -7.307709992687705e-12, -0.0], \"text\": null, \"type\": \"scatter\", \"hoverinfo\": \"text\"}, {\"yaxis\": \"y\", \"y\": [45.0, 45.0, 64.375, 64.375], \"xaxis\": \"x\", \"marker\": {\"color\": \"rgb(61,153,112)\"}, \"mode\": \"lines\", \"x\": [-0.0, -0.015227326963747734, -0.015227326963747734, -7.307709992687705e-12], \"text\": null, \"type\": \"scatter\", \"hoverinfo\": \"text\"}, {\"yaxis\": \"y\", \"y\": [125.0, 125.0, 135.0, 135.0], \"xaxis\": \"x\", \"marker\": {\"color\": \"rgb(61,153,112)\"}, \"mode\": \"lines\", \"x\": [-0.0, -0.004182317591268192, -0.004182317591268192, -0.0], \"text\": null, \"type\": \"scatter\", \"hoverinfo\": \"text\"}, {\"yaxis\": \"y\", \"y\": [115.0, 115.0, 130.0, 130.0], \"xaxis\": \"x\", \"marker\": {\"color\": \"rgb(61,153,112)\"}, \"mode\": \"lines\", \"x\": [-0.0, -0.005055166922387444, -0.005055166922387444, -0.004182317591268192], \"text\": null, \"type\": \"scatter\", \"hoverinfo\": \"text\"}, {\"yaxis\": \"y\", \"y\": [105.0, 105.0, 122.5, 122.5], \"xaxis\": \"x\", \"marker\": {\"color\": \"rgb(61,153,112)\"}, \"mode\": \"lines\", \"x\": [-0.0, -0.015938902532847837, -0.015938902532847837, -0.005055166922387444], \"text\": null, \"type\": \"scatter\", \"hoverinfo\": \"text\"}, {\"yaxis\": \"y\", \"y\": [185.0, 185.0, 195.0, 195.0], \"xaxis\": \"x\", \"marker\": {\"color\": \"rgb(61,153,112)\"}, \"mode\": \"lines\", \"x\": [-0.0, -0.0, -0.0, -0.0], \"text\": null, \"type\": \"scatter\", \"hoverinfo\": \"text\"}, {\"yaxis\": \"y\", \"y\": [175.0, 175.0, 190.0, 190.0], \"xaxis\": \"x\", \"marker\": {\"color\": \"rgb(61,153,112)\"}, \"mode\": \"lines\", \"x\": [-0.0, -0.0, -0.0, -0.0], \"text\": null, \"type\": \"scatter\", \"hoverinfo\": \"text\"}, {\"yaxis\": \"y\", \"y\": [165.0, 165.0, 182.5, 182.5], \"xaxis\": \"x\", \"marker\": {\"color\": \"rgb(61,153,112)\"}, \"mode\": \"lines\", \"x\": [-0.0, -0.0, -0.0, -0.0], \"text\": null, \"type\": \"scatter\", \"hoverinfo\": \"text\"}, {\"yaxis\": \"y\", \"y\": [155.0, 155.0, 173.75, 173.75], \"xaxis\": \"x\", \"marker\": {\"color\": \"rgb(61,153,112)\"}, \"mode\": \"lines\", \"x\": [-0.0, -4.0527581290916714e-12, -4.0527581290916714e-12, -0.0], \"text\": null, \"type\": \"scatter\", \"hoverinfo\": \"text\"}, {\"yaxis\": \"y\", \"y\": [145.0, 145.0, 164.375, 164.375], \"xaxis\": \"x\", \"marker\": {\"color\": \"rgb(61,153,112)\"}, \"mode\": \"lines\", \"x\": [-0.0, -0.0199402553947029, -0.0199402553947029, -4.0527581290916714e-12], \"text\": null, \"type\": \"scatter\", \"hoverinfo\": \"text\"}, {\"yaxis\": \"y\", \"y\": [113.75, 113.75, 154.6875, 154.6875], \"xaxis\": \"x\", \"marker\": {\"color\": \"rgb(61,153,112)\"}, \"mode\": \"lines\", \"x\": [-0.015938902532847837, -0.07085392653508697, -0.07085392653508697, -0.0199402553947029], \"text\": null, \"type\": \"scatter\", \"hoverinfo\": \"text\"}, {\"yaxis\": \"y\", \"y\": [54.6875, 54.6875, 134.21875, 134.21875], \"xaxis\": \"x\", \"marker\": {\"color\": \"rgb(61,153,112)\"}, \"mode\": \"lines\", \"x\": [-0.015227326963747734, -0.14815424329510204, -0.14815424329510204, -0.07085392653508697], \"text\": null, \"type\": \"scatter\", \"hoverinfo\": \"text\"}, {\"yaxis\": \"y\", \"y\": [245.0, 245.0, 255.0, 255.0], \"xaxis\": \"x\", \"marker\": {\"color\": \"rgb(61,153,112)\"}, \"mode\": \"lines\", \"x\": [-0.0, -0.0, -0.0, -0.0], \"text\": null, \"type\": \"scatter\", \"hoverinfo\": \"text\"}, {\"yaxis\": \"y\", \"y\": [235.0, 235.0, 250.0, 250.0], \"xaxis\": \"x\", \"marker\": {\"color\": \"rgb(61,153,112)\"}, \"mode\": \"lines\", \"x\": [-0.0, -0.004815666386698947, -0.004815666386698947, -0.0], \"text\": null, \"type\": \"scatter\", \"hoverinfo\": \"text\"}, {\"yaxis\": \"y\", \"y\": [225.0, 225.0, 242.5, 242.5], \"xaxis\": \"x\", \"marker\": {\"color\": \"rgb(61,153,112)\"}, \"mode\": \"lines\", \"x\": [-0.0, -0.008032575647370995, -0.008032575647370995, -0.004815666386698947], \"text\": null, \"type\": \"scatter\", \"hoverinfo\": \"text\"}, {\"yaxis\": \"y\", \"y\": [215.0, 215.0, 233.75, 233.75], \"xaxis\": \"x\", \"marker\": {\"color\": \"rgb(61,153,112)\"}, \"mode\": \"lines\", \"x\": [-0.0, -0.01993567049975989, -0.01993567049975989, -0.008032575647370995], \"text\": null, \"type\": \"scatter\", \"hoverinfo\": \"text\"}, {\"yaxis\": \"y\", \"y\": [205.0, 205.0, 224.375, 224.375], \"xaxis\": \"x\", \"marker\": {\"color\": \"rgb(61,153,112)\"}, \"mode\": \"lines\", \"x\": [-0.0, -0.20300255164785913, -0.20300255164785913, -0.01993567049975989], \"text\": null, \"type\": \"scatter\", \"hoverinfo\": \"text\"}, {\"yaxis\": \"y\", \"y\": [94.453125, 94.453125, 214.6875, 214.6875], \"xaxis\": \"x\", \"marker\": {\"color\": \"rgb(61,153,112)\"}, \"mode\": \"lines\", \"x\": [-0.14815424329510204, -0.3119651460829286, -0.3119651460829286, -0.20300255164785913], \"text\": null, \"type\": \"scatter\", \"hoverinfo\": \"text\"}, {\"yaxis\": \"y\", \"y\": [35.0, 35.0, 154.5703125, 154.5703125], \"xaxis\": \"x\", \"marker\": {\"color\": \"rgb(61,153,112)\"}, \"mode\": \"lines\", \"x\": [-0.0, -0.4037271825994279, -0.4037271825994279, -0.3119651460829286], \"text\": null, \"type\": \"scatter\", \"hoverinfo\": \"text\"}, {\"yaxis\": \"y\", \"y\": [25.0, 25.0, 94.78515625, 94.78515625], \"xaxis\": \"x\", \"marker\": {\"color\": \"rgb(61,153,112)\"}, \"mode\": \"lines\", \"x\": [-0.0, -0.43213007222315075, -0.43213007222315075, -0.4037271825994279], \"text\": null, \"type\": \"scatter\", \"hoverinfo\": \"text\"}, {\"yaxis\": \"y\", \"y\": [15.0, 15.0, 59.892578125, 59.892578125], \"xaxis\": \"x\", \"marker\": {\"color\": \"rgb(0,116,217)\"}, \"mode\": \"lines\", \"x\": [-0.0, -0.6870341308591454, -0.6870341308591454, -0.43213007222315075], \"text\": null, \"type\": \"scatter\", \"hoverinfo\": \"text\"}, {\"yaxis\": \"y\", \"y\": [5.0, 5.0, 37.4462890625, 37.4462890625], \"xaxis\": \"x\", \"marker\": {\"color\": \"rgb(0,116,217)\"}, \"mode\": \"lines\", \"x\": [-0.0, -0.9641406698856753, -0.9641406698856753, -0.6870341308591454], \"text\": null, \"type\": \"scatter\", \"hoverinfo\": \"text\"}], {\"yaxis\": {\"ticktext\": [\"mpd_phylogenetic_unweighted\", \"lennon_phylogenetic_unweighted\", \"mnnd_phylogenetic_unweighted\", \"pearson_phylogenetic_unweighted\", \"euclidean_nonphylogenetic_unweighted\", \"tamas_coeff_nonphylogenetic_unweighted\", \"gower_nonphylogenetic_unweighted\", \"canberra_nonphylogenetic_unweighted\", \"manhattan_nonphylogenetic_unweighted\", \"coeff_similarity_nonphylogenetic_unweighted\", \"kulczynski_phylogenetic_unweighted\", \"soergel_phylogenetic_unweighted\", \"weighted_corr_phylogenetic_unweighted\", \"braycurtis_phylogenetic_unweighted\", \"euclidean_phylogenetic_unweighted\", \"tamas_coeff_phylogenetic_unweighted\", \"gower_phylogenetic_unweighted\", \"coeff_similarity_phylogenetic_unweighted\", \"canberra_phylogenetic_unweighted\", \"manhattan_phylogenetic_unweighted\", \"lennon_nonphylogenetic_unweighted\", \"kulczynski_nonphylogenetic_unweighted\", \"soergel_nonphylogenetic_unweighted\", \"braycurtis_nonphylogenetic_unweighted\", \"pearson_nonphylogenetic_unweighted\", \"weighted_corr_nonphylogenetic_unweighted\"], \"tickmode\": \"array\", \"tickvals\": [5, 15, 25, 35, 45, 55, 65, 75, 85, 95, 105, 115, 125, 135, 145, 155, 165, 175, 185, 195, 205, 215, 225, 235, 245, 255], \"rangemode\": \"tozero\", \"zeroline\": false, \"showline\": true, \"side\": \"right\", \"type\": \"linear\", \"ticks\": \"outside\", \"showgrid\": false, \"showticklabels\": true, \"mirror\": \"allticks\"}, \"hovermode\": \"closest\", \"height\": 600, \"margin\": {\"r\": 250}, \"width\": 800, \"xaxis\": {\"showgrid\": false, \"mirror\": \"allticks\", \"type\": \"linear\", \"ticks\": \"outside\", \"rangemode\": \"tozero\", \"showticklabels\": true, \"showline\": true, \"zeroline\": false}, \"showlegend\": false, \"autosize\": false}, {\"showLink\": true, \"linkText\": \"Export to plot.ly\"})});</script>"
      ]
     },
     "metadata": {},
     "output_type": "display_data"
    }
   ],
   "source": [
    "plot_dm_dendrogram(filters=[\"_weighted\"],height=600)"
   ]
  },
  {
   "cell_type": "code",
   "execution_count": 25,
   "metadata": {},
   "outputs": [
    {
     "data": {
      "application/vnd.plotly.v1+json": {
       "data": [
        {
         "hoverinfo": "text",
         "marker": {
          "color": "rgb(61,153,112)"
         },
         "mode": "lines",
         "text": null,
         "type": "scatter",
         "x": [
          0,
          -0.0002477055161361763,
          -0.0002477055161361763,
          0
         ],
         "xaxis": "x",
         "y": [
          85,
          85,
          95,
          95
         ],
         "yaxis": "y"
        },
        {
         "hoverinfo": "text",
         "marker": {
          "color": "rgb(61,153,112)"
         },
         "mode": "lines",
         "text": null,
         "type": "scatter",
         "x": [
          0,
          -0.00047625382335148014,
          -0.00047625382335148014,
          -0.0002477055161361763
         ],
         "xaxis": "x",
         "y": [
          75,
          75,
          90,
          90
         ],
         "yaxis": "y"
        },
        {
         "hoverinfo": "text",
         "marker": {
          "color": "rgb(61,153,112)"
         },
         "mode": "lines",
         "text": null,
         "type": "scatter",
         "x": [
          0,
          -0.002058586614421709,
          -0.002058586614421709,
          -0.00047625382335148014
         ],
         "xaxis": "x",
         "y": [
          65,
          65,
          82.5,
          82.5
         ],
         "yaxis": "y"
        },
        {
         "hoverinfo": "text",
         "marker": {
          "color": "rgb(61,153,112)"
         },
         "mode": "lines",
         "text": null,
         "type": "scatter",
         "x": [
          0,
          -0.010013727712836512,
          -0.010013727712836512,
          -0.002058586614421709
         ],
         "xaxis": "x",
         "y": [
          55,
          55,
          73.75,
          73.75
         ],
         "yaxis": "y"
        },
        {
         "hoverinfo": "text",
         "marker": {
          "color": "rgb(61,153,112)"
         },
         "mode": "lines",
         "text": null,
         "type": "scatter",
         "x": [
          0,
          -0.014015238556832111,
          -0.014015238556832111,
          -0.010013727712836512
         ],
         "xaxis": "x",
         "y": [
          45,
          45,
          64.375,
          64.375
         ],
         "yaxis": "y"
        },
        {
         "hoverinfo": "text",
         "marker": {
          "color": "rgb(61,153,112)"
         },
         "mode": "lines",
         "text": null,
         "type": "scatter",
         "x": [
          0,
          -4.353295501857701e-12,
          -4.353295501857701e-12,
          0
         ],
         "xaxis": "x",
         "y": [
          135,
          135,
          145,
          145
         ],
         "yaxis": "y"
        },
        {
         "hoverinfo": "text",
         "marker": {
          "color": "rgb(61,153,112)"
         },
         "mode": "lines",
         "text": null,
         "type": "scatter",
         "x": [
          0,
          -1.0253464743925633e-11,
          -1.0253464743925633e-11,
          -4.353295501857701e-12
         ],
         "xaxis": "x",
         "y": [
          125,
          125,
          140,
          140
         ],
         "yaxis": "y"
        },
        {
         "hoverinfo": "text",
         "marker": {
          "color": "rgb(61,153,112)"
         },
         "mode": "lines",
         "text": null,
         "type": "scatter",
         "x": [
          0,
          -1.3328486462664083e-11,
          -1.3328486462664083e-11,
          -1.0253464743925633e-11
         ],
         "xaxis": "x",
         "y": [
          115,
          115,
          132.5,
          132.5
         ],
         "yaxis": "y"
        },
        {
         "hoverinfo": "text",
         "marker": {
          "color": "rgb(61,153,112)"
         },
         "mode": "lines",
         "text": null,
         "type": "scatter",
         "x": [
          0,
          0,
          0,
          0
         ],
         "xaxis": "x",
         "y": [
          175,
          175,
          185,
          185
         ],
         "yaxis": "y"
        },
        {
         "hoverinfo": "text",
         "marker": {
          "color": "rgb(61,153,112)"
         },
         "mode": "lines",
         "text": null,
         "type": "scatter",
         "x": [
          0,
          -0.0001069525307111352,
          -0.0001069525307111352,
          0
         ],
         "xaxis": "x",
         "y": [
          165,
          165,
          180,
          180
         ],
         "yaxis": "y"
        },
        {
         "hoverinfo": "text",
         "marker": {
          "color": "rgb(61,153,112)"
         },
         "mode": "lines",
         "text": null,
         "type": "scatter",
         "x": [
          0,
          -0.0002971945301897631,
          -0.0002971945301897631,
          -0.0001069525307111352
         ],
         "xaxis": "x",
         "y": [
          155,
          155,
          172.5,
          172.5
         ],
         "yaxis": "y"
        },
        {
         "hoverinfo": "text",
         "marker": {
          "color": "rgb(61,153,112)"
         },
         "mode": "lines",
         "text": null,
         "type": "scatter",
         "x": [
          -1.3328486462664083e-11,
          -0.0007147501220580374,
          -0.0007147501220580374,
          -0.0002971945301897631
         ],
         "xaxis": "x",
         "y": [
          123.75,
          123.75,
          163.75,
          163.75
         ],
         "yaxis": "y"
        },
        {
         "hoverinfo": "text",
         "marker": {
          "color": "rgb(61,153,112)"
         },
         "mode": "lines",
         "text": null,
         "type": "scatter",
         "x": [
          0,
          -0.027151898562965807,
          -0.027151898562965807,
          -0.0007147501220580374
         ],
         "xaxis": "x",
         "y": [
          105,
          105,
          143.75,
          143.75
         ],
         "yaxis": "y"
        },
        {
         "hoverinfo": "text",
         "marker": {
          "color": "rgb(61,153,112)"
         },
         "mode": "lines",
         "text": null,
         "type": "scatter",
         "x": [
          -0.014015238556832111,
          -0.07770421254143152,
          -0.07770421254143152,
          -0.027151898562965807
         ],
         "xaxis": "x",
         "y": [
          54.6875,
          54.6875,
          124.375,
          124.375
         ],
         "yaxis": "y"
        },
        {
         "hoverinfo": "text",
         "marker": {
          "color": "rgb(61,153,112)"
         },
         "mode": "lines",
         "text": null,
         "type": "scatter",
         "x": [
          0,
          -0.1576603751650701,
          -0.1576603751650701,
          -0.07770421254143152
         ],
         "xaxis": "x",
         "y": [
          35,
          35,
          89.53125,
          89.53125
         ],
         "yaxis": "y"
        },
        {
         "hoverinfo": "text",
         "marker": {
          "color": "rgb(61,153,112)"
         },
         "mode": "lines",
         "text": null,
         "type": "scatter",
         "x": [
          0,
          -0.16497086701052904,
          -0.16497086701052904,
          -0.1576603751650701
         ],
         "xaxis": "x",
         "y": [
          25,
          25,
          62.265625,
          62.265625
         ],
         "yaxis": "y"
        },
        {
         "hoverinfo": "text",
         "marker": {
          "color": "rgb(61,153,112)"
         },
         "mode": "lines",
         "text": null,
         "type": "scatter",
         "x": [
          0,
          -0.3596865744888327,
          -0.3596865744888327,
          -0.16497086701052904
         ],
         "xaxis": "x",
         "y": [
          15,
          15,
          43.6328125,
          43.6328125
         ],
         "yaxis": "y"
        },
        {
         "hoverinfo": "text",
         "marker": {
          "color": "rgb(255,65,54)"
         },
         "mode": "lines",
         "text": null,
         "type": "scatter",
         "x": [
          0,
          -0.005297661207836368,
          -0.005297661207836368,
          0
         ],
         "xaxis": "x",
         "y": [
          275,
          275,
          285,
          285
         ],
         "yaxis": "y"
        },
        {
         "hoverinfo": "text",
         "marker": {
          "color": "rgb(255,65,54)"
         },
         "mode": "lines",
         "text": null,
         "type": "scatter",
         "x": [
          0,
          -0.005999021596461096,
          -0.005999021596461096,
          -0.005297661207836368
         ],
         "xaxis": "x",
         "y": [
          265,
          265,
          280,
          280
         ],
         "yaxis": "y"
        },
        {
         "hoverinfo": "text",
         "marker": {
          "color": "rgb(255,65,54)"
         },
         "mode": "lines",
         "text": null,
         "type": "scatter",
         "x": [
          0,
          -0.021819370653719344,
          -0.021819370653719344,
          -0.005999021596461096
         ],
         "xaxis": "x",
         "y": [
          255,
          255,
          272.5,
          272.5
         ],
         "yaxis": "y"
        },
        {
         "hoverinfo": "text",
         "marker": {
          "color": "rgb(255,65,54)"
         },
         "mode": "lines",
         "text": null,
         "type": "scatter",
         "x": [
          0,
          -0.0009598237185983738,
          -0.0009598237185983738,
          0
         ],
         "xaxis": "x",
         "y": [
          295,
          295,
          305,
          305
         ],
         "yaxis": "y"
        },
        {
         "hoverinfo": "text",
         "marker": {
          "color": "rgb(255,65,54)"
         },
         "mode": "lines",
         "text": null,
         "type": "scatter",
         "x": [
          0,
          0,
          0,
          0
         ],
         "xaxis": "x",
         "y": [
          355,
          355,
          365,
          365
         ],
         "yaxis": "y"
        },
        {
         "hoverinfo": "text",
         "marker": {
          "color": "rgb(255,65,54)"
         },
         "mode": "lines",
         "text": null,
         "type": "scatter",
         "x": [
          0,
          0,
          0,
          0
         ],
         "xaxis": "x",
         "y": [
          345,
          345,
          360,
          360
         ],
         "yaxis": "y"
        },
        {
         "hoverinfo": "text",
         "marker": {
          "color": "rgb(255,65,54)"
         },
         "mode": "lines",
         "text": null,
         "type": "scatter",
         "x": [
          0,
          0,
          0,
          0
         ],
         "xaxis": "x",
         "y": [
          335,
          335,
          352.5,
          352.5
         ],
         "yaxis": "y"
        },
        {
         "hoverinfo": "text",
         "marker": {
          "color": "rgb(255,65,54)"
         },
         "mode": "lines",
         "text": null,
         "type": "scatter",
         "x": [
          0,
          -4.373723605510804e-12,
          -4.373723605510804e-12,
          0
         ],
         "xaxis": "x",
         "y": [
          325,
          325,
          343.75,
          343.75
         ],
         "yaxis": "y"
        },
        {
         "hoverinfo": "text",
         "marker": {
          "color": "rgb(255,65,54)"
         },
         "mode": "lines",
         "text": null,
         "type": "scatter",
         "x": [
          0,
          -0.015424716796514781,
          -0.015424716796514781,
          -4.373723605510804e-12
         ],
         "xaxis": "x",
         "y": [
          315,
          315,
          334.375,
          334.375
         ],
         "yaxis": "y"
        },
        {
         "hoverinfo": "text",
         "marker": {
          "color": "rgb(255,65,54)"
         },
         "mode": "lines",
         "text": null,
         "type": "scatter",
         "x": [
          -0.0009598237185983738,
          -0.02647255358951846,
          -0.02647255358951846,
          -0.015424716796514781
         ],
         "xaxis": "x",
         "y": [
          300,
          300,
          324.6875,
          324.6875
         ],
         "yaxis": "y"
        },
        {
         "hoverinfo": "text",
         "marker": {
          "color": "rgb(255,65,54)"
         },
         "mode": "lines",
         "text": null,
         "type": "scatter",
         "x": [
          -0.021819370653719344,
          -0.08367147122019106,
          -0.08367147122019106,
          -0.02647255358951846
         ],
         "xaxis": "x",
         "y": [
          263.75,
          263.75,
          312.34375,
          312.34375
         ],
         "yaxis": "y"
        },
        {
         "hoverinfo": "text",
         "marker": {
          "color": "rgb(255,65,54)"
         },
         "mode": "lines",
         "text": null,
         "type": "scatter",
         "x": [
          0,
          -0.17709819763751475,
          -0.17709819763751475,
          -0.08367147122019106
         ],
         "xaxis": "x",
         "y": [
          245,
          245,
          288.046875,
          288.046875
         ],
         "yaxis": "y"
        },
        {
         "hoverinfo": "text",
         "marker": {
          "color": "rgb(255,65,54)"
         },
         "mode": "lines",
         "text": null,
         "type": "scatter",
         "x": [
          0,
          -0.18826713138092382,
          -0.18826713138092382,
          -0.17709819763751475
         ],
         "xaxis": "x",
         "y": [
          235,
          235,
          266.5234375,
          266.5234375
         ],
         "yaxis": "y"
        },
        {
         "hoverinfo": "text",
         "marker": {
          "color": "rgb(255,65,54)"
         },
         "mode": "lines",
         "text": null,
         "type": "scatter",
         "x": [
          0,
          -0.35215074324549794,
          -0.35215074324549794,
          -0.18826713138092382
         ],
         "xaxis": "x",
         "y": [
          225,
          225,
          250.76171875,
          250.76171875
         ],
         "yaxis": "y"
        },
        {
         "hoverinfo": "text",
         "marker": {
          "color": "rgb(0,116,217)"
         },
         "mode": "lines",
         "text": null,
         "type": "scatter",
         "x": [
          0,
          -0.7023834155619072,
          -0.7023834155619072,
          -0.35215074324549794
         ],
         "xaxis": "x",
         "y": [
          215,
          215,
          237.880859375,
          237.880859375
         ],
         "yaxis": "y"
        },
        {
         "hoverinfo": "text",
         "marker": {
          "color": "rgb(0,116,217)"
         },
         "mode": "lines",
         "text": null,
         "type": "scatter",
         "x": [
          0,
          -0.7202483180774457,
          -0.7202483180774457,
          -0.7023834155619072
         ],
         "xaxis": "x",
         "y": [
          205,
          205,
          226.4404296875,
          226.4404296875
         ],
         "yaxis": "y"
        },
        {
         "hoverinfo": "text",
         "marker": {
          "color": "rgb(0,116,217)"
         },
         "mode": "lines",
         "text": null,
         "type": "scatter",
         "x": [
          0,
          -0.793772888614805,
          -0.793772888614805,
          -0.7202483180774457
         ],
         "xaxis": "x",
         "y": [
          195,
          195,
          215.72021484375,
          215.72021484375
         ],
         "yaxis": "y"
        },
        {
         "hoverinfo": "text",
         "marker": {
          "color": "rgb(0,116,217)"
         },
         "mode": "lines",
         "text": null,
         "type": "scatter",
         "x": [
          -0.3596865744888327,
          -0.9009058684629978,
          -0.9009058684629978,
          -0.793772888614805
         ],
         "xaxis": "x",
         "y": [
          29.31640625,
          29.31640625,
          205.360107421875,
          205.360107421875
         ],
         "yaxis": "y"
        },
        {
         "hoverinfo": "text",
         "marker": {
          "color": "rgb(0,116,217)"
         },
         "mode": "lines",
         "text": null,
         "type": "scatter",
         "x": [
          0,
          -0.9976628156226902,
          -0.9976628156226902,
          -0.9009058684629978
         ],
         "xaxis": "x",
         "y": [
          5,
          5,
          117.3382568359375,
          117.3382568359375
         ],
         "yaxis": "y"
        }
       ],
       "layout": {
        "autosize": false,
        "height": 600,
        "hovermode": "closest",
        "margin": {
         "r": 250
        },
        "showlegend": false,
        "width": 800,
        "xaxis": {
         "mirror": "allticks",
         "rangemode": "tozero",
         "showgrid": false,
         "showline": true,
         "showticklabels": true,
         "ticks": "outside",
         "type": "linear",
         "zeroline": false
        },
        "yaxis": {
         "mirror": "allticks",
         "rangemode": "tozero",
         "showgrid": false,
         "showline": true,
         "showticklabels": true,
         "side": "right",
         "tickmode": "array",
         "ticks": "outside",
         "ticktext": [
          "mpd_phylogenetic_unweighted",
          "chi_squared_phylogenetic_weighted",
          "lennon_phylogenetic_weighted",
          "hellinger_phylogenetic_weighted",
          "pearson_phylogenetic_weighted",
          "p_st_phylogenetic_weighted",
          "morisita_horn_phylogenetic_weighted",
          "raohp_phylogenetic_weighted",
          "weighted_corr_phylogenetic_weighted",
          "yue_clayton_phylogenetic_weighted",
          "euclidean_phylogenetic_weighted",
          "manhattan_phylogenetic_weighted",
          "complete_tree_phylogenetic_weighted",
          "whittaker_phylogenetic_weighted",
          "tamas_coeff_phylogenetic_weighted",
          "soergel_phylogenetic_weighted",
          "kulczynski_phylogenetic_weighted",
          "braycurtis_phylogenetic_weighted",
          "normalized_weighted_unifrac_phylogenetic_weighted",
          "mpd_phylogenetic_weighted",
          "mnnd_phylogenetic_weighted",
          "lennon_phylogenetic_unweighted",
          "mnnd_phylogenetic_unweighted",
          "pearson_phylogenetic_unweighted",
          "gower_phylogenetic_weighted",
          "kulczynski_phylogenetic_unweighted",
          "weighted_corr_phylogenetic_unweighted",
          "soergel_phylogenetic_unweighted",
          "braycurtis_phylogenetic_unweighted",
          "canberra_phylogenetic_weighted",
          "coeff_similarity_phylogenetic_weighted",
          "euclidean_phylogenetic_unweighted",
          "tamas_coeff_phylogenetic_unweighted",
          "gower_phylogenetic_unweighted",
          "coeff_similarity_phylogenetic_unweighted",
          "canberra_phylogenetic_unweighted",
          "manhattan_phylogenetic_unweighted"
         ],
         "tickvals": [
          5,
          15,
          25,
          35,
          45,
          55,
          65,
          75,
          85,
          95,
          105,
          115,
          125,
          135,
          145,
          155,
          165,
          175,
          185,
          195,
          205,
          215,
          225,
          235,
          245,
          255,
          265,
          275,
          285,
          295,
          305,
          315,
          325,
          335,
          345,
          355,
          365
         ],
         "type": "linear",
         "zeroline": false
        }
       }
      },
      "text/html": [
       "<div id=\"b322973d-e97d-4325-9f3e-e1c37dd5a256\" style=\"height: 600px; width: 800px;\" class=\"plotly-graph-div\"></div><script type=\"text/javascript\">require([\"plotly\"], function(Plotly) { window.PLOTLYENV=window.PLOTLYENV || {};window.PLOTLYENV.BASE_URL=\"https://plot.ly\";Plotly.newPlot(\"b322973d-e97d-4325-9f3e-e1c37dd5a256\", [{\"yaxis\": \"y\", \"y\": [85.0, 85.0, 95.0, 95.0], \"xaxis\": \"x\", \"marker\": {\"color\": \"rgb(61,153,112)\"}, \"mode\": \"lines\", \"x\": [-0.0, -0.0002477055161361763, -0.0002477055161361763, -0.0], \"text\": null, \"type\": \"scatter\", \"hoverinfo\": \"text\"}, {\"yaxis\": \"y\", \"y\": [75.0, 75.0, 90.0, 90.0], \"xaxis\": \"x\", \"marker\": {\"color\": \"rgb(61,153,112)\"}, \"mode\": \"lines\", \"x\": [-0.0, -0.00047625382335148014, -0.00047625382335148014, -0.0002477055161361763], \"text\": null, \"type\": \"scatter\", \"hoverinfo\": \"text\"}, {\"yaxis\": \"y\", \"y\": [65.0, 65.0, 82.5, 82.5], \"xaxis\": \"x\", \"marker\": {\"color\": \"rgb(61,153,112)\"}, \"mode\": \"lines\", \"x\": [-0.0, -0.002058586614421709, -0.002058586614421709, -0.00047625382335148014], \"text\": null, \"type\": \"scatter\", \"hoverinfo\": \"text\"}, {\"yaxis\": \"y\", \"y\": [55.0, 55.0, 73.75, 73.75], \"xaxis\": \"x\", \"marker\": {\"color\": \"rgb(61,153,112)\"}, \"mode\": \"lines\", \"x\": [-0.0, -0.010013727712836512, -0.010013727712836512, -0.002058586614421709], \"text\": null, \"type\": \"scatter\", \"hoverinfo\": \"text\"}, {\"yaxis\": \"y\", \"y\": [45.0, 45.0, 64.375, 64.375], \"xaxis\": \"x\", \"marker\": {\"color\": \"rgb(61,153,112)\"}, \"mode\": \"lines\", \"x\": [-0.0, -0.014015238556832111, -0.014015238556832111, -0.010013727712836512], \"text\": null, \"type\": \"scatter\", \"hoverinfo\": \"text\"}, {\"yaxis\": \"y\", \"y\": [135.0, 135.0, 145.0, 145.0], \"xaxis\": \"x\", \"marker\": {\"color\": \"rgb(61,153,112)\"}, \"mode\": \"lines\", \"x\": [-0.0, -4.353295501857701e-12, -4.353295501857701e-12, -0.0], \"text\": null, \"type\": \"scatter\", \"hoverinfo\": \"text\"}, {\"yaxis\": \"y\", \"y\": [125.0, 125.0, 140.0, 140.0], \"xaxis\": \"x\", \"marker\": {\"color\": \"rgb(61,153,112)\"}, \"mode\": \"lines\", \"x\": [-0.0, -1.0253464743925633e-11, -1.0253464743925633e-11, -4.353295501857701e-12], \"text\": null, \"type\": \"scatter\", \"hoverinfo\": \"text\"}, {\"yaxis\": \"y\", \"y\": [115.0, 115.0, 132.5, 132.5], \"xaxis\": \"x\", \"marker\": {\"color\": \"rgb(61,153,112)\"}, \"mode\": \"lines\", \"x\": [-0.0, -1.3328486462664083e-11, -1.3328486462664083e-11, -1.0253464743925633e-11], \"text\": null, \"type\": \"scatter\", \"hoverinfo\": \"text\"}, {\"yaxis\": \"y\", \"y\": [175.0, 175.0, 185.0, 185.0], \"xaxis\": \"x\", \"marker\": {\"color\": \"rgb(61,153,112)\"}, \"mode\": \"lines\", \"x\": [-0.0, -0.0, -0.0, -0.0], \"text\": null, \"type\": \"scatter\", \"hoverinfo\": \"text\"}, {\"yaxis\": \"y\", \"y\": [165.0, 165.0, 180.0, 180.0], \"xaxis\": \"x\", \"marker\": {\"color\": \"rgb(61,153,112)\"}, \"mode\": \"lines\", \"x\": [-0.0, -0.0001069525307111352, -0.0001069525307111352, -0.0], \"text\": null, \"type\": \"scatter\", \"hoverinfo\": \"text\"}, {\"yaxis\": \"y\", \"y\": [155.0, 155.0, 172.5, 172.5], \"xaxis\": \"x\", \"marker\": {\"color\": \"rgb(61,153,112)\"}, \"mode\": \"lines\", \"x\": [-0.0, -0.0002971945301897631, -0.0002971945301897631, -0.0001069525307111352], \"text\": null, \"type\": \"scatter\", \"hoverinfo\": \"text\"}, {\"yaxis\": \"y\", \"y\": [123.75, 123.75, 163.75, 163.75], \"xaxis\": \"x\", \"marker\": {\"color\": \"rgb(61,153,112)\"}, \"mode\": \"lines\", \"x\": [-1.3328486462664083e-11, -0.0007147501220580374, -0.0007147501220580374, -0.0002971945301897631], \"text\": null, \"type\": \"scatter\", \"hoverinfo\": \"text\"}, {\"yaxis\": \"y\", \"y\": [105.0, 105.0, 143.75, 143.75], \"xaxis\": \"x\", \"marker\": {\"color\": \"rgb(61,153,112)\"}, \"mode\": \"lines\", \"x\": [-0.0, -0.027151898562965807, -0.027151898562965807, -0.0007147501220580374], \"text\": null, \"type\": \"scatter\", \"hoverinfo\": \"text\"}, {\"yaxis\": \"y\", \"y\": [54.6875, 54.6875, 124.375, 124.375], \"xaxis\": \"x\", \"marker\": {\"color\": \"rgb(61,153,112)\"}, \"mode\": \"lines\", \"x\": [-0.014015238556832111, -0.07770421254143152, -0.07770421254143152, -0.027151898562965807], \"text\": null, \"type\": \"scatter\", \"hoverinfo\": \"text\"}, {\"yaxis\": \"y\", \"y\": [35.0, 35.0, 89.53125, 89.53125], \"xaxis\": \"x\", \"marker\": {\"color\": \"rgb(61,153,112)\"}, \"mode\": \"lines\", \"x\": [-0.0, -0.1576603751650701, -0.1576603751650701, -0.07770421254143152], \"text\": null, \"type\": \"scatter\", \"hoverinfo\": \"text\"}, {\"yaxis\": \"y\", \"y\": [25.0, 25.0, 62.265625, 62.265625], \"xaxis\": \"x\", \"marker\": {\"color\": \"rgb(61,153,112)\"}, \"mode\": \"lines\", \"x\": [-0.0, -0.16497086701052904, -0.16497086701052904, -0.1576603751650701], \"text\": null, \"type\": \"scatter\", \"hoverinfo\": \"text\"}, {\"yaxis\": \"y\", \"y\": [15.0, 15.0, 43.6328125, 43.6328125], \"xaxis\": \"x\", \"marker\": {\"color\": \"rgb(61,153,112)\"}, \"mode\": \"lines\", \"x\": [-0.0, -0.3596865744888327, -0.3596865744888327, -0.16497086701052904], \"text\": null, \"type\": \"scatter\", \"hoverinfo\": \"text\"}, {\"yaxis\": \"y\", \"y\": [275.0, 275.0, 285.0, 285.0], \"xaxis\": \"x\", \"marker\": {\"color\": \"rgb(255,65,54)\"}, \"mode\": \"lines\", \"x\": [-0.0, -0.005297661207836368, -0.005297661207836368, -0.0], \"text\": null, \"type\": \"scatter\", \"hoverinfo\": \"text\"}, {\"yaxis\": \"y\", \"y\": [265.0, 265.0, 280.0, 280.0], \"xaxis\": \"x\", \"marker\": {\"color\": \"rgb(255,65,54)\"}, \"mode\": \"lines\", \"x\": [-0.0, -0.005999021596461096, -0.005999021596461096, -0.005297661207836368], \"text\": null, \"type\": \"scatter\", \"hoverinfo\": \"text\"}, {\"yaxis\": \"y\", \"y\": [255.0, 255.0, 272.5, 272.5], \"xaxis\": \"x\", \"marker\": {\"color\": \"rgb(255,65,54)\"}, \"mode\": \"lines\", \"x\": [-0.0, -0.021819370653719344, -0.021819370653719344, -0.005999021596461096], \"text\": null, \"type\": \"scatter\", \"hoverinfo\": \"text\"}, {\"yaxis\": \"y\", \"y\": [295.0, 295.0, 305.0, 305.0], \"xaxis\": \"x\", \"marker\": {\"color\": \"rgb(255,65,54)\"}, \"mode\": \"lines\", \"x\": [-0.0, -0.0009598237185983738, -0.0009598237185983738, -0.0], \"text\": null, \"type\": \"scatter\", \"hoverinfo\": \"text\"}, {\"yaxis\": \"y\", \"y\": [355.0, 355.0, 365.0, 365.0], \"xaxis\": \"x\", \"marker\": {\"color\": \"rgb(255,65,54)\"}, \"mode\": \"lines\", \"x\": [-0.0, -0.0, -0.0, -0.0], \"text\": null, \"type\": \"scatter\", \"hoverinfo\": \"text\"}, {\"yaxis\": \"y\", \"y\": [345.0, 345.0, 360.0, 360.0], \"xaxis\": \"x\", \"marker\": {\"color\": \"rgb(255,65,54)\"}, \"mode\": \"lines\", \"x\": [-0.0, -0.0, -0.0, -0.0], \"text\": null, \"type\": \"scatter\", \"hoverinfo\": \"text\"}, {\"yaxis\": \"y\", \"y\": [335.0, 335.0, 352.5, 352.5], \"xaxis\": \"x\", \"marker\": {\"color\": \"rgb(255,65,54)\"}, \"mode\": \"lines\", \"x\": [-0.0, -0.0, -0.0, -0.0], \"text\": null, \"type\": \"scatter\", \"hoverinfo\": \"text\"}, {\"yaxis\": \"y\", \"y\": [325.0, 325.0, 343.75, 343.75], \"xaxis\": \"x\", \"marker\": {\"color\": \"rgb(255,65,54)\"}, \"mode\": \"lines\", \"x\": [-0.0, -4.373723605510804e-12, -4.373723605510804e-12, -0.0], \"text\": null, \"type\": \"scatter\", \"hoverinfo\": \"text\"}, {\"yaxis\": \"y\", \"y\": [315.0, 315.0, 334.375, 334.375], \"xaxis\": \"x\", \"marker\": {\"color\": \"rgb(255,65,54)\"}, \"mode\": \"lines\", \"x\": [-0.0, -0.015424716796514781, -0.015424716796514781, -4.373723605510804e-12], \"text\": null, \"type\": \"scatter\", \"hoverinfo\": \"text\"}, {\"yaxis\": \"y\", \"y\": [300.0, 300.0, 324.6875, 324.6875], \"xaxis\": \"x\", \"marker\": {\"color\": \"rgb(255,65,54)\"}, \"mode\": \"lines\", \"x\": [-0.0009598237185983738, -0.02647255358951846, -0.02647255358951846, -0.015424716796514781], \"text\": null, \"type\": \"scatter\", \"hoverinfo\": \"text\"}, {\"yaxis\": \"y\", \"y\": [263.75, 263.75, 312.34375, 312.34375], \"xaxis\": \"x\", \"marker\": {\"color\": \"rgb(255,65,54)\"}, \"mode\": \"lines\", \"x\": [-0.021819370653719344, -0.08367147122019106, -0.08367147122019106, -0.02647255358951846], \"text\": null, \"type\": \"scatter\", \"hoverinfo\": \"text\"}, {\"yaxis\": \"y\", \"y\": [245.0, 245.0, 288.046875, 288.046875], \"xaxis\": \"x\", \"marker\": {\"color\": \"rgb(255,65,54)\"}, \"mode\": \"lines\", \"x\": [-0.0, -0.17709819763751475, -0.17709819763751475, -0.08367147122019106], \"text\": null, \"type\": \"scatter\", \"hoverinfo\": \"text\"}, {\"yaxis\": \"y\", \"y\": [235.0, 235.0, 266.5234375, 266.5234375], \"xaxis\": \"x\", \"marker\": {\"color\": \"rgb(255,65,54)\"}, \"mode\": \"lines\", \"x\": [-0.0, -0.18826713138092382, -0.18826713138092382, -0.17709819763751475], \"text\": null, \"type\": \"scatter\", \"hoverinfo\": \"text\"}, {\"yaxis\": \"y\", \"y\": [225.0, 225.0, 250.76171875, 250.76171875], \"xaxis\": \"x\", \"marker\": {\"color\": \"rgb(255,65,54)\"}, \"mode\": \"lines\", \"x\": [-0.0, -0.35215074324549794, -0.35215074324549794, -0.18826713138092382], \"text\": null, \"type\": \"scatter\", \"hoverinfo\": \"text\"}, {\"yaxis\": \"y\", \"y\": [215.0, 215.0, 237.880859375, 237.880859375], \"xaxis\": \"x\", \"marker\": {\"color\": \"rgb(0,116,217)\"}, \"mode\": \"lines\", \"x\": [-0.0, -0.7023834155619072, -0.7023834155619072, -0.35215074324549794], \"text\": null, \"type\": \"scatter\", \"hoverinfo\": \"text\"}, {\"yaxis\": \"y\", \"y\": [205.0, 205.0, 226.4404296875, 226.4404296875], \"xaxis\": \"x\", \"marker\": {\"color\": \"rgb(0,116,217)\"}, \"mode\": \"lines\", \"x\": [-0.0, -0.7202483180774457, -0.7202483180774457, -0.7023834155619072], \"text\": null, \"type\": \"scatter\", \"hoverinfo\": \"text\"}, {\"yaxis\": \"y\", \"y\": [195.0, 195.0, 215.72021484375, 215.72021484375], \"xaxis\": \"x\", \"marker\": {\"color\": \"rgb(0,116,217)\"}, \"mode\": \"lines\", \"x\": [-0.0, -0.793772888614805, -0.793772888614805, -0.7202483180774457], \"text\": null, \"type\": \"scatter\", \"hoverinfo\": \"text\"}, {\"yaxis\": \"y\", \"y\": [29.31640625, 29.31640625, 205.360107421875, 205.360107421875], \"xaxis\": \"x\", \"marker\": {\"color\": \"rgb(0,116,217)\"}, \"mode\": \"lines\", \"x\": [-0.3596865744888327, -0.9009058684629978, -0.9009058684629978, -0.793772888614805], \"text\": null, \"type\": \"scatter\", \"hoverinfo\": \"text\"}, {\"yaxis\": \"y\", \"y\": [5.0, 5.0, 117.3382568359375, 117.3382568359375], \"xaxis\": \"x\", \"marker\": {\"color\": \"rgb(0,116,217)\"}, \"mode\": \"lines\", \"x\": [-0.0, -0.9976628156226902, -0.9976628156226902, -0.9009058684629978], \"text\": null, \"type\": \"scatter\", \"hoverinfo\": \"text\"}], {\"yaxis\": {\"ticktext\": [\"mpd_phylogenetic_unweighted\", \"chi_squared_phylogenetic_weighted\", \"lennon_phylogenetic_weighted\", \"hellinger_phylogenetic_weighted\", \"pearson_phylogenetic_weighted\", \"p_st_phylogenetic_weighted\", \"morisita_horn_phylogenetic_weighted\", \"raohp_phylogenetic_weighted\", \"weighted_corr_phylogenetic_weighted\", \"yue_clayton_phylogenetic_weighted\", \"euclidean_phylogenetic_weighted\", \"manhattan_phylogenetic_weighted\", \"complete_tree_phylogenetic_weighted\", \"whittaker_phylogenetic_weighted\", \"tamas_coeff_phylogenetic_weighted\", \"soergel_phylogenetic_weighted\", \"kulczynski_phylogenetic_weighted\", \"braycurtis_phylogenetic_weighted\", \"normalized_weighted_unifrac_phylogenetic_weighted\", \"mpd_phylogenetic_weighted\", \"mnnd_phylogenetic_weighted\", \"lennon_phylogenetic_unweighted\", \"mnnd_phylogenetic_unweighted\", \"pearson_phylogenetic_unweighted\", \"gower_phylogenetic_weighted\", \"kulczynski_phylogenetic_unweighted\", \"weighted_corr_phylogenetic_unweighted\", \"soergel_phylogenetic_unweighted\", \"braycurtis_phylogenetic_unweighted\", \"canberra_phylogenetic_weighted\", \"coeff_similarity_phylogenetic_weighted\", \"euclidean_phylogenetic_unweighted\", \"tamas_coeff_phylogenetic_unweighted\", \"gower_phylogenetic_unweighted\", \"coeff_similarity_phylogenetic_unweighted\", \"canberra_phylogenetic_unweighted\", \"manhattan_phylogenetic_unweighted\"], \"tickmode\": \"array\", \"tickvals\": [5, 15, 25, 35, 45, 55, 65, 75, 85, 95, 105, 115, 125, 135, 145, 155, 165, 175, 185, 195, 205, 215, 225, 235, 245, 255, 265, 275, 285, 295, 305, 315, 325, 335, 345, 355, 365], \"rangemode\": \"tozero\", \"zeroline\": false, \"showline\": true, \"side\": \"right\", \"type\": \"linear\", \"ticks\": \"outside\", \"showgrid\": false, \"showticklabels\": true, \"mirror\": \"allticks\"}, \"hovermode\": \"closest\", \"height\": 600, \"margin\": {\"r\": 250}, \"width\": 800, \"xaxis\": {\"showgrid\": false, \"mirror\": \"allticks\", \"type\": \"linear\", \"ticks\": \"outside\", \"rangemode\": \"tozero\", \"showticklabels\": true, \"showline\": true, \"zeroline\": false}, \"showlegend\": false, \"autosize\": false}, {\"showLink\": true, \"linkText\": \"Export to plot.ly\"})});</script>"
      ],
      "text/vnd.plotly.v1+html": [
       "<div id=\"b322973d-e97d-4325-9f3e-e1c37dd5a256\" style=\"height: 600px; width: 800px;\" class=\"plotly-graph-div\"></div><script type=\"text/javascript\">require([\"plotly\"], function(Plotly) { window.PLOTLYENV=window.PLOTLYENV || {};window.PLOTLYENV.BASE_URL=\"https://plot.ly\";Plotly.newPlot(\"b322973d-e97d-4325-9f3e-e1c37dd5a256\", [{\"yaxis\": \"y\", \"y\": [85.0, 85.0, 95.0, 95.0], \"xaxis\": \"x\", \"marker\": {\"color\": \"rgb(61,153,112)\"}, \"mode\": \"lines\", \"x\": [-0.0, -0.0002477055161361763, -0.0002477055161361763, -0.0], \"text\": null, \"type\": \"scatter\", \"hoverinfo\": \"text\"}, {\"yaxis\": \"y\", \"y\": [75.0, 75.0, 90.0, 90.0], \"xaxis\": \"x\", \"marker\": {\"color\": \"rgb(61,153,112)\"}, \"mode\": \"lines\", \"x\": [-0.0, -0.00047625382335148014, -0.00047625382335148014, -0.0002477055161361763], \"text\": null, \"type\": \"scatter\", \"hoverinfo\": \"text\"}, {\"yaxis\": \"y\", \"y\": [65.0, 65.0, 82.5, 82.5], \"xaxis\": \"x\", \"marker\": {\"color\": \"rgb(61,153,112)\"}, \"mode\": \"lines\", \"x\": [-0.0, -0.002058586614421709, -0.002058586614421709, -0.00047625382335148014], \"text\": null, \"type\": \"scatter\", \"hoverinfo\": \"text\"}, {\"yaxis\": \"y\", \"y\": [55.0, 55.0, 73.75, 73.75], \"xaxis\": \"x\", \"marker\": {\"color\": \"rgb(61,153,112)\"}, \"mode\": \"lines\", \"x\": [-0.0, -0.010013727712836512, -0.010013727712836512, -0.002058586614421709], \"text\": null, \"type\": \"scatter\", \"hoverinfo\": \"text\"}, {\"yaxis\": \"y\", \"y\": [45.0, 45.0, 64.375, 64.375], \"xaxis\": \"x\", \"marker\": {\"color\": \"rgb(61,153,112)\"}, \"mode\": \"lines\", \"x\": [-0.0, -0.014015238556832111, -0.014015238556832111, -0.010013727712836512], \"text\": null, \"type\": \"scatter\", \"hoverinfo\": \"text\"}, {\"yaxis\": \"y\", \"y\": [135.0, 135.0, 145.0, 145.0], \"xaxis\": \"x\", \"marker\": {\"color\": \"rgb(61,153,112)\"}, \"mode\": \"lines\", \"x\": [-0.0, -4.353295501857701e-12, -4.353295501857701e-12, -0.0], \"text\": null, \"type\": \"scatter\", \"hoverinfo\": \"text\"}, {\"yaxis\": \"y\", \"y\": [125.0, 125.0, 140.0, 140.0], \"xaxis\": \"x\", \"marker\": {\"color\": \"rgb(61,153,112)\"}, \"mode\": \"lines\", \"x\": [-0.0, -1.0253464743925633e-11, -1.0253464743925633e-11, -4.353295501857701e-12], \"text\": null, \"type\": \"scatter\", \"hoverinfo\": \"text\"}, {\"yaxis\": \"y\", \"y\": [115.0, 115.0, 132.5, 132.5], \"xaxis\": \"x\", \"marker\": {\"color\": \"rgb(61,153,112)\"}, \"mode\": \"lines\", \"x\": [-0.0, -1.3328486462664083e-11, -1.3328486462664083e-11, -1.0253464743925633e-11], \"text\": null, \"type\": \"scatter\", \"hoverinfo\": \"text\"}, {\"yaxis\": \"y\", \"y\": [175.0, 175.0, 185.0, 185.0], \"xaxis\": \"x\", \"marker\": {\"color\": \"rgb(61,153,112)\"}, \"mode\": \"lines\", \"x\": [-0.0, -0.0, -0.0, -0.0], \"text\": null, \"type\": \"scatter\", \"hoverinfo\": \"text\"}, {\"yaxis\": \"y\", \"y\": [165.0, 165.0, 180.0, 180.0], \"xaxis\": \"x\", \"marker\": {\"color\": \"rgb(61,153,112)\"}, \"mode\": \"lines\", \"x\": [-0.0, -0.0001069525307111352, -0.0001069525307111352, -0.0], \"text\": null, \"type\": \"scatter\", \"hoverinfo\": \"text\"}, {\"yaxis\": \"y\", \"y\": [155.0, 155.0, 172.5, 172.5], \"xaxis\": \"x\", \"marker\": {\"color\": \"rgb(61,153,112)\"}, \"mode\": \"lines\", \"x\": [-0.0, -0.0002971945301897631, -0.0002971945301897631, -0.0001069525307111352], \"text\": null, \"type\": \"scatter\", \"hoverinfo\": \"text\"}, {\"yaxis\": \"y\", \"y\": [123.75, 123.75, 163.75, 163.75], \"xaxis\": \"x\", \"marker\": {\"color\": \"rgb(61,153,112)\"}, \"mode\": \"lines\", \"x\": [-1.3328486462664083e-11, -0.0007147501220580374, -0.0007147501220580374, -0.0002971945301897631], \"text\": null, \"type\": \"scatter\", \"hoverinfo\": \"text\"}, {\"yaxis\": \"y\", \"y\": [105.0, 105.0, 143.75, 143.75], \"xaxis\": \"x\", \"marker\": {\"color\": \"rgb(61,153,112)\"}, \"mode\": \"lines\", \"x\": [-0.0, -0.027151898562965807, -0.027151898562965807, -0.0007147501220580374], \"text\": null, \"type\": \"scatter\", \"hoverinfo\": \"text\"}, {\"yaxis\": \"y\", \"y\": [54.6875, 54.6875, 124.375, 124.375], \"xaxis\": \"x\", \"marker\": {\"color\": \"rgb(61,153,112)\"}, \"mode\": \"lines\", \"x\": [-0.014015238556832111, -0.07770421254143152, -0.07770421254143152, -0.027151898562965807], \"text\": null, \"type\": \"scatter\", \"hoverinfo\": \"text\"}, {\"yaxis\": \"y\", \"y\": [35.0, 35.0, 89.53125, 89.53125], \"xaxis\": \"x\", \"marker\": {\"color\": \"rgb(61,153,112)\"}, \"mode\": \"lines\", \"x\": [-0.0, -0.1576603751650701, -0.1576603751650701, -0.07770421254143152], \"text\": null, \"type\": \"scatter\", \"hoverinfo\": \"text\"}, {\"yaxis\": \"y\", \"y\": [25.0, 25.0, 62.265625, 62.265625], \"xaxis\": \"x\", \"marker\": {\"color\": \"rgb(61,153,112)\"}, \"mode\": \"lines\", \"x\": [-0.0, -0.16497086701052904, -0.16497086701052904, -0.1576603751650701], \"text\": null, \"type\": \"scatter\", \"hoverinfo\": \"text\"}, {\"yaxis\": \"y\", \"y\": [15.0, 15.0, 43.6328125, 43.6328125], \"xaxis\": \"x\", \"marker\": {\"color\": \"rgb(61,153,112)\"}, \"mode\": \"lines\", \"x\": [-0.0, -0.3596865744888327, -0.3596865744888327, -0.16497086701052904], \"text\": null, \"type\": \"scatter\", \"hoverinfo\": \"text\"}, {\"yaxis\": \"y\", \"y\": [275.0, 275.0, 285.0, 285.0], \"xaxis\": \"x\", \"marker\": {\"color\": \"rgb(255,65,54)\"}, \"mode\": \"lines\", \"x\": [-0.0, -0.005297661207836368, -0.005297661207836368, -0.0], \"text\": null, \"type\": \"scatter\", \"hoverinfo\": \"text\"}, {\"yaxis\": \"y\", \"y\": [265.0, 265.0, 280.0, 280.0], \"xaxis\": \"x\", \"marker\": {\"color\": \"rgb(255,65,54)\"}, \"mode\": \"lines\", \"x\": [-0.0, -0.005999021596461096, -0.005999021596461096, -0.005297661207836368], \"text\": null, \"type\": \"scatter\", \"hoverinfo\": \"text\"}, {\"yaxis\": \"y\", \"y\": [255.0, 255.0, 272.5, 272.5], \"xaxis\": \"x\", \"marker\": {\"color\": \"rgb(255,65,54)\"}, \"mode\": \"lines\", \"x\": [-0.0, -0.021819370653719344, -0.021819370653719344, -0.005999021596461096], \"text\": null, \"type\": \"scatter\", \"hoverinfo\": \"text\"}, {\"yaxis\": \"y\", \"y\": [295.0, 295.0, 305.0, 305.0], \"xaxis\": \"x\", \"marker\": {\"color\": \"rgb(255,65,54)\"}, \"mode\": \"lines\", \"x\": [-0.0, -0.0009598237185983738, -0.0009598237185983738, -0.0], \"text\": null, \"type\": \"scatter\", \"hoverinfo\": \"text\"}, {\"yaxis\": \"y\", \"y\": [355.0, 355.0, 365.0, 365.0], \"xaxis\": \"x\", \"marker\": {\"color\": \"rgb(255,65,54)\"}, \"mode\": \"lines\", \"x\": [-0.0, -0.0, -0.0, -0.0], \"text\": null, \"type\": \"scatter\", \"hoverinfo\": \"text\"}, {\"yaxis\": \"y\", \"y\": [345.0, 345.0, 360.0, 360.0], \"xaxis\": \"x\", \"marker\": {\"color\": \"rgb(255,65,54)\"}, \"mode\": \"lines\", \"x\": [-0.0, -0.0, -0.0, -0.0], \"text\": null, \"type\": \"scatter\", \"hoverinfo\": \"text\"}, {\"yaxis\": \"y\", \"y\": [335.0, 335.0, 352.5, 352.5], \"xaxis\": \"x\", \"marker\": {\"color\": \"rgb(255,65,54)\"}, \"mode\": \"lines\", \"x\": [-0.0, -0.0, -0.0, -0.0], \"text\": null, \"type\": \"scatter\", \"hoverinfo\": \"text\"}, {\"yaxis\": \"y\", \"y\": [325.0, 325.0, 343.75, 343.75], \"xaxis\": \"x\", \"marker\": {\"color\": \"rgb(255,65,54)\"}, \"mode\": \"lines\", \"x\": [-0.0, -4.373723605510804e-12, -4.373723605510804e-12, -0.0], \"text\": null, \"type\": \"scatter\", \"hoverinfo\": \"text\"}, {\"yaxis\": \"y\", \"y\": [315.0, 315.0, 334.375, 334.375], \"xaxis\": \"x\", \"marker\": {\"color\": \"rgb(255,65,54)\"}, \"mode\": \"lines\", \"x\": [-0.0, -0.015424716796514781, -0.015424716796514781, -4.373723605510804e-12], \"text\": null, \"type\": \"scatter\", \"hoverinfo\": \"text\"}, {\"yaxis\": \"y\", \"y\": [300.0, 300.0, 324.6875, 324.6875], \"xaxis\": \"x\", \"marker\": {\"color\": \"rgb(255,65,54)\"}, \"mode\": \"lines\", \"x\": [-0.0009598237185983738, -0.02647255358951846, -0.02647255358951846, -0.015424716796514781], \"text\": null, \"type\": \"scatter\", \"hoverinfo\": \"text\"}, {\"yaxis\": \"y\", \"y\": [263.75, 263.75, 312.34375, 312.34375], \"xaxis\": \"x\", \"marker\": {\"color\": \"rgb(255,65,54)\"}, \"mode\": \"lines\", \"x\": [-0.021819370653719344, -0.08367147122019106, -0.08367147122019106, -0.02647255358951846], \"text\": null, \"type\": \"scatter\", \"hoverinfo\": \"text\"}, {\"yaxis\": \"y\", \"y\": [245.0, 245.0, 288.046875, 288.046875], \"xaxis\": \"x\", \"marker\": {\"color\": \"rgb(255,65,54)\"}, \"mode\": \"lines\", \"x\": [-0.0, -0.17709819763751475, -0.17709819763751475, -0.08367147122019106], \"text\": null, \"type\": \"scatter\", \"hoverinfo\": \"text\"}, {\"yaxis\": \"y\", \"y\": [235.0, 235.0, 266.5234375, 266.5234375], \"xaxis\": \"x\", \"marker\": {\"color\": \"rgb(255,65,54)\"}, \"mode\": \"lines\", \"x\": [-0.0, -0.18826713138092382, -0.18826713138092382, -0.17709819763751475], \"text\": null, \"type\": \"scatter\", \"hoverinfo\": \"text\"}, {\"yaxis\": \"y\", \"y\": [225.0, 225.0, 250.76171875, 250.76171875], \"xaxis\": \"x\", \"marker\": {\"color\": \"rgb(255,65,54)\"}, \"mode\": \"lines\", \"x\": [-0.0, -0.35215074324549794, -0.35215074324549794, -0.18826713138092382], \"text\": null, \"type\": \"scatter\", \"hoverinfo\": \"text\"}, {\"yaxis\": \"y\", \"y\": [215.0, 215.0, 237.880859375, 237.880859375], \"xaxis\": \"x\", \"marker\": {\"color\": \"rgb(0,116,217)\"}, \"mode\": \"lines\", \"x\": [-0.0, -0.7023834155619072, -0.7023834155619072, -0.35215074324549794], \"text\": null, \"type\": \"scatter\", \"hoverinfo\": \"text\"}, {\"yaxis\": \"y\", \"y\": [205.0, 205.0, 226.4404296875, 226.4404296875], \"xaxis\": \"x\", \"marker\": {\"color\": \"rgb(0,116,217)\"}, \"mode\": \"lines\", \"x\": [-0.0, -0.7202483180774457, -0.7202483180774457, -0.7023834155619072], \"text\": null, \"type\": \"scatter\", \"hoverinfo\": \"text\"}, {\"yaxis\": \"y\", \"y\": [195.0, 195.0, 215.72021484375, 215.72021484375], \"xaxis\": \"x\", \"marker\": {\"color\": \"rgb(0,116,217)\"}, \"mode\": \"lines\", \"x\": [-0.0, -0.793772888614805, -0.793772888614805, -0.7202483180774457], \"text\": null, \"type\": \"scatter\", \"hoverinfo\": \"text\"}, {\"yaxis\": \"y\", \"y\": [29.31640625, 29.31640625, 205.360107421875, 205.360107421875], \"xaxis\": \"x\", \"marker\": {\"color\": \"rgb(0,116,217)\"}, \"mode\": \"lines\", \"x\": [-0.3596865744888327, -0.9009058684629978, -0.9009058684629978, -0.793772888614805], \"text\": null, \"type\": \"scatter\", \"hoverinfo\": \"text\"}, {\"yaxis\": \"y\", \"y\": [5.0, 5.0, 117.3382568359375, 117.3382568359375], \"xaxis\": \"x\", \"marker\": {\"color\": \"rgb(0,116,217)\"}, \"mode\": \"lines\", \"x\": [-0.0, -0.9976628156226902, -0.9976628156226902, -0.9009058684629978], \"text\": null, \"type\": \"scatter\", \"hoverinfo\": \"text\"}], {\"yaxis\": {\"ticktext\": [\"mpd_phylogenetic_unweighted\", \"chi_squared_phylogenetic_weighted\", \"lennon_phylogenetic_weighted\", \"hellinger_phylogenetic_weighted\", \"pearson_phylogenetic_weighted\", \"p_st_phylogenetic_weighted\", \"morisita_horn_phylogenetic_weighted\", \"raohp_phylogenetic_weighted\", \"weighted_corr_phylogenetic_weighted\", \"yue_clayton_phylogenetic_weighted\", \"euclidean_phylogenetic_weighted\", \"manhattan_phylogenetic_weighted\", \"complete_tree_phylogenetic_weighted\", \"whittaker_phylogenetic_weighted\", \"tamas_coeff_phylogenetic_weighted\", \"soergel_phylogenetic_weighted\", \"kulczynski_phylogenetic_weighted\", \"braycurtis_phylogenetic_weighted\", \"normalized_weighted_unifrac_phylogenetic_weighted\", \"mpd_phylogenetic_weighted\", \"mnnd_phylogenetic_weighted\", \"lennon_phylogenetic_unweighted\", \"mnnd_phylogenetic_unweighted\", \"pearson_phylogenetic_unweighted\", \"gower_phylogenetic_weighted\", \"kulczynski_phylogenetic_unweighted\", \"weighted_corr_phylogenetic_unweighted\", \"soergel_phylogenetic_unweighted\", \"braycurtis_phylogenetic_unweighted\", \"canberra_phylogenetic_weighted\", \"coeff_similarity_phylogenetic_weighted\", \"euclidean_phylogenetic_unweighted\", \"tamas_coeff_phylogenetic_unweighted\", \"gower_phylogenetic_unweighted\", \"coeff_similarity_phylogenetic_unweighted\", \"canberra_phylogenetic_unweighted\", \"manhattan_phylogenetic_unweighted\"], \"tickmode\": \"array\", \"tickvals\": [5, 15, 25, 35, 45, 55, 65, 75, 85, 95, 105, 115, 125, 135, 145, 155, 165, 175, 185, 195, 205, 215, 225, 235, 245, 255, 265, 275, 285, 295, 305, 315, 325, 335, 345, 355, 365], \"rangemode\": \"tozero\", \"zeroline\": false, \"showline\": true, \"side\": \"right\", \"type\": \"linear\", \"ticks\": \"outside\", \"showgrid\": false, \"showticklabels\": true, \"mirror\": \"allticks\"}, \"hovermode\": \"closest\", \"height\": 600, \"margin\": {\"r\": 250}, \"width\": 800, \"xaxis\": {\"showgrid\": false, \"mirror\": \"allticks\", \"type\": \"linear\", \"ticks\": \"outside\", \"rangemode\": \"tozero\", \"showticklabels\": true, \"showline\": true, \"zeroline\": false}, \"showlegend\": false, \"autosize\": false}, {\"showLink\": true, \"linkText\": \"Export to plot.ly\"})});</script>"
      ]
     },
     "metadata": {},
     "output_type": "display_data"
    }
   ],
   "source": [
    "plot_dm_dendrogram(filters=[\"nonphylogenetic\"],height=600)"
   ]
  },
  {
   "cell_type": "code",
   "execution_count": 26,
   "metadata": {},
   "outputs": [
    {
     "name": "stderr",
     "output_type": "stream",
     "text": [
      "/home/mwhall/anaconda3/envs/qiime2-2018.4/lib/python3.5/site-packages/scipy/stats/stats.py:3021: RuntimeWarning:\n",
      "\n",
      "invalid value encountered in double_scalars\n",
      "\n"
     ]
    },
    {
     "data": {
      "application/vnd.plotly.v1+json": {
       "data": [
        {
         "hoverinfo": "text",
         "marker": {
          "color": "rgb(61,153,112)"
         },
         "mode": "lines",
         "text": null,
         "type": "scatter",
         "x": [
          0,
          0,
          0,
          0
         ],
         "xaxis": "x",
         "y": [
          35,
          35,
          45,
          45
         ],
         "yaxis": "y"
        },
        {
         "hoverinfo": "text",
         "marker": {
          "color": "rgb(61,153,112)"
         },
         "mode": "lines",
         "text": null,
         "type": "scatter",
         "x": [
          0,
          -0.0024743212000009063,
          -0.0024743212000009063,
          0
         ],
         "xaxis": "x",
         "y": [
          25,
          25,
          40,
          40
         ],
         "yaxis": "y"
        },
        {
         "hoverinfo": "text",
         "marker": {
          "color": "rgb(61,153,112)"
         },
         "mode": "lines",
         "text": null,
         "type": "scatter",
         "x": [
          0,
          -0.00844711586518987,
          -0.00844711586518987,
          -0.0024743212000009063
         ],
         "xaxis": "x",
         "y": [
          15,
          15,
          32.5,
          32.5
         ],
         "yaxis": "y"
        },
        {
         "hoverinfo": "text",
         "marker": {
          "color": "rgb(61,153,112)"
         },
         "mode": "lines",
         "text": null,
         "type": "scatter",
         "x": [
          0,
          0,
          0,
          0
         ],
         "xaxis": "x",
         "y": [
          115,
          115,
          125,
          125
         ],
         "yaxis": "y"
        },
        {
         "hoverinfo": "text",
         "marker": {
          "color": "rgb(61,153,112)"
         },
         "mode": "lines",
         "text": null,
         "type": "scatter",
         "x": [
          0,
          0,
          0,
          0
         ],
         "xaxis": "x",
         "y": [
          105,
          105,
          120,
          120
         ],
         "yaxis": "y"
        },
        {
         "hoverinfo": "text",
         "marker": {
          "color": "rgb(61,153,112)"
         },
         "mode": "lines",
         "text": null,
         "type": "scatter",
         "x": [
          0,
          0,
          0,
          0
         ],
         "xaxis": "x",
         "y": [
          95,
          95,
          112.5,
          112.5
         ],
         "yaxis": "y"
        },
        {
         "hoverinfo": "text",
         "marker": {
          "color": "rgb(61,153,112)"
         },
         "mode": "lines",
         "text": null,
         "type": "scatter",
         "x": [
          0,
          -4.3268721938716226e-12,
          -4.3268721938716226e-12,
          0
         ],
         "xaxis": "x",
         "y": [
          85,
          85,
          103.75,
          103.75
         ],
         "yaxis": "y"
        },
        {
         "hoverinfo": "text",
         "marker": {
          "color": "rgb(61,153,112)"
         },
         "mode": "lines",
         "text": null,
         "type": "scatter",
         "x": [
          0,
          -8.576517274150319e-12,
          -8.576517274150319e-12,
          -4.3268721938716226e-12
         ],
         "xaxis": "x",
         "y": [
          75,
          75,
          94.375,
          94.375
         ],
         "yaxis": "y"
        },
        {
         "hoverinfo": "text",
         "marker": {
          "color": "rgb(61,153,112)"
         },
         "mode": "lines",
         "text": null,
         "type": "scatter",
         "x": [
          0,
          -0.0055496783388117215,
          -0.0055496783388117215,
          -8.576517274150319e-12
         ],
         "xaxis": "x",
         "y": [
          65,
          65,
          84.6875,
          84.6875
         ],
         "yaxis": "y"
        },
        {
         "hoverinfo": "text",
         "marker": {
          "color": "rgb(61,153,112)"
         },
         "mode": "lines",
         "text": null,
         "type": "scatter",
         "x": [
          0,
          -0.017816153544488147,
          -0.017816153544488147,
          -0.0055496783388117215
         ],
         "xaxis": "x",
         "y": [
          55,
          55,
          74.84375,
          74.84375
         ],
         "yaxis": "y"
        },
        {
         "hoverinfo": "text",
         "marker": {
          "color": "rgb(61,153,112)"
         },
         "mode": "lines",
         "text": null,
         "type": "scatter",
         "x": [
          -0.00844711586518987,
          -0.05447199996100005,
          -0.05447199996100005,
          -0.017816153544488147
         ],
         "xaxis": "x",
         "y": [
          23.75,
          23.75,
          64.921875,
          64.921875
         ],
         "yaxis": "y"
        },
        {
         "hoverinfo": "text",
         "marker": {
          "color": "rgb(61,153,112)"
         },
         "mode": "lines",
         "text": null,
         "type": "scatter",
         "x": [
          0,
          -0.10205782518160156,
          -0.10205782518160156,
          0
         ],
         "xaxis": "x",
         "y": [
          135,
          135,
          145,
          145
         ],
         "yaxis": "y"
        },
        {
         "hoverinfo": "text",
         "marker": {
          "color": "rgb(61,153,112)"
         },
         "mode": "lines",
         "text": null,
         "type": "scatter",
         "x": [
          -0.05447199996100005,
          -0.18994638794227803,
          -0.18994638794227803,
          -0.10205782518160156
         ],
         "xaxis": "x",
         "y": [
          44.3359375,
          44.3359375,
          140,
          140
         ],
         "yaxis": "y"
        },
        {
         "hoverinfo": "text",
         "marker": {
          "color": "rgb(255,65,54)"
         },
         "mode": "lines",
         "text": null,
         "type": "scatter",
         "x": [
          0,
          0,
          0,
          0
         ],
         "xaxis": "x",
         "y": [
          205,
          205,
          215,
          215
         ],
         "yaxis": "y"
        },
        {
         "hoverinfo": "text",
         "marker": {
          "color": "rgb(255,65,54)"
         },
         "mode": "lines",
         "text": null,
         "type": "scatter",
         "x": [
          0,
          0,
          0,
          0
         ],
         "xaxis": "x",
         "y": [
          195,
          195,
          210,
          210
         ],
         "yaxis": "y"
        },
        {
         "hoverinfo": "text",
         "marker": {
          "color": "rgb(255,65,54)"
         },
         "mode": "lines",
         "text": null,
         "type": "scatter",
         "x": [
          0,
          0,
          0,
          0
         ],
         "xaxis": "x",
         "y": [
          185,
          185,
          202.5,
          202.5
         ],
         "yaxis": "y"
        },
        {
         "hoverinfo": "text",
         "marker": {
          "color": "rgb(255,65,54)"
         },
         "mode": "lines",
         "text": null,
         "type": "scatter",
         "x": [
          0,
          -8.666400930223972e-12,
          -8.666400930223972e-12,
          0
         ],
         "xaxis": "x",
         "y": [
          175,
          175,
          193.75,
          193.75
         ],
         "yaxis": "y"
        },
        {
         "hoverinfo": "text",
         "marker": {
          "color": "rgb(255,65,54)"
         },
         "mode": "lines",
         "text": null,
         "type": "scatter",
         "x": [
          0,
          -0.00014071463704079523,
          -0.00014071463704079523,
          0
         ],
         "xaxis": "x",
         "y": [
          225,
          225,
          235,
          235
         ],
         "yaxis": "y"
        },
        {
         "hoverinfo": "text",
         "marker": {
          "color": "rgb(255,65,54)"
         },
         "mode": "lines",
         "text": null,
         "type": "scatter",
         "x": [
          -8.666400930223972e-12,
          -0.0026235789874389463,
          -0.0026235789874389463,
          -0.00014071463704079523
         ],
         "xaxis": "x",
         "y": [
          184.375,
          184.375,
          230,
          230
         ],
         "yaxis": "y"
        },
        {
         "hoverinfo": "text",
         "marker": {
          "color": "rgb(255,65,54)"
         },
         "mode": "lines",
         "text": null,
         "type": "scatter",
         "x": [
          0,
          -0.016600788140712513,
          -0.016600788140712513,
          -0.0026235789874389463
         ],
         "xaxis": "x",
         "y": [
          165,
          165,
          207.1875,
          207.1875
         ],
         "yaxis": "y"
        },
        {
         "hoverinfo": "text",
         "marker": {
          "color": "rgb(255,65,54)"
         },
         "mode": "lines",
         "text": null,
         "type": "scatter",
         "x": [
          0,
          -0.04151407408131495,
          -0.04151407408131495,
          -0.016600788140712513
         ],
         "xaxis": "x",
         "y": [
          155,
          155,
          186.09375,
          186.09375
         ],
         "yaxis": "y"
        },
        {
         "hoverinfo": "text",
         "marker": {
          "color": "rgb(255,65,54)"
         },
         "mode": "lines",
         "text": null,
         "type": "scatter",
         "x": [
          0,
          0,
          0,
          0
         ],
         "xaxis": "x",
         "y": [
          285,
          285,
          295,
          295
         ],
         "yaxis": "y"
        },
        {
         "hoverinfo": "text",
         "marker": {
          "color": "rgb(255,65,54)"
         },
         "mode": "lines",
         "text": null,
         "type": "scatter",
         "x": [
          0,
          -0.0053167046371307425,
          -0.0053167046371307425,
          0
         ],
         "xaxis": "x",
         "y": [
          275,
          275,
          290,
          290
         ],
         "yaxis": "y"
        },
        {
         "hoverinfo": "text",
         "marker": {
          "color": "rgb(255,65,54)"
         },
         "mode": "lines",
         "text": null,
         "type": "scatter",
         "x": [
          0,
          -0.00888124588512503,
          -0.00888124588512503,
          -0.0053167046371307425
         ],
         "xaxis": "x",
         "y": [
          265,
          265,
          282.5,
          282.5
         ],
         "yaxis": "y"
        },
        {
         "hoverinfo": "text",
         "marker": {
          "color": "rgb(255,65,54)"
         },
         "mode": "lines",
         "text": null,
         "type": "scatter",
         "x": [
          0,
          -0.02069382904037914,
          -0.02069382904037914,
          -0.00888124588512503
         ],
         "xaxis": "x",
         "y": [
          255,
          255,
          273.75,
          273.75
         ],
         "yaxis": "y"
        },
        {
         "hoverinfo": "text",
         "marker": {
          "color": "rgb(255,65,54)"
         },
         "mode": "lines",
         "text": null,
         "type": "scatter",
         "x": [
          0,
          -0.1977275735114043,
          -0.1977275735114043,
          -0.02069382904037914
         ],
         "xaxis": "x",
         "y": [
          245,
          245,
          264.375,
          264.375
         ],
         "yaxis": "y"
        },
        {
         "hoverinfo": "text",
         "marker": {
          "color": "rgb(255,65,54)"
         },
         "mode": "lines",
         "text": null,
         "type": "scatter",
         "x": [
          -0.04151407408131495,
          -0.3227520689605556,
          -0.3227520689605556,
          -0.1977275735114043
         ],
         "xaxis": "x",
         "y": [
          170.546875,
          170.546875,
          254.6875,
          254.6875
         ],
         "yaxis": "y"
        },
        {
         "hoverinfo": "text",
         "marker": {
          "color": "rgb(0,116,217)"
         },
         "mode": "lines",
         "text": null,
         "type": "scatter",
         "x": [
          -0.18994638794227803,
          -0.714683401178366,
          -0.714683401178366,
          -0.3227520689605556
         ],
         "xaxis": "x",
         "y": [
          92.16796875,
          92.16796875,
          212.6171875,
          212.6171875
         ],
         "yaxis": "y"
        },
        {
         "hoverinfo": "text",
         "marker": {
          "color": "rgb(0,116,217)"
         },
         "mode": "lines",
         "text": null,
         "type": "scatter",
         "x": [
          0,
          -1,
          -1,
          -0.714683401178366
         ],
         "xaxis": "x",
         "y": [
          5,
          5,
          152.392578125,
          152.392578125
         ],
         "yaxis": "y"
        }
       ],
       "layout": {
        "autosize": false,
        "height": 600,
        "hovermode": "closest",
        "margin": {
         "r": 250
        },
        "showlegend": false,
        "width": 800,
        "xaxis": {
         "mirror": "allticks",
         "rangemode": "tozero",
         "showgrid": false,
         "showline": true,
         "showticklabels": true,
         "ticks": "outside",
         "type": "linear",
         "zeroline": false
        },
        "yaxis": {
         "mirror": "allticks",
         "rangemode": "tozero",
         "showgrid": false,
         "showline": true,
         "showticklabels": true,
         "side": "right",
         "tickmode": "array",
         "ticks": "outside",
         "ticktext": [
          "raohp_nonphylogenetic_weighted",
          "yue_clayton_nonphylogenetic_weighted",
          "morisita_horn_nonphylogenetic_weighted",
          "weighted_corr_nonphylogenetic_weighted",
          "pearson_nonphylogenetic_weighted",
          "euclidean_nonphylogenetic_weighted",
          "soergel_nonphylogenetic_weighted",
          "tamas_coeff_nonphylogenetic_weighted",
          "manhattan_nonphylogenetic_weighted",
          "braycurtis_nonphylogenetic_weighted",
          "kulczynski_nonphylogenetic_weighted",
          "lennon_nonphylogenetic_weighted",
          "whittaker_nonphylogenetic_weighted",
          "hellinger_nonphylogenetic_weighted",
          "chi_squared_nonphylogenetic_weighted",
          "gower_nonphylogenetic_weighted",
          "euclidean_nonphylogenetic_unweighted",
          "tamas_coeff_nonphylogenetic_unweighted",
          "gower_nonphylogenetic_unweighted",
          "canberra_nonphylogenetic_unweighted",
          "manhattan_nonphylogenetic_unweighted",
          "coeff_similarity_nonphylogenetic_unweighted",
          "coeff_similarity_nonphylogenetic_weighted",
          "canberra_nonphylogenetic_weighted",
          "lennon_nonphylogenetic_unweighted",
          "kulczynski_nonphylogenetic_unweighted",
          "soergel_nonphylogenetic_unweighted",
          "braycurtis_nonphylogenetic_unweighted",
          "pearson_nonphylogenetic_unweighted",
          "weighted_corr_nonphylogenetic_unweighted"
         ],
         "tickvals": [
          5,
          15,
          25,
          35,
          45,
          55,
          65,
          75,
          85,
          95,
          105,
          115,
          125,
          135,
          145,
          155,
          165,
          175,
          185,
          195,
          205,
          215,
          225,
          235,
          245,
          255,
          265,
          275,
          285,
          295
         ],
         "type": "linear",
         "zeroline": false
        }
       }
      },
      "text/html": [
       "<div id=\"882c9e95-b304-4a2e-8e7c-97e4ea74359e\" style=\"height: 600px; width: 800px;\" class=\"plotly-graph-div\"></div><script type=\"text/javascript\">require([\"plotly\"], function(Plotly) { window.PLOTLYENV=window.PLOTLYENV || {};window.PLOTLYENV.BASE_URL=\"https://plot.ly\";Plotly.newPlot(\"882c9e95-b304-4a2e-8e7c-97e4ea74359e\", [{\"yaxis\": \"y\", \"y\": [35.0, 35.0, 45.0, 45.0], \"xaxis\": \"x\", \"marker\": {\"color\": \"rgb(61,153,112)\"}, \"mode\": \"lines\", \"x\": [-0.0, -0.0, -0.0, -0.0], \"text\": null, \"type\": \"scatter\", \"hoverinfo\": \"text\"}, {\"yaxis\": \"y\", \"y\": [25.0, 25.0, 40.0, 40.0], \"xaxis\": \"x\", \"marker\": {\"color\": \"rgb(61,153,112)\"}, \"mode\": \"lines\", \"x\": [-0.0, -0.0024743212000009063, -0.0024743212000009063, -0.0], \"text\": null, \"type\": \"scatter\", \"hoverinfo\": \"text\"}, {\"yaxis\": \"y\", \"y\": [15.0, 15.0, 32.5, 32.5], \"xaxis\": \"x\", \"marker\": {\"color\": \"rgb(61,153,112)\"}, \"mode\": \"lines\", \"x\": [-0.0, -0.00844711586518987, -0.00844711586518987, -0.0024743212000009063], \"text\": null, \"type\": \"scatter\", \"hoverinfo\": \"text\"}, {\"yaxis\": \"y\", \"y\": [115.0, 115.0, 125.0, 125.0], \"xaxis\": \"x\", \"marker\": {\"color\": \"rgb(61,153,112)\"}, \"mode\": \"lines\", \"x\": [-0.0, -0.0, -0.0, -0.0], \"text\": null, \"type\": \"scatter\", \"hoverinfo\": \"text\"}, {\"yaxis\": \"y\", \"y\": [105.0, 105.0, 120.0, 120.0], \"xaxis\": \"x\", \"marker\": {\"color\": \"rgb(61,153,112)\"}, \"mode\": \"lines\", \"x\": [-0.0, -0.0, -0.0, -0.0], \"text\": null, \"type\": \"scatter\", \"hoverinfo\": \"text\"}, {\"yaxis\": \"y\", \"y\": [95.0, 95.0, 112.5, 112.5], \"xaxis\": \"x\", \"marker\": {\"color\": \"rgb(61,153,112)\"}, \"mode\": \"lines\", \"x\": [-0.0, -0.0, -0.0, -0.0], \"text\": null, \"type\": \"scatter\", \"hoverinfo\": \"text\"}, {\"yaxis\": \"y\", \"y\": [85.0, 85.0, 103.75, 103.75], \"xaxis\": \"x\", \"marker\": {\"color\": \"rgb(61,153,112)\"}, \"mode\": \"lines\", \"x\": [-0.0, -4.3268721938716226e-12, -4.3268721938716226e-12, -0.0], \"text\": null, \"type\": \"scatter\", \"hoverinfo\": \"text\"}, {\"yaxis\": \"y\", \"y\": [75.0, 75.0, 94.375, 94.375], \"xaxis\": \"x\", \"marker\": {\"color\": \"rgb(61,153,112)\"}, \"mode\": \"lines\", \"x\": [-0.0, -8.576517274150319e-12, -8.576517274150319e-12, -4.3268721938716226e-12], \"text\": null, \"type\": \"scatter\", \"hoverinfo\": \"text\"}, {\"yaxis\": \"y\", \"y\": [65.0, 65.0, 84.6875, 84.6875], \"xaxis\": \"x\", \"marker\": {\"color\": \"rgb(61,153,112)\"}, \"mode\": \"lines\", \"x\": [-0.0, -0.0055496783388117215, -0.0055496783388117215, -8.576517274150319e-12], \"text\": null, \"type\": \"scatter\", \"hoverinfo\": \"text\"}, {\"yaxis\": \"y\", \"y\": [55.0, 55.0, 74.84375, 74.84375], \"xaxis\": \"x\", \"marker\": {\"color\": \"rgb(61,153,112)\"}, \"mode\": \"lines\", \"x\": [-0.0, -0.017816153544488147, -0.017816153544488147, -0.0055496783388117215], \"text\": null, \"type\": \"scatter\", \"hoverinfo\": \"text\"}, {\"yaxis\": \"y\", \"y\": [23.75, 23.75, 64.921875, 64.921875], \"xaxis\": \"x\", \"marker\": {\"color\": \"rgb(61,153,112)\"}, \"mode\": \"lines\", \"x\": [-0.00844711586518987, -0.05447199996100005, -0.05447199996100005, -0.017816153544488147], \"text\": null, \"type\": \"scatter\", \"hoverinfo\": \"text\"}, {\"yaxis\": \"y\", \"y\": [135.0, 135.0, 145.0, 145.0], \"xaxis\": \"x\", \"marker\": {\"color\": \"rgb(61,153,112)\"}, \"mode\": \"lines\", \"x\": [-0.0, -0.10205782518160156, -0.10205782518160156, -0.0], \"text\": null, \"type\": \"scatter\", \"hoverinfo\": \"text\"}, {\"yaxis\": \"y\", \"y\": [44.3359375, 44.3359375, 140.0, 140.0], \"xaxis\": \"x\", \"marker\": {\"color\": \"rgb(61,153,112)\"}, \"mode\": \"lines\", \"x\": [-0.05447199996100005, -0.18994638794227803, -0.18994638794227803, -0.10205782518160156], \"text\": null, \"type\": \"scatter\", \"hoverinfo\": \"text\"}, {\"yaxis\": \"y\", \"y\": [205.0, 205.0, 215.0, 215.0], \"xaxis\": \"x\", \"marker\": {\"color\": \"rgb(255,65,54)\"}, \"mode\": \"lines\", \"x\": [-0.0, -0.0, -0.0, -0.0], \"text\": null, \"type\": \"scatter\", \"hoverinfo\": \"text\"}, {\"yaxis\": \"y\", \"y\": [195.0, 195.0, 210.0, 210.0], \"xaxis\": \"x\", \"marker\": {\"color\": \"rgb(255,65,54)\"}, \"mode\": \"lines\", \"x\": [-0.0, -0.0, -0.0, -0.0], \"text\": null, \"type\": \"scatter\", \"hoverinfo\": \"text\"}, {\"yaxis\": \"y\", \"y\": [185.0, 185.0, 202.5, 202.5], \"xaxis\": \"x\", \"marker\": {\"color\": \"rgb(255,65,54)\"}, \"mode\": \"lines\", \"x\": [-0.0, -0.0, -0.0, -0.0], \"text\": null, \"type\": \"scatter\", \"hoverinfo\": \"text\"}, {\"yaxis\": \"y\", \"y\": [175.0, 175.0, 193.75, 193.75], \"xaxis\": \"x\", \"marker\": {\"color\": \"rgb(255,65,54)\"}, \"mode\": \"lines\", \"x\": [-0.0, -8.666400930223972e-12, -8.666400930223972e-12, -0.0], \"text\": null, \"type\": \"scatter\", \"hoverinfo\": \"text\"}, {\"yaxis\": \"y\", \"y\": [225.0, 225.0, 235.0, 235.0], \"xaxis\": \"x\", \"marker\": {\"color\": \"rgb(255,65,54)\"}, \"mode\": \"lines\", \"x\": [-0.0, -0.00014071463704079523, -0.00014071463704079523, -0.0], \"text\": null, \"type\": \"scatter\", \"hoverinfo\": \"text\"}, {\"yaxis\": \"y\", \"y\": [184.375, 184.375, 230.0, 230.0], \"xaxis\": \"x\", \"marker\": {\"color\": \"rgb(255,65,54)\"}, \"mode\": \"lines\", \"x\": [-8.666400930223972e-12, -0.0026235789874389463, -0.0026235789874389463, -0.00014071463704079523], \"text\": null, \"type\": \"scatter\", \"hoverinfo\": \"text\"}, {\"yaxis\": \"y\", \"y\": [165.0, 165.0, 207.1875, 207.1875], \"xaxis\": \"x\", \"marker\": {\"color\": \"rgb(255,65,54)\"}, \"mode\": \"lines\", \"x\": [-0.0, -0.016600788140712513, -0.016600788140712513, -0.0026235789874389463], \"text\": null, \"type\": \"scatter\", \"hoverinfo\": \"text\"}, {\"yaxis\": \"y\", \"y\": [155.0, 155.0, 186.09375, 186.09375], \"xaxis\": \"x\", \"marker\": {\"color\": \"rgb(255,65,54)\"}, \"mode\": \"lines\", \"x\": [-0.0, -0.04151407408131495, -0.04151407408131495, -0.016600788140712513], \"text\": null, \"type\": \"scatter\", \"hoverinfo\": \"text\"}, {\"yaxis\": \"y\", \"y\": [285.0, 285.0, 295.0, 295.0], \"xaxis\": \"x\", \"marker\": {\"color\": \"rgb(255,65,54)\"}, \"mode\": \"lines\", \"x\": [-0.0, -0.0, -0.0, -0.0], \"text\": null, \"type\": \"scatter\", \"hoverinfo\": \"text\"}, {\"yaxis\": \"y\", \"y\": [275.0, 275.0, 290.0, 290.0], \"xaxis\": \"x\", \"marker\": {\"color\": \"rgb(255,65,54)\"}, \"mode\": \"lines\", \"x\": [-0.0, -0.0053167046371307425, -0.0053167046371307425, -0.0], \"text\": null, \"type\": \"scatter\", \"hoverinfo\": \"text\"}, {\"yaxis\": \"y\", \"y\": [265.0, 265.0, 282.5, 282.5], \"xaxis\": \"x\", \"marker\": {\"color\": \"rgb(255,65,54)\"}, \"mode\": \"lines\", \"x\": [-0.0, -0.00888124588512503, -0.00888124588512503, -0.0053167046371307425], \"text\": null, \"type\": \"scatter\", \"hoverinfo\": \"text\"}, {\"yaxis\": \"y\", \"y\": [255.0, 255.0, 273.75, 273.75], \"xaxis\": \"x\", \"marker\": {\"color\": \"rgb(255,65,54)\"}, \"mode\": \"lines\", \"x\": [-0.0, -0.02069382904037914, -0.02069382904037914, -0.00888124588512503], \"text\": null, \"type\": \"scatter\", \"hoverinfo\": \"text\"}, {\"yaxis\": \"y\", \"y\": [245.0, 245.0, 264.375, 264.375], \"xaxis\": \"x\", \"marker\": {\"color\": \"rgb(255,65,54)\"}, \"mode\": \"lines\", \"x\": [-0.0, -0.1977275735114043, -0.1977275735114043, -0.02069382904037914], \"text\": null, \"type\": \"scatter\", \"hoverinfo\": \"text\"}, {\"yaxis\": \"y\", \"y\": [170.546875, 170.546875, 254.6875, 254.6875], \"xaxis\": \"x\", \"marker\": {\"color\": \"rgb(255,65,54)\"}, \"mode\": \"lines\", \"x\": [-0.04151407408131495, -0.3227520689605556, -0.3227520689605556, -0.1977275735114043], \"text\": null, \"type\": \"scatter\", \"hoverinfo\": \"text\"}, {\"yaxis\": \"y\", \"y\": [92.16796875, 92.16796875, 212.6171875, 212.6171875], \"xaxis\": \"x\", \"marker\": {\"color\": \"rgb(0,116,217)\"}, \"mode\": \"lines\", \"x\": [-0.18994638794227803, -0.714683401178366, -0.714683401178366, -0.3227520689605556], \"text\": null, \"type\": \"scatter\", \"hoverinfo\": \"text\"}, {\"yaxis\": \"y\", \"y\": [5.0, 5.0, 152.392578125, 152.392578125], \"xaxis\": \"x\", \"marker\": {\"color\": \"rgb(0,116,217)\"}, \"mode\": \"lines\", \"x\": [-0.0, -1.0, -1.0, -0.714683401178366], \"text\": null, \"type\": \"scatter\", \"hoverinfo\": \"text\"}], {\"yaxis\": {\"ticktext\": [\"raohp_nonphylogenetic_weighted\", \"yue_clayton_nonphylogenetic_weighted\", \"morisita_horn_nonphylogenetic_weighted\", \"weighted_corr_nonphylogenetic_weighted\", \"pearson_nonphylogenetic_weighted\", \"euclidean_nonphylogenetic_weighted\", \"soergel_nonphylogenetic_weighted\", \"tamas_coeff_nonphylogenetic_weighted\", \"manhattan_nonphylogenetic_weighted\", \"braycurtis_nonphylogenetic_weighted\", \"kulczynski_nonphylogenetic_weighted\", \"lennon_nonphylogenetic_weighted\", \"whittaker_nonphylogenetic_weighted\", \"hellinger_nonphylogenetic_weighted\", \"chi_squared_nonphylogenetic_weighted\", \"gower_nonphylogenetic_weighted\", \"euclidean_nonphylogenetic_unweighted\", \"tamas_coeff_nonphylogenetic_unweighted\", \"gower_nonphylogenetic_unweighted\", \"canberra_nonphylogenetic_unweighted\", \"manhattan_nonphylogenetic_unweighted\", \"coeff_similarity_nonphylogenetic_unweighted\", \"coeff_similarity_nonphylogenetic_weighted\", \"canberra_nonphylogenetic_weighted\", \"lennon_nonphylogenetic_unweighted\", \"kulczynski_nonphylogenetic_unweighted\", \"soergel_nonphylogenetic_unweighted\", \"braycurtis_nonphylogenetic_unweighted\", \"pearson_nonphylogenetic_unweighted\", \"weighted_corr_nonphylogenetic_unweighted\"], \"tickmode\": \"array\", \"tickvals\": [5, 15, 25, 35, 45, 55, 65, 75, 85, 95, 105, 115, 125, 135, 145, 155, 165, 175, 185, 195, 205, 215, 225, 235, 245, 255, 265, 275, 285, 295], \"rangemode\": \"tozero\", \"zeroline\": false, \"showline\": true, \"side\": \"right\", \"type\": \"linear\", \"ticks\": \"outside\", \"showgrid\": false, \"showticklabels\": true, \"mirror\": \"allticks\"}, \"hovermode\": \"closest\", \"height\": 600, \"margin\": {\"r\": 250}, \"width\": 800, \"xaxis\": {\"showgrid\": false, \"mirror\": \"allticks\", \"type\": \"linear\", \"ticks\": \"outside\", \"rangemode\": \"tozero\", \"showticklabels\": true, \"showline\": true, \"zeroline\": false}, \"showlegend\": false, \"autosize\": false}, {\"showLink\": true, \"linkText\": \"Export to plot.ly\"})});</script>"
      ],
      "text/vnd.plotly.v1+html": [
       "<div id=\"882c9e95-b304-4a2e-8e7c-97e4ea74359e\" style=\"height: 600px; width: 800px;\" class=\"plotly-graph-div\"></div><script type=\"text/javascript\">require([\"plotly\"], function(Plotly) { window.PLOTLYENV=window.PLOTLYENV || {};window.PLOTLYENV.BASE_URL=\"https://plot.ly\";Plotly.newPlot(\"882c9e95-b304-4a2e-8e7c-97e4ea74359e\", [{\"yaxis\": \"y\", \"y\": [35.0, 35.0, 45.0, 45.0], \"xaxis\": \"x\", \"marker\": {\"color\": \"rgb(61,153,112)\"}, \"mode\": \"lines\", \"x\": [-0.0, -0.0, -0.0, -0.0], \"text\": null, \"type\": \"scatter\", \"hoverinfo\": \"text\"}, {\"yaxis\": \"y\", \"y\": [25.0, 25.0, 40.0, 40.0], \"xaxis\": \"x\", \"marker\": {\"color\": \"rgb(61,153,112)\"}, \"mode\": \"lines\", \"x\": [-0.0, -0.0024743212000009063, -0.0024743212000009063, -0.0], \"text\": null, \"type\": \"scatter\", \"hoverinfo\": \"text\"}, {\"yaxis\": \"y\", \"y\": [15.0, 15.0, 32.5, 32.5], \"xaxis\": \"x\", \"marker\": {\"color\": \"rgb(61,153,112)\"}, \"mode\": \"lines\", \"x\": [-0.0, -0.00844711586518987, -0.00844711586518987, -0.0024743212000009063], \"text\": null, \"type\": \"scatter\", \"hoverinfo\": \"text\"}, {\"yaxis\": \"y\", \"y\": [115.0, 115.0, 125.0, 125.0], \"xaxis\": \"x\", \"marker\": {\"color\": \"rgb(61,153,112)\"}, \"mode\": \"lines\", \"x\": [-0.0, -0.0, -0.0, -0.0], \"text\": null, \"type\": \"scatter\", \"hoverinfo\": \"text\"}, {\"yaxis\": \"y\", \"y\": [105.0, 105.0, 120.0, 120.0], \"xaxis\": \"x\", \"marker\": {\"color\": \"rgb(61,153,112)\"}, \"mode\": \"lines\", \"x\": [-0.0, -0.0, -0.0, -0.0], \"text\": null, \"type\": \"scatter\", \"hoverinfo\": \"text\"}, {\"yaxis\": \"y\", \"y\": [95.0, 95.0, 112.5, 112.5], \"xaxis\": \"x\", \"marker\": {\"color\": \"rgb(61,153,112)\"}, \"mode\": \"lines\", \"x\": [-0.0, -0.0, -0.0, -0.0], \"text\": null, \"type\": \"scatter\", \"hoverinfo\": \"text\"}, {\"yaxis\": \"y\", \"y\": [85.0, 85.0, 103.75, 103.75], \"xaxis\": \"x\", \"marker\": {\"color\": \"rgb(61,153,112)\"}, \"mode\": \"lines\", \"x\": [-0.0, -4.3268721938716226e-12, -4.3268721938716226e-12, -0.0], \"text\": null, \"type\": \"scatter\", \"hoverinfo\": \"text\"}, {\"yaxis\": \"y\", \"y\": [75.0, 75.0, 94.375, 94.375], \"xaxis\": \"x\", \"marker\": {\"color\": \"rgb(61,153,112)\"}, \"mode\": \"lines\", \"x\": [-0.0, -8.576517274150319e-12, -8.576517274150319e-12, -4.3268721938716226e-12], \"text\": null, \"type\": \"scatter\", \"hoverinfo\": \"text\"}, {\"yaxis\": \"y\", \"y\": [65.0, 65.0, 84.6875, 84.6875], \"xaxis\": \"x\", \"marker\": {\"color\": \"rgb(61,153,112)\"}, \"mode\": \"lines\", \"x\": [-0.0, -0.0055496783388117215, -0.0055496783388117215, -8.576517274150319e-12], \"text\": null, \"type\": \"scatter\", \"hoverinfo\": \"text\"}, {\"yaxis\": \"y\", \"y\": [55.0, 55.0, 74.84375, 74.84375], \"xaxis\": \"x\", \"marker\": {\"color\": \"rgb(61,153,112)\"}, \"mode\": \"lines\", \"x\": [-0.0, -0.017816153544488147, -0.017816153544488147, -0.0055496783388117215], \"text\": null, \"type\": \"scatter\", \"hoverinfo\": \"text\"}, {\"yaxis\": \"y\", \"y\": [23.75, 23.75, 64.921875, 64.921875], \"xaxis\": \"x\", \"marker\": {\"color\": \"rgb(61,153,112)\"}, \"mode\": \"lines\", \"x\": [-0.00844711586518987, -0.05447199996100005, -0.05447199996100005, -0.017816153544488147], \"text\": null, \"type\": \"scatter\", \"hoverinfo\": \"text\"}, {\"yaxis\": \"y\", \"y\": [135.0, 135.0, 145.0, 145.0], \"xaxis\": \"x\", \"marker\": {\"color\": \"rgb(61,153,112)\"}, \"mode\": \"lines\", \"x\": [-0.0, -0.10205782518160156, -0.10205782518160156, -0.0], \"text\": null, \"type\": \"scatter\", \"hoverinfo\": \"text\"}, {\"yaxis\": \"y\", \"y\": [44.3359375, 44.3359375, 140.0, 140.0], \"xaxis\": \"x\", \"marker\": {\"color\": \"rgb(61,153,112)\"}, \"mode\": \"lines\", \"x\": [-0.05447199996100005, -0.18994638794227803, -0.18994638794227803, -0.10205782518160156], \"text\": null, \"type\": \"scatter\", \"hoverinfo\": \"text\"}, {\"yaxis\": \"y\", \"y\": [205.0, 205.0, 215.0, 215.0], \"xaxis\": \"x\", \"marker\": {\"color\": \"rgb(255,65,54)\"}, \"mode\": \"lines\", \"x\": [-0.0, -0.0, -0.0, -0.0], \"text\": null, \"type\": \"scatter\", \"hoverinfo\": \"text\"}, {\"yaxis\": \"y\", \"y\": [195.0, 195.0, 210.0, 210.0], \"xaxis\": \"x\", \"marker\": {\"color\": \"rgb(255,65,54)\"}, \"mode\": \"lines\", \"x\": [-0.0, -0.0, -0.0, -0.0], \"text\": null, \"type\": \"scatter\", \"hoverinfo\": \"text\"}, {\"yaxis\": \"y\", \"y\": [185.0, 185.0, 202.5, 202.5], \"xaxis\": \"x\", \"marker\": {\"color\": \"rgb(255,65,54)\"}, \"mode\": \"lines\", \"x\": [-0.0, -0.0, -0.0, -0.0], \"text\": null, \"type\": \"scatter\", \"hoverinfo\": \"text\"}, {\"yaxis\": \"y\", \"y\": [175.0, 175.0, 193.75, 193.75], \"xaxis\": \"x\", \"marker\": {\"color\": \"rgb(255,65,54)\"}, \"mode\": \"lines\", \"x\": [-0.0, -8.666400930223972e-12, -8.666400930223972e-12, -0.0], \"text\": null, \"type\": \"scatter\", \"hoverinfo\": \"text\"}, {\"yaxis\": \"y\", \"y\": [225.0, 225.0, 235.0, 235.0], \"xaxis\": \"x\", \"marker\": {\"color\": \"rgb(255,65,54)\"}, \"mode\": \"lines\", \"x\": [-0.0, -0.00014071463704079523, -0.00014071463704079523, -0.0], \"text\": null, \"type\": \"scatter\", \"hoverinfo\": \"text\"}, {\"yaxis\": \"y\", \"y\": [184.375, 184.375, 230.0, 230.0], \"xaxis\": \"x\", \"marker\": {\"color\": \"rgb(255,65,54)\"}, \"mode\": \"lines\", \"x\": [-8.666400930223972e-12, -0.0026235789874389463, -0.0026235789874389463, -0.00014071463704079523], \"text\": null, \"type\": \"scatter\", \"hoverinfo\": \"text\"}, {\"yaxis\": \"y\", \"y\": [165.0, 165.0, 207.1875, 207.1875], \"xaxis\": \"x\", \"marker\": {\"color\": \"rgb(255,65,54)\"}, \"mode\": \"lines\", \"x\": [-0.0, -0.016600788140712513, -0.016600788140712513, -0.0026235789874389463], \"text\": null, \"type\": \"scatter\", \"hoverinfo\": \"text\"}, {\"yaxis\": \"y\", \"y\": [155.0, 155.0, 186.09375, 186.09375], \"xaxis\": \"x\", \"marker\": {\"color\": \"rgb(255,65,54)\"}, \"mode\": \"lines\", \"x\": [-0.0, -0.04151407408131495, -0.04151407408131495, -0.016600788140712513], \"text\": null, \"type\": \"scatter\", \"hoverinfo\": \"text\"}, {\"yaxis\": \"y\", \"y\": [285.0, 285.0, 295.0, 295.0], \"xaxis\": \"x\", \"marker\": {\"color\": \"rgb(255,65,54)\"}, \"mode\": \"lines\", \"x\": [-0.0, -0.0, -0.0, -0.0], \"text\": null, \"type\": \"scatter\", \"hoverinfo\": \"text\"}, {\"yaxis\": \"y\", \"y\": [275.0, 275.0, 290.0, 290.0], \"xaxis\": \"x\", \"marker\": {\"color\": \"rgb(255,65,54)\"}, \"mode\": \"lines\", \"x\": [-0.0, -0.0053167046371307425, -0.0053167046371307425, -0.0], \"text\": null, \"type\": \"scatter\", \"hoverinfo\": \"text\"}, {\"yaxis\": \"y\", \"y\": [265.0, 265.0, 282.5, 282.5], \"xaxis\": \"x\", \"marker\": {\"color\": \"rgb(255,65,54)\"}, \"mode\": \"lines\", \"x\": [-0.0, -0.00888124588512503, -0.00888124588512503, -0.0053167046371307425], \"text\": null, \"type\": \"scatter\", \"hoverinfo\": \"text\"}, {\"yaxis\": \"y\", \"y\": [255.0, 255.0, 273.75, 273.75], \"xaxis\": \"x\", \"marker\": {\"color\": \"rgb(255,65,54)\"}, \"mode\": \"lines\", \"x\": [-0.0, -0.02069382904037914, -0.02069382904037914, -0.00888124588512503], \"text\": null, \"type\": \"scatter\", \"hoverinfo\": \"text\"}, {\"yaxis\": \"y\", \"y\": [245.0, 245.0, 264.375, 264.375], \"xaxis\": \"x\", \"marker\": {\"color\": \"rgb(255,65,54)\"}, \"mode\": \"lines\", \"x\": [-0.0, -0.1977275735114043, -0.1977275735114043, -0.02069382904037914], \"text\": null, \"type\": \"scatter\", \"hoverinfo\": \"text\"}, {\"yaxis\": \"y\", \"y\": [170.546875, 170.546875, 254.6875, 254.6875], \"xaxis\": \"x\", \"marker\": {\"color\": \"rgb(255,65,54)\"}, \"mode\": \"lines\", \"x\": [-0.04151407408131495, -0.3227520689605556, -0.3227520689605556, -0.1977275735114043], \"text\": null, \"type\": \"scatter\", \"hoverinfo\": \"text\"}, {\"yaxis\": \"y\", \"y\": [92.16796875, 92.16796875, 212.6171875, 212.6171875], \"xaxis\": \"x\", \"marker\": {\"color\": \"rgb(0,116,217)\"}, \"mode\": \"lines\", \"x\": [-0.18994638794227803, -0.714683401178366, -0.714683401178366, -0.3227520689605556], \"text\": null, \"type\": \"scatter\", \"hoverinfo\": \"text\"}, {\"yaxis\": \"y\", \"y\": [5.0, 5.0, 152.392578125, 152.392578125], \"xaxis\": \"x\", \"marker\": {\"color\": \"rgb(0,116,217)\"}, \"mode\": \"lines\", \"x\": [-0.0, -1.0, -1.0, -0.714683401178366], \"text\": null, \"type\": \"scatter\", \"hoverinfo\": \"text\"}], {\"yaxis\": {\"ticktext\": [\"raohp_nonphylogenetic_weighted\", \"yue_clayton_nonphylogenetic_weighted\", \"morisita_horn_nonphylogenetic_weighted\", \"weighted_corr_nonphylogenetic_weighted\", \"pearson_nonphylogenetic_weighted\", \"euclidean_nonphylogenetic_weighted\", \"soergel_nonphylogenetic_weighted\", \"tamas_coeff_nonphylogenetic_weighted\", \"manhattan_nonphylogenetic_weighted\", \"braycurtis_nonphylogenetic_weighted\", \"kulczynski_nonphylogenetic_weighted\", \"lennon_nonphylogenetic_weighted\", \"whittaker_nonphylogenetic_weighted\", \"hellinger_nonphylogenetic_weighted\", \"chi_squared_nonphylogenetic_weighted\", \"gower_nonphylogenetic_weighted\", \"euclidean_nonphylogenetic_unweighted\", \"tamas_coeff_nonphylogenetic_unweighted\", \"gower_nonphylogenetic_unweighted\", \"canberra_nonphylogenetic_unweighted\", \"manhattan_nonphylogenetic_unweighted\", \"coeff_similarity_nonphylogenetic_unweighted\", \"coeff_similarity_nonphylogenetic_weighted\", \"canberra_nonphylogenetic_weighted\", \"lennon_nonphylogenetic_unweighted\", \"kulczynski_nonphylogenetic_unweighted\", \"soergel_nonphylogenetic_unweighted\", \"braycurtis_nonphylogenetic_unweighted\", \"pearson_nonphylogenetic_unweighted\", \"weighted_corr_nonphylogenetic_unweighted\"], \"tickmode\": \"array\", \"tickvals\": [5, 15, 25, 35, 45, 55, 65, 75, 85, 95, 105, 115, 125, 135, 145, 155, 165, 175, 185, 195, 205, 215, 225, 235, 245, 255, 265, 275, 285, 295], \"rangemode\": \"tozero\", \"zeroline\": false, \"showline\": true, \"side\": \"right\", \"type\": \"linear\", \"ticks\": \"outside\", \"showgrid\": false, \"showticklabels\": true, \"mirror\": \"allticks\"}, \"hovermode\": \"closest\", \"height\": 600, \"margin\": {\"r\": 250}, \"width\": 800, \"xaxis\": {\"showgrid\": false, \"mirror\": \"allticks\", \"type\": \"linear\", \"ticks\": \"outside\", \"rangemode\": \"tozero\", \"showticklabels\": true, \"showline\": true, \"zeroline\": false}, \"showlegend\": false, \"autosize\": false}, {\"showLink\": true, \"linkText\": \"Export to plot.ly\"})});</script>"
      ]
     },
     "metadata": {},
     "output_type": "display_data"
    }
   ],
   "source": [
    "plot_dm_dendrogram(filters=[\"_phylogenetic\"],height=600)"
   ]
  },
  {
   "cell_type": "code",
   "execution_count": 27,
   "metadata": {},
   "outputs": [
    {
     "data": {
      "application/vnd.plotly.v1+json": {
       "data": [
        {
         "hoverinfo": "text",
         "marker": {
          "color": "rgb(61,153,112)"
         },
         "mode": "lines",
         "text": null,
         "type": "scatter",
         "x": [
          0,
          -0.0007254995411019038,
          -0.0007254995411019038,
          0
         ],
         "xaxis": "x",
         "y": [
          25,
          25,
          35,
          35
         ],
         "yaxis": "y"
        },
        {
         "hoverinfo": "text",
         "marker": {
          "color": "rgb(61,153,112)"
         },
         "mode": "lines",
         "text": null,
         "type": "scatter",
         "x": [
          0,
          -0.07626083126749994,
          -0.07626083126749994,
          -0.0007254995411019038
         ],
         "xaxis": "x",
         "y": [
          15,
          15,
          30,
          30
         ],
         "yaxis": "y"
        },
        {
         "hoverinfo": "text",
         "marker": {
          "color": "rgb(0,116,217)"
         },
         "mode": "lines",
         "text": null,
         "type": "scatter",
         "x": [
          0,
          -0.5836050021261153,
          -0.5836050021261153,
          -0.07626083126749994
         ],
         "xaxis": "x",
         "y": [
          5,
          5,
          22.5,
          22.5
         ],
         "yaxis": "y"
        },
        {
         "hoverinfo": "text",
         "marker": {
          "color": "rgb(255,65,54)"
         },
         "mode": "lines",
         "text": null,
         "type": "scatter",
         "x": [
          0,
          -0.11927289833025156,
          -0.11927289833025156,
          0
         ],
         "xaxis": "x",
         "y": [
          55,
          55,
          65,
          65
         ],
         "yaxis": "y"
        },
        {
         "hoverinfo": "text",
         "marker": {
          "color": "rgb(255,65,54)"
         },
         "mode": "lines",
         "text": null,
         "type": "scatter",
         "x": [
          0,
          -0.00015984703472426975,
          -0.00015984703472426975,
          0
         ],
         "xaxis": "x",
         "y": [
          125,
          125,
          135,
          135
         ],
         "yaxis": "y"
        },
        {
         "hoverinfo": "text",
         "marker": {
          "color": "rgb(255,65,54)"
         },
         "mode": "lines",
         "text": null,
         "type": "scatter",
         "x": [
          0,
          -0.00023334804462443737,
          -0.00023334804462443737,
          -0.00015984703472426975
         ],
         "xaxis": "x",
         "y": [
          115,
          115,
          130,
          130
         ],
         "yaxis": "y"
        },
        {
         "hoverinfo": "text",
         "marker": {
          "color": "rgb(255,65,54)"
         },
         "mode": "lines",
         "text": null,
         "type": "scatter",
         "x": [
          0,
          -0.0012417698166787099,
          -0.0012417698166787099,
          -0.00023334804462443737
         ],
         "xaxis": "x",
         "y": [
          105,
          105,
          122.5,
          122.5
         ],
         "yaxis": "y"
        },
        {
         "hoverinfo": "text",
         "marker": {
          "color": "rgb(255,65,54)"
         },
         "mode": "lines",
         "text": null,
         "type": "scatter",
         "x": [
          0,
          -0.005109733406901407,
          -0.005109733406901407,
          -0.0012417698166787099
         ],
         "xaxis": "x",
         "y": [
          95,
          95,
          113.75,
          113.75
         ],
         "yaxis": "y"
        },
        {
         "hoverinfo": "text",
         "marker": {
          "color": "rgb(255,65,54)"
         },
         "mode": "lines",
         "text": null,
         "type": "scatter",
         "x": [
          0,
          -0.010262443362411578,
          -0.010262443362411578,
          -0.005109733406901407
         ],
         "xaxis": "x",
         "y": [
          85,
          85,
          104.375,
          104.375
         ],
         "yaxis": "y"
        },
        {
         "hoverinfo": "text",
         "marker": {
          "color": "rgb(255,65,54)"
         },
         "mode": "lines",
         "text": null,
         "type": "scatter",
         "x": [
          0,
          -5.278333325975382e-12,
          -5.278333325975382e-12,
          0
         ],
         "xaxis": "x",
         "y": [
          175,
          175,
          185,
          185
         ],
         "yaxis": "y"
        },
        {
         "hoverinfo": "text",
         "marker": {
          "color": "rgb(255,65,54)"
         },
         "mode": "lines",
         "text": null,
         "type": "scatter",
         "x": [
          0,
          -9.295342273674123e-12,
          -9.295342273674123e-12,
          -5.278333325975382e-12
         ],
         "xaxis": "x",
         "y": [
          165,
          165,
          180,
          180
         ],
         "yaxis": "y"
        },
        {
         "hoverinfo": "text",
         "marker": {
          "color": "rgb(255,65,54)"
         },
         "mode": "lines",
         "text": null,
         "type": "scatter",
         "x": [
          0,
          -1.1626551573347873e-11,
          -1.1626551573347873e-11,
          -9.295342273674123e-12
         ],
         "xaxis": "x",
         "y": [
          155,
          155,
          172.5,
          172.5
         ],
         "yaxis": "y"
        },
        {
         "hoverinfo": "text",
         "marker": {
          "color": "rgb(255,65,54)"
         },
         "mode": "lines",
         "text": null,
         "type": "scatter",
         "x": [
          0,
          0,
          0,
          0
         ],
         "xaxis": "x",
         "y": [
          215,
          215,
          225,
          225
         ],
         "yaxis": "y"
        },
        {
         "hoverinfo": "text",
         "marker": {
          "color": "rgb(255,65,54)"
         },
         "mode": "lines",
         "text": null,
         "type": "scatter",
         "x": [
          0,
          -9.189734584924558e-05,
          -9.189734584924558e-05,
          0
         ],
         "xaxis": "x",
         "y": [
          205,
          205,
          220,
          220
         ],
         "yaxis": "y"
        },
        {
         "hoverinfo": "text",
         "marker": {
          "color": "rgb(255,65,54)"
         },
         "mode": "lines",
         "text": null,
         "type": "scatter",
         "x": [
          0,
          -0.0002289190177869882,
          -0.0002289190177869882,
          -9.189734584924558e-05
         ],
         "xaxis": "x",
         "y": [
          195,
          195,
          212.5,
          212.5
         ],
         "yaxis": "y"
        },
        {
         "hoverinfo": "text",
         "marker": {
          "color": "rgb(255,65,54)"
         },
         "mode": "lines",
         "text": null,
         "type": "scatter",
         "x": [
          -1.1626551573347873e-11,
          -0.00044900520199826766,
          -0.00044900520199826766,
          -0.0002289190177869882
         ],
         "xaxis": "x",
         "y": [
          163.75,
          163.75,
          203.75,
          203.75
         ],
         "yaxis": "y"
        },
        {
         "hoverinfo": "text",
         "marker": {
          "color": "rgb(255,65,54)"
         },
         "mode": "lines",
         "text": null,
         "type": "scatter",
         "x": [
          0,
          -0.018498144611045597,
          -0.018498144611045597,
          -0.00044900520199826766
         ],
         "xaxis": "x",
         "y": [
          145,
          145,
          183.75,
          183.75
         ],
         "yaxis": "y"
        },
        {
         "hoverinfo": "text",
         "marker": {
          "color": "rgb(255,65,54)"
         },
         "mode": "lines",
         "text": null,
         "type": "scatter",
         "x": [
          -0.010262443362411578,
          -0.06046437167009577,
          -0.06046437167009577,
          -0.018498144611045597
         ],
         "xaxis": "x",
         "y": [
          94.6875,
          94.6875,
          164.375,
          164.375
         ],
         "yaxis": "y"
        },
        {
         "hoverinfo": "text",
         "marker": {
          "color": "rgb(255,65,54)"
         },
         "mode": "lines",
         "text": null,
         "type": "scatter",
         "x": [
          0,
          -0.15856142811231588,
          -0.15856142811231588,
          -0.06046437167009577
         ],
         "xaxis": "x",
         "y": [
          75,
          75,
          129.53125,
          129.53125
         ],
         "yaxis": "y"
        },
        {
         "hoverinfo": "text",
         "marker": {
          "color": "rgb(255,65,54)"
         },
         "mode": "lines",
         "text": null,
         "type": "scatter",
         "x": [
          -0.11927289833025156,
          -0.1771865789995564,
          -0.1771865789995564,
          -0.15856142811231588
         ],
         "xaxis": "x",
         "y": [
          60,
          60,
          102.265625,
          102.265625
         ],
         "yaxis": "y"
        },
        {
         "hoverinfo": "text",
         "marker": {
          "color": "rgb(0,116,217)"
         },
         "mode": "lines",
         "text": null,
         "type": "scatter",
         "x": [
          0,
          -0.6309990928336089,
          -0.6309990928336089,
          -0.1771865789995564
         ],
         "xaxis": "x",
         "y": [
          45,
          45,
          81.1328125,
          81.1328125
         ],
         "yaxis": "y"
        },
        {
         "hoverinfo": "text",
         "marker": {
          "color": "rgb(0,116,217)"
         },
         "mode": "lines",
         "text": null,
         "type": "scatter",
         "x": [
          -0.5836050021261153,
          -0.6966594081277492,
          -0.6966594081277492,
          -0.6309990928336089
         ],
         "xaxis": "x",
         "y": [
          13.75,
          13.75,
          63.06640625,
          63.06640625
         ],
         "yaxis": "y"
        }
       ],
       "layout": {
        "autosize": false,
        "height": 400,
        "hovermode": "closest",
        "margin": {
         "r": 250
        },
        "showlegend": false,
        "width": 800,
        "xaxis": {
         "mirror": "allticks",
         "rangemode": "tozero",
         "showgrid": false,
         "showline": true,
         "showticklabels": true,
         "ticks": "outside",
         "type": "linear",
         "zeroline": false
        },
        "yaxis": {
         "mirror": "allticks",
         "rangemode": "tozero",
         "showgrid": false,
         "showline": true,
         "showticklabels": true,
         "side": "right",
         "tickmode": "array",
         "ticks": "outside",
         "ticktext": [
          "mpd_phylogenetic_weighted",
          "gower_phylogenetic_weighted",
          "canberra_phylogenetic_weighted",
          "coeff_similarity_phylogenetic_weighted",
          "mnnd_phylogenetic_weighted",
          "chi_squared_phylogenetic_weighted",
          "hellinger_phylogenetic_weighted",
          "lennon_phylogenetic_weighted",
          "pearson_phylogenetic_weighted",
          "p_st_phylogenetic_weighted",
          "morisita_horn_phylogenetic_weighted",
          "raohp_phylogenetic_weighted",
          "weighted_corr_phylogenetic_weighted",
          "yue_clayton_phylogenetic_weighted",
          "euclidean_phylogenetic_weighted",
          "manhattan_phylogenetic_weighted",
          "complete_tree_phylogenetic_weighted",
          "whittaker_phylogenetic_weighted",
          "tamas_coeff_phylogenetic_weighted",
          "soergel_phylogenetic_weighted",
          "kulczynski_phylogenetic_weighted",
          "braycurtis_phylogenetic_weighted",
          "normalized_weighted_unifrac_phylogenetic_weighted"
         ],
         "tickvals": [
          5,
          15,
          25,
          35,
          45,
          55,
          65,
          75,
          85,
          95,
          105,
          115,
          125,
          135,
          145,
          155,
          165,
          175,
          185,
          195,
          205,
          215,
          225
         ],
         "type": "linear",
         "zeroline": false
        }
       }
      },
      "text/html": [
       "<div id=\"fe4926bf-0718-42f0-b9ca-75ef7f98e972\" style=\"height: 400px; width: 800px;\" class=\"plotly-graph-div\"></div><script type=\"text/javascript\">require([\"plotly\"], function(Plotly) { window.PLOTLYENV=window.PLOTLYENV || {};window.PLOTLYENV.BASE_URL=\"https://plot.ly\";Plotly.newPlot(\"fe4926bf-0718-42f0-b9ca-75ef7f98e972\", [{\"yaxis\": \"y\", \"y\": [25.0, 25.0, 35.0, 35.0], \"xaxis\": \"x\", \"marker\": {\"color\": \"rgb(61,153,112)\"}, \"mode\": \"lines\", \"x\": [-0.0, -0.0007254995411019038, -0.0007254995411019038, -0.0], \"text\": null, \"type\": \"scatter\", \"hoverinfo\": \"text\"}, {\"yaxis\": \"y\", \"y\": [15.0, 15.0, 30.0, 30.0], \"xaxis\": \"x\", \"marker\": {\"color\": \"rgb(61,153,112)\"}, \"mode\": \"lines\", \"x\": [-0.0, -0.07626083126749994, -0.07626083126749994, -0.0007254995411019038], \"text\": null, \"type\": \"scatter\", \"hoverinfo\": \"text\"}, {\"yaxis\": \"y\", \"y\": [5.0, 5.0, 22.5, 22.5], \"xaxis\": \"x\", \"marker\": {\"color\": \"rgb(0,116,217)\"}, \"mode\": \"lines\", \"x\": [-0.0, -0.5836050021261153, -0.5836050021261153, -0.07626083126749994], \"text\": null, \"type\": \"scatter\", \"hoverinfo\": \"text\"}, {\"yaxis\": \"y\", \"y\": [55.0, 55.0, 65.0, 65.0], \"xaxis\": \"x\", \"marker\": {\"color\": \"rgb(255,65,54)\"}, \"mode\": \"lines\", \"x\": [-0.0, -0.11927289833025156, -0.11927289833025156, -0.0], \"text\": null, \"type\": \"scatter\", \"hoverinfo\": \"text\"}, {\"yaxis\": \"y\", \"y\": [125.0, 125.0, 135.0, 135.0], \"xaxis\": \"x\", \"marker\": {\"color\": \"rgb(255,65,54)\"}, \"mode\": \"lines\", \"x\": [-0.0, -0.00015984703472426975, -0.00015984703472426975, -0.0], \"text\": null, \"type\": \"scatter\", \"hoverinfo\": \"text\"}, {\"yaxis\": \"y\", \"y\": [115.0, 115.0, 130.0, 130.0], \"xaxis\": \"x\", \"marker\": {\"color\": \"rgb(255,65,54)\"}, \"mode\": \"lines\", \"x\": [-0.0, -0.00023334804462443737, -0.00023334804462443737, -0.00015984703472426975], \"text\": null, \"type\": \"scatter\", \"hoverinfo\": \"text\"}, {\"yaxis\": \"y\", \"y\": [105.0, 105.0, 122.5, 122.5], \"xaxis\": \"x\", \"marker\": {\"color\": \"rgb(255,65,54)\"}, \"mode\": \"lines\", \"x\": [-0.0, -0.0012417698166787099, -0.0012417698166787099, -0.00023334804462443737], \"text\": null, \"type\": \"scatter\", \"hoverinfo\": \"text\"}, {\"yaxis\": \"y\", \"y\": [95.0, 95.0, 113.75, 113.75], \"xaxis\": \"x\", \"marker\": {\"color\": \"rgb(255,65,54)\"}, \"mode\": \"lines\", \"x\": [-0.0, -0.005109733406901407, -0.005109733406901407, -0.0012417698166787099], \"text\": null, \"type\": \"scatter\", \"hoverinfo\": \"text\"}, {\"yaxis\": \"y\", \"y\": [85.0, 85.0, 104.375, 104.375], \"xaxis\": \"x\", \"marker\": {\"color\": \"rgb(255,65,54)\"}, \"mode\": \"lines\", \"x\": [-0.0, -0.010262443362411578, -0.010262443362411578, -0.005109733406901407], \"text\": null, \"type\": \"scatter\", \"hoverinfo\": \"text\"}, {\"yaxis\": \"y\", \"y\": [175.0, 175.0, 185.0, 185.0], \"xaxis\": \"x\", \"marker\": {\"color\": \"rgb(255,65,54)\"}, \"mode\": \"lines\", \"x\": [-0.0, -5.278333325975382e-12, -5.278333325975382e-12, -0.0], \"text\": null, \"type\": \"scatter\", \"hoverinfo\": \"text\"}, {\"yaxis\": \"y\", \"y\": [165.0, 165.0, 180.0, 180.0], \"xaxis\": \"x\", \"marker\": {\"color\": \"rgb(255,65,54)\"}, \"mode\": \"lines\", \"x\": [-0.0, -9.295342273674123e-12, -9.295342273674123e-12, -5.278333325975382e-12], \"text\": null, \"type\": \"scatter\", \"hoverinfo\": \"text\"}, {\"yaxis\": \"y\", \"y\": [155.0, 155.0, 172.5, 172.5], \"xaxis\": \"x\", \"marker\": {\"color\": \"rgb(255,65,54)\"}, \"mode\": \"lines\", \"x\": [-0.0, -1.1626551573347873e-11, -1.1626551573347873e-11, -9.295342273674123e-12], \"text\": null, \"type\": \"scatter\", \"hoverinfo\": \"text\"}, {\"yaxis\": \"y\", \"y\": [215.0, 215.0, 225.0, 225.0], \"xaxis\": \"x\", \"marker\": {\"color\": \"rgb(255,65,54)\"}, \"mode\": \"lines\", \"x\": [-0.0, -0.0, -0.0, -0.0], \"text\": null, \"type\": \"scatter\", \"hoverinfo\": \"text\"}, {\"yaxis\": \"y\", \"y\": [205.0, 205.0, 220.0, 220.0], \"xaxis\": \"x\", \"marker\": {\"color\": \"rgb(255,65,54)\"}, \"mode\": \"lines\", \"x\": [-0.0, -9.189734584924558e-05, -9.189734584924558e-05, -0.0], \"text\": null, \"type\": \"scatter\", \"hoverinfo\": \"text\"}, {\"yaxis\": \"y\", \"y\": [195.0, 195.0, 212.5, 212.5], \"xaxis\": \"x\", \"marker\": {\"color\": \"rgb(255,65,54)\"}, \"mode\": \"lines\", \"x\": [-0.0, -0.0002289190177869882, -0.0002289190177869882, -9.189734584924558e-05], \"text\": null, \"type\": \"scatter\", \"hoverinfo\": \"text\"}, {\"yaxis\": \"y\", \"y\": [163.75, 163.75, 203.75, 203.75], \"xaxis\": \"x\", \"marker\": {\"color\": \"rgb(255,65,54)\"}, \"mode\": \"lines\", \"x\": [-1.1626551573347873e-11, -0.00044900520199826766, -0.00044900520199826766, -0.0002289190177869882], \"text\": null, \"type\": \"scatter\", \"hoverinfo\": \"text\"}, {\"yaxis\": \"y\", \"y\": [145.0, 145.0, 183.75, 183.75], \"xaxis\": \"x\", \"marker\": {\"color\": \"rgb(255,65,54)\"}, \"mode\": \"lines\", \"x\": [-0.0, -0.018498144611045597, -0.018498144611045597, -0.00044900520199826766], \"text\": null, \"type\": \"scatter\", \"hoverinfo\": \"text\"}, {\"yaxis\": \"y\", \"y\": [94.6875, 94.6875, 164.375, 164.375], \"xaxis\": \"x\", \"marker\": {\"color\": \"rgb(255,65,54)\"}, \"mode\": \"lines\", \"x\": [-0.010262443362411578, -0.06046437167009577, -0.06046437167009577, -0.018498144611045597], \"text\": null, \"type\": \"scatter\", \"hoverinfo\": \"text\"}, {\"yaxis\": \"y\", \"y\": [75.0, 75.0, 129.53125, 129.53125], \"xaxis\": \"x\", \"marker\": {\"color\": \"rgb(255,65,54)\"}, \"mode\": \"lines\", \"x\": [-0.0, -0.15856142811231588, -0.15856142811231588, -0.06046437167009577], \"text\": null, \"type\": \"scatter\", \"hoverinfo\": \"text\"}, {\"yaxis\": \"y\", \"y\": [60.0, 60.0, 102.265625, 102.265625], \"xaxis\": \"x\", \"marker\": {\"color\": \"rgb(255,65,54)\"}, \"mode\": \"lines\", \"x\": [-0.11927289833025156, -0.1771865789995564, -0.1771865789995564, -0.15856142811231588], \"text\": null, \"type\": \"scatter\", \"hoverinfo\": \"text\"}, {\"yaxis\": \"y\", \"y\": [45.0, 45.0, 81.1328125, 81.1328125], \"xaxis\": \"x\", \"marker\": {\"color\": \"rgb(0,116,217)\"}, \"mode\": \"lines\", \"x\": [-0.0, -0.6309990928336089, -0.6309990928336089, -0.1771865789995564], \"text\": null, \"type\": \"scatter\", \"hoverinfo\": \"text\"}, {\"yaxis\": \"y\", \"y\": [13.75, 13.75, 63.06640625, 63.06640625], \"xaxis\": \"x\", \"marker\": {\"color\": \"rgb(0,116,217)\"}, \"mode\": \"lines\", \"x\": [-0.5836050021261153, -0.6966594081277492, -0.6966594081277492, -0.6309990928336089], \"text\": null, \"type\": \"scatter\", \"hoverinfo\": \"text\"}], {\"yaxis\": {\"ticktext\": [\"mpd_phylogenetic_weighted\", \"gower_phylogenetic_weighted\", \"canberra_phylogenetic_weighted\", \"coeff_similarity_phylogenetic_weighted\", \"mnnd_phylogenetic_weighted\", \"chi_squared_phylogenetic_weighted\", \"hellinger_phylogenetic_weighted\", \"lennon_phylogenetic_weighted\", \"pearson_phylogenetic_weighted\", \"p_st_phylogenetic_weighted\", \"morisita_horn_phylogenetic_weighted\", \"raohp_phylogenetic_weighted\", \"weighted_corr_phylogenetic_weighted\", \"yue_clayton_phylogenetic_weighted\", \"euclidean_phylogenetic_weighted\", \"manhattan_phylogenetic_weighted\", \"complete_tree_phylogenetic_weighted\", \"whittaker_phylogenetic_weighted\", \"tamas_coeff_phylogenetic_weighted\", \"soergel_phylogenetic_weighted\", \"kulczynski_phylogenetic_weighted\", \"braycurtis_phylogenetic_weighted\", \"normalized_weighted_unifrac_phylogenetic_weighted\"], \"tickmode\": \"array\", \"tickvals\": [5, 15, 25, 35, 45, 55, 65, 75, 85, 95, 105, 115, 125, 135, 145, 155, 165, 175, 185, 195, 205, 215, 225], \"rangemode\": \"tozero\", \"zeroline\": false, \"showline\": true, \"side\": \"right\", \"type\": \"linear\", \"ticks\": \"outside\", \"showgrid\": false, \"showticklabels\": true, \"mirror\": \"allticks\"}, \"hovermode\": \"closest\", \"height\": 400, \"margin\": {\"r\": 250}, \"width\": 800, \"xaxis\": {\"showgrid\": false, \"mirror\": \"allticks\", \"type\": \"linear\", \"ticks\": \"outside\", \"rangemode\": \"tozero\", \"showticklabels\": true, \"showline\": true, \"zeroline\": false}, \"showlegend\": false, \"autosize\": false}, {\"showLink\": true, \"linkText\": \"Export to plot.ly\"})});</script>"
      ],
      "text/vnd.plotly.v1+html": [
       "<div id=\"fe4926bf-0718-42f0-b9ca-75ef7f98e972\" style=\"height: 400px; width: 800px;\" class=\"plotly-graph-div\"></div><script type=\"text/javascript\">require([\"plotly\"], function(Plotly) { window.PLOTLYENV=window.PLOTLYENV || {};window.PLOTLYENV.BASE_URL=\"https://plot.ly\";Plotly.newPlot(\"fe4926bf-0718-42f0-b9ca-75ef7f98e972\", [{\"yaxis\": \"y\", \"y\": [25.0, 25.0, 35.0, 35.0], \"xaxis\": \"x\", \"marker\": {\"color\": \"rgb(61,153,112)\"}, \"mode\": \"lines\", \"x\": [-0.0, -0.0007254995411019038, -0.0007254995411019038, -0.0], \"text\": null, \"type\": \"scatter\", \"hoverinfo\": \"text\"}, {\"yaxis\": \"y\", \"y\": [15.0, 15.0, 30.0, 30.0], \"xaxis\": \"x\", \"marker\": {\"color\": \"rgb(61,153,112)\"}, \"mode\": \"lines\", \"x\": [-0.0, -0.07626083126749994, -0.07626083126749994, -0.0007254995411019038], \"text\": null, \"type\": \"scatter\", \"hoverinfo\": \"text\"}, {\"yaxis\": \"y\", \"y\": [5.0, 5.0, 22.5, 22.5], \"xaxis\": \"x\", \"marker\": {\"color\": \"rgb(0,116,217)\"}, \"mode\": \"lines\", \"x\": [-0.0, -0.5836050021261153, -0.5836050021261153, -0.07626083126749994], \"text\": null, \"type\": \"scatter\", \"hoverinfo\": \"text\"}, {\"yaxis\": \"y\", \"y\": [55.0, 55.0, 65.0, 65.0], \"xaxis\": \"x\", \"marker\": {\"color\": \"rgb(255,65,54)\"}, \"mode\": \"lines\", \"x\": [-0.0, -0.11927289833025156, -0.11927289833025156, -0.0], \"text\": null, \"type\": \"scatter\", \"hoverinfo\": \"text\"}, {\"yaxis\": \"y\", \"y\": [125.0, 125.0, 135.0, 135.0], \"xaxis\": \"x\", \"marker\": {\"color\": \"rgb(255,65,54)\"}, \"mode\": \"lines\", \"x\": [-0.0, -0.00015984703472426975, -0.00015984703472426975, -0.0], \"text\": null, \"type\": \"scatter\", \"hoverinfo\": \"text\"}, {\"yaxis\": \"y\", \"y\": [115.0, 115.0, 130.0, 130.0], \"xaxis\": \"x\", \"marker\": {\"color\": \"rgb(255,65,54)\"}, \"mode\": \"lines\", \"x\": [-0.0, -0.00023334804462443737, -0.00023334804462443737, -0.00015984703472426975], \"text\": null, \"type\": \"scatter\", \"hoverinfo\": \"text\"}, {\"yaxis\": \"y\", \"y\": [105.0, 105.0, 122.5, 122.5], \"xaxis\": \"x\", \"marker\": {\"color\": \"rgb(255,65,54)\"}, \"mode\": \"lines\", \"x\": [-0.0, -0.0012417698166787099, -0.0012417698166787099, -0.00023334804462443737], \"text\": null, \"type\": \"scatter\", \"hoverinfo\": \"text\"}, {\"yaxis\": \"y\", \"y\": [95.0, 95.0, 113.75, 113.75], \"xaxis\": \"x\", \"marker\": {\"color\": \"rgb(255,65,54)\"}, \"mode\": \"lines\", \"x\": [-0.0, -0.005109733406901407, -0.005109733406901407, -0.0012417698166787099], \"text\": null, \"type\": \"scatter\", \"hoverinfo\": \"text\"}, {\"yaxis\": \"y\", \"y\": [85.0, 85.0, 104.375, 104.375], \"xaxis\": \"x\", \"marker\": {\"color\": \"rgb(255,65,54)\"}, \"mode\": \"lines\", \"x\": [-0.0, -0.010262443362411578, -0.010262443362411578, -0.005109733406901407], \"text\": null, \"type\": \"scatter\", \"hoverinfo\": \"text\"}, {\"yaxis\": \"y\", \"y\": [175.0, 175.0, 185.0, 185.0], \"xaxis\": \"x\", \"marker\": {\"color\": \"rgb(255,65,54)\"}, \"mode\": \"lines\", \"x\": [-0.0, -5.278333325975382e-12, -5.278333325975382e-12, -0.0], \"text\": null, \"type\": \"scatter\", \"hoverinfo\": \"text\"}, {\"yaxis\": \"y\", \"y\": [165.0, 165.0, 180.0, 180.0], \"xaxis\": \"x\", \"marker\": {\"color\": \"rgb(255,65,54)\"}, \"mode\": \"lines\", \"x\": [-0.0, -9.295342273674123e-12, -9.295342273674123e-12, -5.278333325975382e-12], \"text\": null, \"type\": \"scatter\", \"hoverinfo\": \"text\"}, {\"yaxis\": \"y\", \"y\": [155.0, 155.0, 172.5, 172.5], \"xaxis\": \"x\", \"marker\": {\"color\": \"rgb(255,65,54)\"}, \"mode\": \"lines\", \"x\": [-0.0, -1.1626551573347873e-11, -1.1626551573347873e-11, -9.295342273674123e-12], \"text\": null, \"type\": \"scatter\", \"hoverinfo\": \"text\"}, {\"yaxis\": \"y\", \"y\": [215.0, 215.0, 225.0, 225.0], \"xaxis\": \"x\", \"marker\": {\"color\": \"rgb(255,65,54)\"}, \"mode\": \"lines\", \"x\": [-0.0, -0.0, -0.0, -0.0], \"text\": null, \"type\": \"scatter\", \"hoverinfo\": \"text\"}, {\"yaxis\": \"y\", \"y\": [205.0, 205.0, 220.0, 220.0], \"xaxis\": \"x\", \"marker\": {\"color\": \"rgb(255,65,54)\"}, \"mode\": \"lines\", \"x\": [-0.0, -9.189734584924558e-05, -9.189734584924558e-05, -0.0], \"text\": null, \"type\": \"scatter\", \"hoverinfo\": \"text\"}, {\"yaxis\": \"y\", \"y\": [195.0, 195.0, 212.5, 212.5], \"xaxis\": \"x\", \"marker\": {\"color\": \"rgb(255,65,54)\"}, \"mode\": \"lines\", \"x\": [-0.0, -0.0002289190177869882, -0.0002289190177869882, -9.189734584924558e-05], \"text\": null, \"type\": \"scatter\", \"hoverinfo\": \"text\"}, {\"yaxis\": \"y\", \"y\": [163.75, 163.75, 203.75, 203.75], \"xaxis\": \"x\", \"marker\": {\"color\": \"rgb(255,65,54)\"}, \"mode\": \"lines\", \"x\": [-1.1626551573347873e-11, -0.00044900520199826766, -0.00044900520199826766, -0.0002289190177869882], \"text\": null, \"type\": \"scatter\", \"hoverinfo\": \"text\"}, {\"yaxis\": \"y\", \"y\": [145.0, 145.0, 183.75, 183.75], \"xaxis\": \"x\", \"marker\": {\"color\": \"rgb(255,65,54)\"}, \"mode\": \"lines\", \"x\": [-0.0, -0.018498144611045597, -0.018498144611045597, -0.00044900520199826766], \"text\": null, \"type\": \"scatter\", \"hoverinfo\": \"text\"}, {\"yaxis\": \"y\", \"y\": [94.6875, 94.6875, 164.375, 164.375], \"xaxis\": \"x\", \"marker\": {\"color\": \"rgb(255,65,54)\"}, \"mode\": \"lines\", \"x\": [-0.010262443362411578, -0.06046437167009577, -0.06046437167009577, -0.018498144611045597], \"text\": null, \"type\": \"scatter\", \"hoverinfo\": \"text\"}, {\"yaxis\": \"y\", \"y\": [75.0, 75.0, 129.53125, 129.53125], \"xaxis\": \"x\", \"marker\": {\"color\": \"rgb(255,65,54)\"}, \"mode\": \"lines\", \"x\": [-0.0, -0.15856142811231588, -0.15856142811231588, -0.06046437167009577], \"text\": null, \"type\": \"scatter\", \"hoverinfo\": \"text\"}, {\"yaxis\": \"y\", \"y\": [60.0, 60.0, 102.265625, 102.265625], \"xaxis\": \"x\", \"marker\": {\"color\": \"rgb(255,65,54)\"}, \"mode\": \"lines\", \"x\": [-0.11927289833025156, -0.1771865789995564, -0.1771865789995564, -0.15856142811231588], \"text\": null, \"type\": \"scatter\", \"hoverinfo\": \"text\"}, {\"yaxis\": \"y\", \"y\": [45.0, 45.0, 81.1328125, 81.1328125], \"xaxis\": \"x\", \"marker\": {\"color\": \"rgb(0,116,217)\"}, \"mode\": \"lines\", \"x\": [-0.0, -0.6309990928336089, -0.6309990928336089, -0.1771865789995564], \"text\": null, \"type\": \"scatter\", \"hoverinfo\": \"text\"}, {\"yaxis\": \"y\", \"y\": [13.75, 13.75, 63.06640625, 63.06640625], \"xaxis\": \"x\", \"marker\": {\"color\": \"rgb(0,116,217)\"}, \"mode\": \"lines\", \"x\": [-0.5836050021261153, -0.6966594081277492, -0.6966594081277492, -0.6309990928336089], \"text\": null, \"type\": \"scatter\", \"hoverinfo\": \"text\"}], {\"yaxis\": {\"ticktext\": [\"mpd_phylogenetic_weighted\", \"gower_phylogenetic_weighted\", \"canberra_phylogenetic_weighted\", \"coeff_similarity_phylogenetic_weighted\", \"mnnd_phylogenetic_weighted\", \"chi_squared_phylogenetic_weighted\", \"hellinger_phylogenetic_weighted\", \"lennon_phylogenetic_weighted\", \"pearson_phylogenetic_weighted\", \"p_st_phylogenetic_weighted\", \"morisita_horn_phylogenetic_weighted\", \"raohp_phylogenetic_weighted\", \"weighted_corr_phylogenetic_weighted\", \"yue_clayton_phylogenetic_weighted\", \"euclidean_phylogenetic_weighted\", \"manhattan_phylogenetic_weighted\", \"complete_tree_phylogenetic_weighted\", \"whittaker_phylogenetic_weighted\", \"tamas_coeff_phylogenetic_weighted\", \"soergel_phylogenetic_weighted\", \"kulczynski_phylogenetic_weighted\", \"braycurtis_phylogenetic_weighted\", \"normalized_weighted_unifrac_phylogenetic_weighted\"], \"tickmode\": \"array\", \"tickvals\": [5, 15, 25, 35, 45, 55, 65, 75, 85, 95, 105, 115, 125, 135, 145, 155, 165, 175, 185, 195, 205, 215, 225], \"rangemode\": \"tozero\", \"zeroline\": false, \"showline\": true, \"side\": \"right\", \"type\": \"linear\", \"ticks\": \"outside\", \"showgrid\": false, \"showticklabels\": true, \"mirror\": \"allticks\"}, \"hovermode\": \"closest\", \"height\": 400, \"margin\": {\"r\": 250}, \"width\": 800, \"xaxis\": {\"showgrid\": false, \"mirror\": \"allticks\", \"type\": \"linear\", \"ticks\": \"outside\", \"rangemode\": \"tozero\", \"showticklabels\": true, \"showline\": true, \"zeroline\": false}, \"showlegend\": false, \"autosize\": false}, {\"showLink\": true, \"linkText\": \"Export to plot.ly\"})});</script>"
      ]
     },
     "metadata": {},
     "output_type": "display_data"
    }
   ],
   "source": [
    "plot_dm_dendrogram(filters=[\"unweighted\", \"nonphylogenetic\"],height=400)"
   ]
  },
  {
   "cell_type": "code",
   "execution_count": 28,
   "metadata": {},
   "outputs": [
    {
     "data": {
      "application/vnd.plotly.v1+json": {
       "data": [
        {
         "hoverinfo": "text",
         "marker": {
          "color": "rgb(61,153,112)"
         },
         "mode": "lines",
         "text": null,
         "type": "scatter",
         "x": [
          0,
          -0.0017467468627343496,
          -0.0017467468627343496,
          0
         ],
         "xaxis": "x",
         "y": [
          65,
          65,
          75,
          75
         ],
         "yaxis": "y"
        },
        {
         "hoverinfo": "text",
         "marker": {
          "color": "rgb(61,153,112)"
         },
         "mode": "lines",
         "text": null,
         "type": "scatter",
         "x": [
          0,
          -0.0035318471476106783,
          -0.0035318471476106783,
          -0.0017467468627343496
         ],
         "xaxis": "x",
         "y": [
          55,
          55,
          70,
          70
         ],
         "yaxis": "y"
        },
        {
         "hoverinfo": "text",
         "marker": {
          "color": "rgb(61,153,112)"
         },
         "mode": "lines",
         "text": null,
         "type": "scatter",
         "x": [
          0,
          -0.006507030469552921,
          -0.006507030469552921,
          -0.0035318471476106783
         ],
         "xaxis": "x",
         "y": [
          45,
          45,
          62.5,
          62.5
         ],
         "yaxis": "y"
        },
        {
         "hoverinfo": "text",
         "marker": {
          "color": "rgb(61,153,112)"
         },
         "mode": "lines",
         "text": null,
         "type": "scatter",
         "x": [
          0,
          0,
          0,
          0
         ],
         "xaxis": "x",
         "y": [
          125,
          125,
          135,
          135
         ],
         "yaxis": "y"
        },
        {
         "hoverinfo": "text",
         "marker": {
          "color": "rgb(61,153,112)"
         },
         "mode": "lines",
         "text": null,
         "type": "scatter",
         "x": [
          0,
          0,
          0,
          0
         ],
         "xaxis": "x",
         "y": [
          115,
          115,
          130,
          130
         ],
         "yaxis": "y"
        },
        {
         "hoverinfo": "text",
         "marker": {
          "color": "rgb(61,153,112)"
         },
         "mode": "lines",
         "text": null,
         "type": "scatter",
         "x": [
          0,
          0,
          0,
          0
         ],
         "xaxis": "x",
         "y": [
          105,
          105,
          122.5,
          122.5
         ],
         "yaxis": "y"
        },
        {
         "hoverinfo": "text",
         "marker": {
          "color": "rgb(61,153,112)"
         },
         "mode": "lines",
         "text": null,
         "type": "scatter",
         "x": [
          0,
          -1.520539250066122e-11,
          -1.520539250066122e-11,
          0
         ],
         "xaxis": "x",
         "y": [
          95,
          95,
          113.75,
          113.75
         ],
         "yaxis": "y"
        },
        {
         "hoverinfo": "text",
         "marker": {
          "color": "rgb(61,153,112)"
         },
         "mode": "lines",
         "text": null,
         "type": "scatter",
         "x": [
          0,
          -0.013417456607103317,
          -0.013417456607103317,
          -1.520539250066122e-11
         ],
         "xaxis": "x",
         "y": [
          85,
          85,
          104.375,
          104.375
         ],
         "yaxis": "y"
        },
        {
         "hoverinfo": "text",
         "marker": {
          "color": "rgb(61,153,112)"
         },
         "mode": "lines",
         "text": null,
         "type": "scatter",
         "x": [
          -0.006507030469552921,
          -0.03282298269122528,
          -0.03282298269122528,
          -0.013417456607103317
         ],
         "xaxis": "x",
         "y": [
          53.75,
          53.75,
          94.6875,
          94.6875
         ],
         "yaxis": "y"
        },
        {
         "hoverinfo": "text",
         "marker": {
          "color": "rgb(61,153,112)"
         },
         "mode": "lines",
         "text": null,
         "type": "scatter",
         "x": [
          0,
          -0.05886375607561384,
          -0.05886375607561384,
          -0.03282298269122528
         ],
         "xaxis": "x",
         "y": [
          35,
          35,
          74.21875,
          74.21875
         ],
         "yaxis": "y"
        },
        {
         "hoverinfo": "text",
         "marker": {
          "color": "rgb(61,153,112)"
         },
         "mode": "lines",
         "text": null,
         "type": "scatter",
         "x": [
          0,
          -0.09439333715640887,
          -0.09439333715640887,
          -0.05886375607561384
         ],
         "xaxis": "x",
         "y": [
          25,
          25,
          54.609375,
          54.609375
         ],
         "yaxis": "y"
        },
        {
         "hoverinfo": "text",
         "marker": {
          "color": "rgb(61,153,112)"
         },
         "mode": "lines",
         "text": null,
         "type": "scatter",
         "x": [
          0,
          -0.33965020133560236,
          -0.33965020133560236,
          -0.09439333715640887
         ],
         "xaxis": "x",
         "y": [
          15,
          15,
          39.8046875,
          39.8046875
         ],
         "yaxis": "y"
        },
        {
         "hoverinfo": "text",
         "marker": {
          "color": "rgb(0,116,217)"
         },
         "mode": "lines",
         "text": null,
         "type": "scatter",
         "x": [
          0,
          -0.8737846505299977,
          -0.8737846505299977,
          -0.33965020133560236
         ],
         "xaxis": "x",
         "y": [
          5,
          5,
          27.40234375,
          27.40234375
         ],
         "yaxis": "y"
        }
       ],
       "layout": {
        "autosize": false,
        "height": 400,
        "hovermode": "closest",
        "margin": {
         "r": 250
        },
        "showlegend": false,
        "width": 800,
        "xaxis": {
         "mirror": "allticks",
         "rangemode": "tozero",
         "showgrid": false,
         "showline": true,
         "showticklabels": true,
         "ticks": "outside",
         "type": "linear",
         "zeroline": false
        },
        "yaxis": {
         "mirror": "allticks",
         "rangemode": "tozero",
         "showgrid": false,
         "showline": true,
         "showticklabels": true,
         "side": "right",
         "tickmode": "array",
         "ticks": "outside",
         "ticktext": [
          "mpd_phylogenetic_unweighted",
          "lennon_phylogenetic_unweighted",
          "mnnd_phylogenetic_unweighted",
          "pearson_phylogenetic_unweighted",
          "kulczynski_phylogenetic_unweighted",
          "soergel_phylogenetic_unweighted",
          "weighted_corr_phylogenetic_unweighted",
          "braycurtis_phylogenetic_unweighted",
          "euclidean_phylogenetic_unweighted",
          "tamas_coeff_phylogenetic_unweighted",
          "gower_phylogenetic_unweighted",
          "coeff_similarity_phylogenetic_unweighted",
          "canberra_phylogenetic_unweighted",
          "manhattan_phylogenetic_unweighted"
         ],
         "tickvals": [
          5,
          15,
          25,
          35,
          45,
          55,
          65,
          75,
          85,
          95,
          105,
          115,
          125,
          135
         ],
         "type": "linear",
         "zeroline": false
        }
       }
      },
      "text/html": [
       "<div id=\"c8a4f101-dcbf-48d9-b220-dac9710a5df5\" style=\"height: 400px; width: 800px;\" class=\"plotly-graph-div\"></div><script type=\"text/javascript\">require([\"plotly\"], function(Plotly) { window.PLOTLYENV=window.PLOTLYENV || {};window.PLOTLYENV.BASE_URL=\"https://plot.ly\";Plotly.newPlot(\"c8a4f101-dcbf-48d9-b220-dac9710a5df5\", [{\"yaxis\": \"y\", \"y\": [65.0, 65.0, 75.0, 75.0], \"xaxis\": \"x\", \"marker\": {\"color\": \"rgb(61,153,112)\"}, \"mode\": \"lines\", \"x\": [-0.0, -0.0017467468627343496, -0.0017467468627343496, -0.0], \"text\": null, \"type\": \"scatter\", \"hoverinfo\": \"text\"}, {\"yaxis\": \"y\", \"y\": [55.0, 55.0, 70.0, 70.0], \"xaxis\": \"x\", \"marker\": {\"color\": \"rgb(61,153,112)\"}, \"mode\": \"lines\", \"x\": [-0.0, -0.0035318471476106783, -0.0035318471476106783, -0.0017467468627343496], \"text\": null, \"type\": \"scatter\", \"hoverinfo\": \"text\"}, {\"yaxis\": \"y\", \"y\": [45.0, 45.0, 62.5, 62.5], \"xaxis\": \"x\", \"marker\": {\"color\": \"rgb(61,153,112)\"}, \"mode\": \"lines\", \"x\": [-0.0, -0.006507030469552921, -0.006507030469552921, -0.0035318471476106783], \"text\": null, \"type\": \"scatter\", \"hoverinfo\": \"text\"}, {\"yaxis\": \"y\", \"y\": [125.0, 125.0, 135.0, 135.0], \"xaxis\": \"x\", \"marker\": {\"color\": \"rgb(61,153,112)\"}, \"mode\": \"lines\", \"x\": [-0.0, -0.0, -0.0, -0.0], \"text\": null, \"type\": \"scatter\", \"hoverinfo\": \"text\"}, {\"yaxis\": \"y\", \"y\": [115.0, 115.0, 130.0, 130.0], \"xaxis\": \"x\", \"marker\": {\"color\": \"rgb(61,153,112)\"}, \"mode\": \"lines\", \"x\": [-0.0, -0.0, -0.0, -0.0], \"text\": null, \"type\": \"scatter\", \"hoverinfo\": \"text\"}, {\"yaxis\": \"y\", \"y\": [105.0, 105.0, 122.5, 122.5], \"xaxis\": \"x\", \"marker\": {\"color\": \"rgb(61,153,112)\"}, \"mode\": \"lines\", \"x\": [-0.0, -0.0, -0.0, -0.0], \"text\": null, \"type\": \"scatter\", \"hoverinfo\": \"text\"}, {\"yaxis\": \"y\", \"y\": [95.0, 95.0, 113.75, 113.75], \"xaxis\": \"x\", \"marker\": {\"color\": \"rgb(61,153,112)\"}, \"mode\": \"lines\", \"x\": [-0.0, -1.520539250066122e-11, -1.520539250066122e-11, -0.0], \"text\": null, \"type\": \"scatter\", \"hoverinfo\": \"text\"}, {\"yaxis\": \"y\", \"y\": [85.0, 85.0, 104.375, 104.375], \"xaxis\": \"x\", \"marker\": {\"color\": \"rgb(61,153,112)\"}, \"mode\": \"lines\", \"x\": [-0.0, -0.013417456607103317, -0.013417456607103317, -1.520539250066122e-11], \"text\": null, \"type\": \"scatter\", \"hoverinfo\": \"text\"}, {\"yaxis\": \"y\", \"y\": [53.75, 53.75, 94.6875, 94.6875], \"xaxis\": \"x\", \"marker\": {\"color\": \"rgb(61,153,112)\"}, \"mode\": \"lines\", \"x\": [-0.006507030469552921, -0.03282298269122528, -0.03282298269122528, -0.013417456607103317], \"text\": null, \"type\": \"scatter\", \"hoverinfo\": \"text\"}, {\"yaxis\": \"y\", \"y\": [35.0, 35.0, 74.21875, 74.21875], \"xaxis\": \"x\", \"marker\": {\"color\": \"rgb(61,153,112)\"}, \"mode\": \"lines\", \"x\": [-0.0, -0.05886375607561384, -0.05886375607561384, -0.03282298269122528], \"text\": null, \"type\": \"scatter\", \"hoverinfo\": \"text\"}, {\"yaxis\": \"y\", \"y\": [25.0, 25.0, 54.609375, 54.609375], \"xaxis\": \"x\", \"marker\": {\"color\": \"rgb(61,153,112)\"}, \"mode\": \"lines\", \"x\": [-0.0, -0.09439333715640887, -0.09439333715640887, -0.05886375607561384], \"text\": null, \"type\": \"scatter\", \"hoverinfo\": \"text\"}, {\"yaxis\": \"y\", \"y\": [15.0, 15.0, 39.8046875, 39.8046875], \"xaxis\": \"x\", \"marker\": {\"color\": \"rgb(61,153,112)\"}, \"mode\": \"lines\", \"x\": [-0.0, -0.33965020133560236, -0.33965020133560236, -0.09439333715640887], \"text\": null, \"type\": \"scatter\", \"hoverinfo\": \"text\"}, {\"yaxis\": \"y\", \"y\": [5.0, 5.0, 27.40234375, 27.40234375], \"xaxis\": \"x\", \"marker\": {\"color\": \"rgb(0,116,217)\"}, \"mode\": \"lines\", \"x\": [-0.0, -0.8737846505299977, -0.8737846505299977, -0.33965020133560236], \"text\": null, \"type\": \"scatter\", \"hoverinfo\": \"text\"}], {\"yaxis\": {\"ticktext\": [\"mpd_phylogenetic_unweighted\", \"lennon_phylogenetic_unweighted\", \"mnnd_phylogenetic_unweighted\", \"pearson_phylogenetic_unweighted\", \"kulczynski_phylogenetic_unweighted\", \"soergel_phylogenetic_unweighted\", \"weighted_corr_phylogenetic_unweighted\", \"braycurtis_phylogenetic_unweighted\", \"euclidean_phylogenetic_unweighted\", \"tamas_coeff_phylogenetic_unweighted\", \"gower_phylogenetic_unweighted\", \"coeff_similarity_phylogenetic_unweighted\", \"canberra_phylogenetic_unweighted\", \"manhattan_phylogenetic_unweighted\"], \"tickmode\": \"array\", \"tickvals\": [5, 15, 25, 35, 45, 55, 65, 75, 85, 95, 105, 115, 125, 135], \"rangemode\": \"tozero\", \"zeroline\": false, \"showline\": true, \"side\": \"right\", \"type\": \"linear\", \"ticks\": \"outside\", \"showgrid\": false, \"showticklabels\": true, \"mirror\": \"allticks\"}, \"hovermode\": \"closest\", \"height\": 400, \"margin\": {\"r\": 250}, \"width\": 800, \"xaxis\": {\"showgrid\": false, \"mirror\": \"allticks\", \"type\": \"linear\", \"ticks\": \"outside\", \"rangemode\": \"tozero\", \"showticklabels\": true, \"showline\": true, \"zeroline\": false}, \"showlegend\": false, \"autosize\": false}, {\"showLink\": true, \"linkText\": \"Export to plot.ly\"})});</script>"
      ],
      "text/vnd.plotly.v1+html": [
       "<div id=\"c8a4f101-dcbf-48d9-b220-dac9710a5df5\" style=\"height: 400px; width: 800px;\" class=\"plotly-graph-div\"></div><script type=\"text/javascript\">require([\"plotly\"], function(Plotly) { window.PLOTLYENV=window.PLOTLYENV || {};window.PLOTLYENV.BASE_URL=\"https://plot.ly\";Plotly.newPlot(\"c8a4f101-dcbf-48d9-b220-dac9710a5df5\", [{\"yaxis\": \"y\", \"y\": [65.0, 65.0, 75.0, 75.0], \"xaxis\": \"x\", \"marker\": {\"color\": \"rgb(61,153,112)\"}, \"mode\": \"lines\", \"x\": [-0.0, -0.0017467468627343496, -0.0017467468627343496, -0.0], \"text\": null, \"type\": \"scatter\", \"hoverinfo\": \"text\"}, {\"yaxis\": \"y\", \"y\": [55.0, 55.0, 70.0, 70.0], \"xaxis\": \"x\", \"marker\": {\"color\": \"rgb(61,153,112)\"}, \"mode\": \"lines\", \"x\": [-0.0, -0.0035318471476106783, -0.0035318471476106783, -0.0017467468627343496], \"text\": null, \"type\": \"scatter\", \"hoverinfo\": \"text\"}, {\"yaxis\": \"y\", \"y\": [45.0, 45.0, 62.5, 62.5], \"xaxis\": \"x\", \"marker\": {\"color\": \"rgb(61,153,112)\"}, \"mode\": \"lines\", \"x\": [-0.0, -0.006507030469552921, -0.006507030469552921, -0.0035318471476106783], \"text\": null, \"type\": \"scatter\", \"hoverinfo\": \"text\"}, {\"yaxis\": \"y\", \"y\": [125.0, 125.0, 135.0, 135.0], \"xaxis\": \"x\", \"marker\": {\"color\": \"rgb(61,153,112)\"}, \"mode\": \"lines\", \"x\": [-0.0, -0.0, -0.0, -0.0], \"text\": null, \"type\": \"scatter\", \"hoverinfo\": \"text\"}, {\"yaxis\": \"y\", \"y\": [115.0, 115.0, 130.0, 130.0], \"xaxis\": \"x\", \"marker\": {\"color\": \"rgb(61,153,112)\"}, \"mode\": \"lines\", \"x\": [-0.0, -0.0, -0.0, -0.0], \"text\": null, \"type\": \"scatter\", \"hoverinfo\": \"text\"}, {\"yaxis\": \"y\", \"y\": [105.0, 105.0, 122.5, 122.5], \"xaxis\": \"x\", \"marker\": {\"color\": \"rgb(61,153,112)\"}, \"mode\": \"lines\", \"x\": [-0.0, -0.0, -0.0, -0.0], \"text\": null, \"type\": \"scatter\", \"hoverinfo\": \"text\"}, {\"yaxis\": \"y\", \"y\": [95.0, 95.0, 113.75, 113.75], \"xaxis\": \"x\", \"marker\": {\"color\": \"rgb(61,153,112)\"}, \"mode\": \"lines\", \"x\": [-0.0, -1.520539250066122e-11, -1.520539250066122e-11, -0.0], \"text\": null, \"type\": \"scatter\", \"hoverinfo\": \"text\"}, {\"yaxis\": \"y\", \"y\": [85.0, 85.0, 104.375, 104.375], \"xaxis\": \"x\", \"marker\": {\"color\": \"rgb(61,153,112)\"}, \"mode\": \"lines\", \"x\": [-0.0, -0.013417456607103317, -0.013417456607103317, -1.520539250066122e-11], \"text\": null, \"type\": \"scatter\", \"hoverinfo\": \"text\"}, {\"yaxis\": \"y\", \"y\": [53.75, 53.75, 94.6875, 94.6875], \"xaxis\": \"x\", \"marker\": {\"color\": \"rgb(61,153,112)\"}, \"mode\": \"lines\", \"x\": [-0.006507030469552921, -0.03282298269122528, -0.03282298269122528, -0.013417456607103317], \"text\": null, \"type\": \"scatter\", \"hoverinfo\": \"text\"}, {\"yaxis\": \"y\", \"y\": [35.0, 35.0, 74.21875, 74.21875], \"xaxis\": \"x\", \"marker\": {\"color\": \"rgb(61,153,112)\"}, \"mode\": \"lines\", \"x\": [-0.0, -0.05886375607561384, -0.05886375607561384, -0.03282298269122528], \"text\": null, \"type\": \"scatter\", \"hoverinfo\": \"text\"}, {\"yaxis\": \"y\", \"y\": [25.0, 25.0, 54.609375, 54.609375], \"xaxis\": \"x\", \"marker\": {\"color\": \"rgb(61,153,112)\"}, \"mode\": \"lines\", \"x\": [-0.0, -0.09439333715640887, -0.09439333715640887, -0.05886375607561384], \"text\": null, \"type\": \"scatter\", \"hoverinfo\": \"text\"}, {\"yaxis\": \"y\", \"y\": [15.0, 15.0, 39.8046875, 39.8046875], \"xaxis\": \"x\", \"marker\": {\"color\": \"rgb(61,153,112)\"}, \"mode\": \"lines\", \"x\": [-0.0, -0.33965020133560236, -0.33965020133560236, -0.09439333715640887], \"text\": null, \"type\": \"scatter\", \"hoverinfo\": \"text\"}, {\"yaxis\": \"y\", \"y\": [5.0, 5.0, 27.40234375, 27.40234375], \"xaxis\": \"x\", \"marker\": {\"color\": \"rgb(0,116,217)\"}, \"mode\": \"lines\", \"x\": [-0.0, -0.8737846505299977, -0.8737846505299977, -0.33965020133560236], \"text\": null, \"type\": \"scatter\", \"hoverinfo\": \"text\"}], {\"yaxis\": {\"ticktext\": [\"mpd_phylogenetic_unweighted\", \"lennon_phylogenetic_unweighted\", \"mnnd_phylogenetic_unweighted\", \"pearson_phylogenetic_unweighted\", \"kulczynski_phylogenetic_unweighted\", \"soergel_phylogenetic_unweighted\", \"weighted_corr_phylogenetic_unweighted\", \"braycurtis_phylogenetic_unweighted\", \"euclidean_phylogenetic_unweighted\", \"tamas_coeff_phylogenetic_unweighted\", \"gower_phylogenetic_unweighted\", \"coeff_similarity_phylogenetic_unweighted\", \"canberra_phylogenetic_unweighted\", \"manhattan_phylogenetic_unweighted\"], \"tickmode\": \"array\", \"tickvals\": [5, 15, 25, 35, 45, 55, 65, 75, 85, 95, 105, 115, 125, 135], \"rangemode\": \"tozero\", \"zeroline\": false, \"showline\": true, \"side\": \"right\", \"type\": \"linear\", \"ticks\": \"outside\", \"showgrid\": false, \"showticklabels\": true, \"mirror\": \"allticks\"}, \"hovermode\": \"closest\", \"height\": 400, \"margin\": {\"r\": 250}, \"width\": 800, \"xaxis\": {\"showgrid\": false, \"mirror\": \"allticks\", \"type\": \"linear\", \"ticks\": \"outside\", \"rangemode\": \"tozero\", \"showticklabels\": true, \"showline\": true, \"zeroline\": false}, \"showlegend\": false, \"autosize\": false}, {\"showLink\": true, \"linkText\": \"Export to plot.ly\"})});</script>"
      ]
     },
     "metadata": {},
     "output_type": "display_data"
    }
   ],
   "source": [
    "plot_dm_dendrogram(filters=[\"_weighted\", \"nonphylogenetic\"],height=400)"
   ]
  },
  {
   "cell_type": "code",
   "execution_count": 29,
   "metadata": {},
   "outputs": [
    {
     "name": "stderr",
     "output_type": "stream",
     "text": [
      "/home/mwhall/anaconda3/envs/qiime2-2018.4/lib/python3.5/site-packages/scipy/stats/stats.py:3021: RuntimeWarning:\n",
      "\n",
      "invalid value encountered in double_scalars\n",
      "\n"
     ]
    },
    {
     "data": {
      "application/vnd.plotly.v1+json": {
       "data": [
        {
         "hoverinfo": "text",
         "marker": {
          "color": "rgb(61,153,112)"
         },
         "mode": "lines",
         "text": null,
         "type": "scatter",
         "x": [
          0,
          0,
          0,
          0
         ],
         "xaxis": "x",
         "y": [
          35,
          35,
          45,
          45
         ],
         "yaxis": "y"
        },
        {
         "hoverinfo": "text",
         "marker": {
          "color": "rgb(61,153,112)"
         },
         "mode": "lines",
         "text": null,
         "type": "scatter",
         "x": [
          0,
          -0.0008538680979031099,
          -0.0008538680979031099,
          0
         ],
         "xaxis": "x",
         "y": [
          25,
          25,
          40,
          40
         ],
         "yaxis": "y"
        },
        {
         "hoverinfo": "text",
         "marker": {
          "color": "rgb(61,153,112)"
         },
         "mode": "lines",
         "text": null,
         "type": "scatter",
         "x": [
          0,
          -0.00498943164687445,
          -0.00498943164687445,
          -0.0008538680979031099
         ],
         "xaxis": "x",
         "y": [
          15,
          15,
          32.5,
          32.5
         ],
         "yaxis": "y"
        },
        {
         "hoverinfo": "text",
         "marker": {
          "color": "rgb(61,153,112)"
         },
         "mode": "lines",
         "text": null,
         "type": "scatter",
         "x": [
          0,
          0,
          0,
          0
         ],
         "xaxis": "x",
         "y": [
          115,
          115,
          125,
          125
         ],
         "yaxis": "y"
        },
        {
         "hoverinfo": "text",
         "marker": {
          "color": "rgb(61,153,112)"
         },
         "mode": "lines",
         "text": null,
         "type": "scatter",
         "x": [
          0,
          0,
          0,
          0
         ],
         "xaxis": "x",
         "y": [
          105,
          105,
          120,
          120
         ],
         "yaxis": "y"
        },
        {
         "hoverinfo": "text",
         "marker": {
          "color": "rgb(61,153,112)"
         },
         "mode": "lines",
         "text": null,
         "type": "scatter",
         "x": [
          0,
          0,
          0,
          0
         ],
         "xaxis": "x",
         "y": [
          95,
          95,
          112.5,
          112.5
         ],
         "yaxis": "y"
        },
        {
         "hoverinfo": "text",
         "marker": {
          "color": "rgb(61,153,112)"
         },
         "mode": "lines",
         "text": null,
         "type": "scatter",
         "x": [
          0,
          -3.105959933691338e-12,
          -3.105959933691338e-12,
          0
         ],
         "xaxis": "x",
         "y": [
          85,
          85,
          103.75,
          103.75
         ],
         "yaxis": "y"
        },
        {
         "hoverinfo": "text",
         "marker": {
          "color": "rgb(61,153,112)"
         },
         "mode": "lines",
         "text": null,
         "type": "scatter",
         "x": [
          0,
          -1.031907892468098e-11,
          -1.031907892468098e-11,
          -3.105959933691338e-12
         ],
         "xaxis": "x",
         "y": [
          75,
          75,
          94.375,
          94.375
         ],
         "yaxis": "y"
        },
        {
         "hoverinfo": "text",
         "marker": {
          "color": "rgb(61,153,112)"
         },
         "mode": "lines",
         "text": null,
         "type": "scatter",
         "x": [
          0,
          -0.0041475476456219,
          -0.0041475476456219,
          -1.031907892468098e-11
         ],
         "xaxis": "x",
         "y": [
          65,
          65,
          84.6875,
          84.6875
         ],
         "yaxis": "y"
        },
        {
         "hoverinfo": "text",
         "marker": {
          "color": "rgb(61,153,112)"
         },
         "mode": "lines",
         "text": null,
         "type": "scatter",
         "x": [
          0,
          -0.006664228965526843,
          -0.006664228965526843,
          -0.0041475476456219
         ],
         "xaxis": "x",
         "y": [
          55,
          55,
          74.84375,
          74.84375
         ],
         "yaxis": "y"
        },
        {
         "hoverinfo": "text",
         "marker": {
          "color": "rgb(61,153,112)"
         },
         "mode": "lines",
         "text": null,
         "type": "scatter",
         "x": [
          -0.00498943164687445,
          -0.032498887901183604,
          -0.032498887901183604,
          -0.006664228965526843
         ],
         "xaxis": "x",
         "y": [
          23.75,
          23.75,
          64.921875,
          64.921875
         ],
         "yaxis": "y"
        },
        {
         "hoverinfo": "text",
         "marker": {
          "color": "rgb(61,153,112)"
         },
         "mode": "lines",
         "text": null,
         "type": "scatter",
         "x": [
          0,
          -0.0325093762185652,
          -0.0325093762185652,
          0
         ],
         "xaxis": "x",
         "y": [
          135,
          135,
          145,
          145
         ],
         "yaxis": "y"
        },
        {
         "hoverinfo": "text",
         "marker": {
          "color": "rgb(61,153,112)"
         },
         "mode": "lines",
         "text": null,
         "type": "scatter",
         "x": [
          -0.032498887901183604,
          -0.06227449918466172,
          -0.06227449918466172,
          -0.0325093762185652
         ],
         "xaxis": "x",
         "y": [
          44.3359375,
          44.3359375,
          140,
          140
         ],
         "yaxis": "y"
        },
        {
         "hoverinfo": "text",
         "marker": {
          "color": "rgb(61,153,112)"
         },
         "mode": "lines",
         "text": null,
         "type": "scatter",
         "x": [
          0,
          -0.0005170426677683082,
          -0.0005170426677683082,
          0
         ],
         "xaxis": "x",
         "y": [
          165,
          165,
          175,
          175
         ],
         "yaxis": "y"
        },
        {
         "hoverinfo": "text",
         "marker": {
          "color": "rgb(61,153,112)"
         },
         "mode": "lines",
         "text": null,
         "type": "scatter",
         "x": [
          0,
          -0.15403747142117163,
          -0.15403747142117163,
          -0.0005170426677683082
         ],
         "xaxis": "x",
         "y": [
          155,
          155,
          170,
          170
         ],
         "yaxis": "y"
        },
        {
         "hoverinfo": "text",
         "marker": {
          "color": "rgb(61,153,112)"
         },
         "mode": "lines",
         "text": null,
         "type": "scatter",
         "x": [
          -0.06227449918466172,
          -0.6986486216593961,
          -0.6986486216593961,
          -0.15403747142117163
         ],
         "xaxis": "x",
         "y": [
          92.16796875,
          92.16796875,
          162.5,
          162.5
         ],
         "yaxis": "y"
        },
        {
         "hoverinfo": "text",
         "marker": {
          "color": "rgb(0,116,217)"
         },
         "mode": "lines",
         "text": null,
         "type": "scatter",
         "x": [
          0,
          -1,
          -1,
          -0.6986486216593961
         ],
         "xaxis": "x",
         "y": [
          5,
          5,
          127.333984375,
          127.333984375
         ],
         "yaxis": "y"
        }
       ],
       "layout": {
        "autosize": false,
        "height": 400,
        "hovermode": "closest",
        "margin": {
         "r": 250
        },
        "showlegend": false,
        "width": 800,
        "xaxis": {
         "mirror": "allticks",
         "rangemode": "tozero",
         "showgrid": false,
         "showline": true,
         "showticklabels": true,
         "ticks": "outside",
         "type": "linear",
         "zeroline": false
        },
        "yaxis": {
         "mirror": "allticks",
         "rangemode": "tozero",
         "showgrid": false,
         "showline": true,
         "showticklabels": true,
         "side": "right",
         "tickmode": "array",
         "ticks": "outside",
         "ticktext": [
          "raohp_nonphylogenetic_weighted",
          "yue_clayton_nonphylogenetic_weighted",
          "morisita_horn_nonphylogenetic_weighted",
          "weighted_corr_nonphylogenetic_weighted",
          "pearson_nonphylogenetic_weighted",
          "euclidean_nonphylogenetic_weighted",
          "soergel_nonphylogenetic_weighted",
          "tamas_coeff_nonphylogenetic_weighted",
          "manhattan_nonphylogenetic_weighted",
          "braycurtis_nonphylogenetic_weighted",
          "kulczynski_nonphylogenetic_weighted",
          "lennon_nonphylogenetic_weighted",
          "whittaker_nonphylogenetic_weighted",
          "hellinger_nonphylogenetic_weighted",
          "chi_squared_nonphylogenetic_weighted",
          "gower_nonphylogenetic_weighted",
          "coeff_similarity_nonphylogenetic_weighted",
          "canberra_nonphylogenetic_weighted"
         ],
         "tickvals": [
          5,
          15,
          25,
          35,
          45,
          55,
          65,
          75,
          85,
          95,
          105,
          115,
          125,
          135,
          145,
          155,
          165,
          175
         ],
         "type": "linear",
         "zeroline": false
        }
       }
      },
      "text/html": [
       "<div id=\"188aa093-a7c0-4ea0-b508-d0eb1d0109d3\" style=\"height: 400px; width: 800px;\" class=\"plotly-graph-div\"></div><script type=\"text/javascript\">require([\"plotly\"], function(Plotly) { window.PLOTLYENV=window.PLOTLYENV || {};window.PLOTLYENV.BASE_URL=\"https://plot.ly\";Plotly.newPlot(\"188aa093-a7c0-4ea0-b508-d0eb1d0109d3\", [{\"yaxis\": \"y\", \"y\": [35.0, 35.0, 45.0, 45.0], \"xaxis\": \"x\", \"marker\": {\"color\": \"rgb(61,153,112)\"}, \"mode\": \"lines\", \"x\": [-0.0, -0.0, -0.0, -0.0], \"text\": null, \"type\": \"scatter\", \"hoverinfo\": \"text\"}, {\"yaxis\": \"y\", \"y\": [25.0, 25.0, 40.0, 40.0], \"xaxis\": \"x\", \"marker\": {\"color\": \"rgb(61,153,112)\"}, \"mode\": \"lines\", \"x\": [-0.0, -0.0008538680979031099, -0.0008538680979031099, -0.0], \"text\": null, \"type\": \"scatter\", \"hoverinfo\": \"text\"}, {\"yaxis\": \"y\", \"y\": [15.0, 15.0, 32.5, 32.5], \"xaxis\": \"x\", \"marker\": {\"color\": \"rgb(61,153,112)\"}, \"mode\": \"lines\", \"x\": [-0.0, -0.00498943164687445, -0.00498943164687445, -0.0008538680979031099], \"text\": null, \"type\": \"scatter\", \"hoverinfo\": \"text\"}, {\"yaxis\": \"y\", \"y\": [115.0, 115.0, 125.0, 125.0], \"xaxis\": \"x\", \"marker\": {\"color\": \"rgb(61,153,112)\"}, \"mode\": \"lines\", \"x\": [-0.0, -0.0, -0.0, -0.0], \"text\": null, \"type\": \"scatter\", \"hoverinfo\": \"text\"}, {\"yaxis\": \"y\", \"y\": [105.0, 105.0, 120.0, 120.0], \"xaxis\": \"x\", \"marker\": {\"color\": \"rgb(61,153,112)\"}, \"mode\": \"lines\", \"x\": [-0.0, -0.0, -0.0, -0.0], \"text\": null, \"type\": \"scatter\", \"hoverinfo\": \"text\"}, {\"yaxis\": \"y\", \"y\": [95.0, 95.0, 112.5, 112.5], \"xaxis\": \"x\", \"marker\": {\"color\": \"rgb(61,153,112)\"}, \"mode\": \"lines\", \"x\": [-0.0, -0.0, -0.0, -0.0], \"text\": null, \"type\": \"scatter\", \"hoverinfo\": \"text\"}, {\"yaxis\": \"y\", \"y\": [85.0, 85.0, 103.75, 103.75], \"xaxis\": \"x\", \"marker\": {\"color\": \"rgb(61,153,112)\"}, \"mode\": \"lines\", \"x\": [-0.0, -3.105959933691338e-12, -3.105959933691338e-12, -0.0], \"text\": null, \"type\": \"scatter\", \"hoverinfo\": \"text\"}, {\"yaxis\": \"y\", \"y\": [75.0, 75.0, 94.375, 94.375], \"xaxis\": \"x\", \"marker\": {\"color\": \"rgb(61,153,112)\"}, \"mode\": \"lines\", \"x\": [-0.0, -1.031907892468098e-11, -1.031907892468098e-11, -3.105959933691338e-12], \"text\": null, \"type\": \"scatter\", \"hoverinfo\": \"text\"}, {\"yaxis\": \"y\", \"y\": [65.0, 65.0, 84.6875, 84.6875], \"xaxis\": \"x\", \"marker\": {\"color\": \"rgb(61,153,112)\"}, \"mode\": \"lines\", \"x\": [-0.0, -0.0041475476456219, -0.0041475476456219, -1.031907892468098e-11], \"text\": null, \"type\": \"scatter\", \"hoverinfo\": \"text\"}, {\"yaxis\": \"y\", \"y\": [55.0, 55.0, 74.84375, 74.84375], \"xaxis\": \"x\", \"marker\": {\"color\": \"rgb(61,153,112)\"}, \"mode\": \"lines\", \"x\": [-0.0, -0.006664228965526843, -0.006664228965526843, -0.0041475476456219], \"text\": null, \"type\": \"scatter\", \"hoverinfo\": \"text\"}, {\"yaxis\": \"y\", \"y\": [23.75, 23.75, 64.921875, 64.921875], \"xaxis\": \"x\", \"marker\": {\"color\": \"rgb(61,153,112)\"}, \"mode\": \"lines\", \"x\": [-0.00498943164687445, -0.032498887901183604, -0.032498887901183604, -0.006664228965526843], \"text\": null, \"type\": \"scatter\", \"hoverinfo\": \"text\"}, {\"yaxis\": \"y\", \"y\": [135.0, 135.0, 145.0, 145.0], \"xaxis\": \"x\", \"marker\": {\"color\": \"rgb(61,153,112)\"}, \"mode\": \"lines\", \"x\": [-0.0, -0.0325093762185652, -0.0325093762185652, -0.0], \"text\": null, \"type\": \"scatter\", \"hoverinfo\": \"text\"}, {\"yaxis\": \"y\", \"y\": [44.3359375, 44.3359375, 140.0, 140.0], \"xaxis\": \"x\", \"marker\": {\"color\": \"rgb(61,153,112)\"}, \"mode\": \"lines\", \"x\": [-0.032498887901183604, -0.06227449918466172, -0.06227449918466172, -0.0325093762185652], \"text\": null, \"type\": \"scatter\", \"hoverinfo\": \"text\"}, {\"yaxis\": \"y\", \"y\": [165.0, 165.0, 175.0, 175.0], \"xaxis\": \"x\", \"marker\": {\"color\": \"rgb(61,153,112)\"}, \"mode\": \"lines\", \"x\": [-0.0, -0.0005170426677683082, -0.0005170426677683082, -0.0], \"text\": null, \"type\": \"scatter\", \"hoverinfo\": \"text\"}, {\"yaxis\": \"y\", \"y\": [155.0, 155.0, 170.0, 170.0], \"xaxis\": \"x\", \"marker\": {\"color\": \"rgb(61,153,112)\"}, \"mode\": \"lines\", \"x\": [-0.0, -0.15403747142117163, -0.15403747142117163, -0.0005170426677683082], \"text\": null, \"type\": \"scatter\", \"hoverinfo\": \"text\"}, {\"yaxis\": \"y\", \"y\": [92.16796875, 92.16796875, 162.5, 162.5], \"xaxis\": \"x\", \"marker\": {\"color\": \"rgb(61,153,112)\"}, \"mode\": \"lines\", \"x\": [-0.06227449918466172, -0.6986486216593961, -0.6986486216593961, -0.15403747142117163], \"text\": null, \"type\": \"scatter\", \"hoverinfo\": \"text\"}, {\"yaxis\": \"y\", \"y\": [5.0, 5.0, 127.333984375, 127.333984375], \"xaxis\": \"x\", \"marker\": {\"color\": \"rgb(0,116,217)\"}, \"mode\": \"lines\", \"x\": [-0.0, -1.0, -1.0, -0.6986486216593961], \"text\": null, \"type\": \"scatter\", \"hoverinfo\": \"text\"}], {\"yaxis\": {\"ticktext\": [\"raohp_nonphylogenetic_weighted\", \"yue_clayton_nonphylogenetic_weighted\", \"morisita_horn_nonphylogenetic_weighted\", \"weighted_corr_nonphylogenetic_weighted\", \"pearson_nonphylogenetic_weighted\", \"euclidean_nonphylogenetic_weighted\", \"soergel_nonphylogenetic_weighted\", \"tamas_coeff_nonphylogenetic_weighted\", \"manhattan_nonphylogenetic_weighted\", \"braycurtis_nonphylogenetic_weighted\", \"kulczynski_nonphylogenetic_weighted\", \"lennon_nonphylogenetic_weighted\", \"whittaker_nonphylogenetic_weighted\", \"hellinger_nonphylogenetic_weighted\", \"chi_squared_nonphylogenetic_weighted\", \"gower_nonphylogenetic_weighted\", \"coeff_similarity_nonphylogenetic_weighted\", \"canberra_nonphylogenetic_weighted\"], \"tickmode\": \"array\", \"tickvals\": [5, 15, 25, 35, 45, 55, 65, 75, 85, 95, 105, 115, 125, 135, 145, 155, 165, 175], \"rangemode\": \"tozero\", \"zeroline\": false, \"showline\": true, \"side\": \"right\", \"type\": \"linear\", \"ticks\": \"outside\", \"showgrid\": false, \"showticklabels\": true, \"mirror\": \"allticks\"}, \"hovermode\": \"closest\", \"height\": 400, \"margin\": {\"r\": 250}, \"width\": 800, \"xaxis\": {\"showgrid\": false, \"mirror\": \"allticks\", \"type\": \"linear\", \"ticks\": \"outside\", \"rangemode\": \"tozero\", \"showticklabels\": true, \"showline\": true, \"zeroline\": false}, \"showlegend\": false, \"autosize\": false}, {\"showLink\": true, \"linkText\": \"Export to plot.ly\"})});</script>"
      ],
      "text/vnd.plotly.v1+html": [
       "<div id=\"188aa093-a7c0-4ea0-b508-d0eb1d0109d3\" style=\"height: 400px; width: 800px;\" class=\"plotly-graph-div\"></div><script type=\"text/javascript\">require([\"plotly\"], function(Plotly) { window.PLOTLYENV=window.PLOTLYENV || {};window.PLOTLYENV.BASE_URL=\"https://plot.ly\";Plotly.newPlot(\"188aa093-a7c0-4ea0-b508-d0eb1d0109d3\", [{\"yaxis\": \"y\", \"y\": [35.0, 35.0, 45.0, 45.0], \"xaxis\": \"x\", \"marker\": {\"color\": \"rgb(61,153,112)\"}, \"mode\": \"lines\", \"x\": [-0.0, -0.0, -0.0, -0.0], \"text\": null, \"type\": \"scatter\", \"hoverinfo\": \"text\"}, {\"yaxis\": \"y\", \"y\": [25.0, 25.0, 40.0, 40.0], \"xaxis\": \"x\", \"marker\": {\"color\": \"rgb(61,153,112)\"}, \"mode\": \"lines\", \"x\": [-0.0, -0.0008538680979031099, -0.0008538680979031099, -0.0], \"text\": null, \"type\": \"scatter\", \"hoverinfo\": \"text\"}, {\"yaxis\": \"y\", \"y\": [15.0, 15.0, 32.5, 32.5], \"xaxis\": \"x\", \"marker\": {\"color\": \"rgb(61,153,112)\"}, \"mode\": \"lines\", \"x\": [-0.0, -0.00498943164687445, -0.00498943164687445, -0.0008538680979031099], \"text\": null, \"type\": \"scatter\", \"hoverinfo\": \"text\"}, {\"yaxis\": \"y\", \"y\": [115.0, 115.0, 125.0, 125.0], \"xaxis\": \"x\", \"marker\": {\"color\": \"rgb(61,153,112)\"}, \"mode\": \"lines\", \"x\": [-0.0, -0.0, -0.0, -0.0], \"text\": null, \"type\": \"scatter\", \"hoverinfo\": \"text\"}, {\"yaxis\": \"y\", \"y\": [105.0, 105.0, 120.0, 120.0], \"xaxis\": \"x\", \"marker\": {\"color\": \"rgb(61,153,112)\"}, \"mode\": \"lines\", \"x\": [-0.0, -0.0, -0.0, -0.0], \"text\": null, \"type\": \"scatter\", \"hoverinfo\": \"text\"}, {\"yaxis\": \"y\", \"y\": [95.0, 95.0, 112.5, 112.5], \"xaxis\": \"x\", \"marker\": {\"color\": \"rgb(61,153,112)\"}, \"mode\": \"lines\", \"x\": [-0.0, -0.0, -0.0, -0.0], \"text\": null, \"type\": \"scatter\", \"hoverinfo\": \"text\"}, {\"yaxis\": \"y\", \"y\": [85.0, 85.0, 103.75, 103.75], \"xaxis\": \"x\", \"marker\": {\"color\": \"rgb(61,153,112)\"}, \"mode\": \"lines\", \"x\": [-0.0, -3.105959933691338e-12, -3.105959933691338e-12, -0.0], \"text\": null, \"type\": \"scatter\", \"hoverinfo\": \"text\"}, {\"yaxis\": \"y\", \"y\": [75.0, 75.0, 94.375, 94.375], \"xaxis\": \"x\", \"marker\": {\"color\": \"rgb(61,153,112)\"}, \"mode\": \"lines\", \"x\": [-0.0, -1.031907892468098e-11, -1.031907892468098e-11, -3.105959933691338e-12], \"text\": null, \"type\": \"scatter\", \"hoverinfo\": \"text\"}, {\"yaxis\": \"y\", \"y\": [65.0, 65.0, 84.6875, 84.6875], \"xaxis\": \"x\", \"marker\": {\"color\": \"rgb(61,153,112)\"}, \"mode\": \"lines\", \"x\": [-0.0, -0.0041475476456219, -0.0041475476456219, -1.031907892468098e-11], \"text\": null, \"type\": \"scatter\", \"hoverinfo\": \"text\"}, {\"yaxis\": \"y\", \"y\": [55.0, 55.0, 74.84375, 74.84375], \"xaxis\": \"x\", \"marker\": {\"color\": \"rgb(61,153,112)\"}, \"mode\": \"lines\", \"x\": [-0.0, -0.006664228965526843, -0.006664228965526843, -0.0041475476456219], \"text\": null, \"type\": \"scatter\", \"hoverinfo\": \"text\"}, {\"yaxis\": \"y\", \"y\": [23.75, 23.75, 64.921875, 64.921875], \"xaxis\": \"x\", \"marker\": {\"color\": \"rgb(61,153,112)\"}, \"mode\": \"lines\", \"x\": [-0.00498943164687445, -0.032498887901183604, -0.032498887901183604, -0.006664228965526843], \"text\": null, \"type\": \"scatter\", \"hoverinfo\": \"text\"}, {\"yaxis\": \"y\", \"y\": [135.0, 135.0, 145.0, 145.0], \"xaxis\": \"x\", \"marker\": {\"color\": \"rgb(61,153,112)\"}, \"mode\": \"lines\", \"x\": [-0.0, -0.0325093762185652, -0.0325093762185652, -0.0], \"text\": null, \"type\": \"scatter\", \"hoverinfo\": \"text\"}, {\"yaxis\": \"y\", \"y\": [44.3359375, 44.3359375, 140.0, 140.0], \"xaxis\": \"x\", \"marker\": {\"color\": \"rgb(61,153,112)\"}, \"mode\": \"lines\", \"x\": [-0.032498887901183604, -0.06227449918466172, -0.06227449918466172, -0.0325093762185652], \"text\": null, \"type\": \"scatter\", \"hoverinfo\": \"text\"}, {\"yaxis\": \"y\", \"y\": [165.0, 165.0, 175.0, 175.0], \"xaxis\": \"x\", \"marker\": {\"color\": \"rgb(61,153,112)\"}, \"mode\": \"lines\", \"x\": [-0.0, -0.0005170426677683082, -0.0005170426677683082, -0.0], \"text\": null, \"type\": \"scatter\", \"hoverinfo\": \"text\"}, {\"yaxis\": \"y\", \"y\": [155.0, 155.0, 170.0, 170.0], \"xaxis\": \"x\", \"marker\": {\"color\": \"rgb(61,153,112)\"}, \"mode\": \"lines\", \"x\": [-0.0, -0.15403747142117163, -0.15403747142117163, -0.0005170426677683082], \"text\": null, \"type\": \"scatter\", \"hoverinfo\": \"text\"}, {\"yaxis\": \"y\", \"y\": [92.16796875, 92.16796875, 162.5, 162.5], \"xaxis\": \"x\", \"marker\": {\"color\": \"rgb(61,153,112)\"}, \"mode\": \"lines\", \"x\": [-0.06227449918466172, -0.6986486216593961, -0.6986486216593961, -0.15403747142117163], \"text\": null, \"type\": \"scatter\", \"hoverinfo\": \"text\"}, {\"yaxis\": \"y\", \"y\": [5.0, 5.0, 127.333984375, 127.333984375], \"xaxis\": \"x\", \"marker\": {\"color\": \"rgb(0,116,217)\"}, \"mode\": \"lines\", \"x\": [-0.0, -1.0, -1.0, -0.6986486216593961], \"text\": null, \"type\": \"scatter\", \"hoverinfo\": \"text\"}], {\"yaxis\": {\"ticktext\": [\"raohp_nonphylogenetic_weighted\", \"yue_clayton_nonphylogenetic_weighted\", \"morisita_horn_nonphylogenetic_weighted\", \"weighted_corr_nonphylogenetic_weighted\", \"pearson_nonphylogenetic_weighted\", \"euclidean_nonphylogenetic_weighted\", \"soergel_nonphylogenetic_weighted\", \"tamas_coeff_nonphylogenetic_weighted\", \"manhattan_nonphylogenetic_weighted\", \"braycurtis_nonphylogenetic_weighted\", \"kulczynski_nonphylogenetic_weighted\", \"lennon_nonphylogenetic_weighted\", \"whittaker_nonphylogenetic_weighted\", \"hellinger_nonphylogenetic_weighted\", \"chi_squared_nonphylogenetic_weighted\", \"gower_nonphylogenetic_weighted\", \"coeff_similarity_nonphylogenetic_weighted\", \"canberra_nonphylogenetic_weighted\"], \"tickmode\": \"array\", \"tickvals\": [5, 15, 25, 35, 45, 55, 65, 75, 85, 95, 105, 115, 125, 135, 145, 155, 165, 175], \"rangemode\": \"tozero\", \"zeroline\": false, \"showline\": true, \"side\": \"right\", \"type\": \"linear\", \"ticks\": \"outside\", \"showgrid\": false, \"showticklabels\": true, \"mirror\": \"allticks\"}, \"hovermode\": \"closest\", \"height\": 400, \"margin\": {\"r\": 250}, \"width\": 800, \"xaxis\": {\"showgrid\": false, \"mirror\": \"allticks\", \"type\": \"linear\", \"ticks\": \"outside\", \"rangemode\": \"tozero\", \"showticklabels\": true, \"showline\": true, \"zeroline\": false}, \"showlegend\": false, \"autosize\": false}, {\"showLink\": true, \"linkText\": \"Export to plot.ly\"})});</script>"
      ]
     },
     "metadata": {},
     "output_type": "display_data"
    }
   ],
   "source": [
    "plot_dm_dendrogram(filters=[\"unweighted\", \"_phylogenetic\"],height=400)"
   ]
  },
  {
   "cell_type": "code",
   "execution_count": 30,
   "metadata": {},
   "outputs": [
    {
     "data": {
      "application/vnd.plotly.v1+json": {
       "data": [
        {
         "hoverinfo": "text",
         "marker": {
          "color": "rgb(61,153,112)"
         },
         "mode": "lines",
         "text": null,
         "type": "scatter",
         "x": [
          0,
          0,
          0,
          0
         ],
         "xaxis": "x",
         "y": [
          55,
          55,
          65,
          65
         ],
         "yaxis": "y"
        },
        {
         "hoverinfo": "text",
         "marker": {
          "color": "rgb(61,153,112)"
         },
         "mode": "lines",
         "text": null,
         "type": "scatter",
         "x": [
          0,
          0,
          0,
          0
         ],
         "xaxis": "x",
         "y": [
          45,
          45,
          60,
          60
         ],
         "yaxis": "y"
        },
        {
         "hoverinfo": "text",
         "marker": {
          "color": "rgb(61,153,112)"
         },
         "mode": "lines",
         "text": null,
         "type": "scatter",
         "x": [
          0,
          0,
          0,
          0
         ],
         "xaxis": "x",
         "y": [
          35,
          35,
          52.5,
          52.5
         ],
         "yaxis": "y"
        },
        {
         "hoverinfo": "text",
         "marker": {
          "color": "rgb(61,153,112)"
         },
         "mode": "lines",
         "text": null,
         "type": "scatter",
         "x": [
          0,
          -3.2083669054827624e-11,
          -3.2083669054827624e-11,
          0
         ],
         "xaxis": "x",
         "y": [
          25,
          25,
          43.75,
          43.75
         ],
         "yaxis": "y"
        },
        {
         "hoverinfo": "text",
         "marker": {
          "color": "rgb(61,153,112)"
         },
         "mode": "lines",
         "text": null,
         "type": "scatter",
         "x": [
          0,
          -0.005748796077032159,
          -0.005748796077032159,
          -3.2083669054827624e-11
         ],
         "xaxis": "x",
         "y": [
          15,
          15,
          34.375,
          34.375
         ],
         "yaxis": "y"
        },
        {
         "hoverinfo": "text",
         "marker": {
          "color": "rgb(61,153,112)"
         },
         "mode": "lines",
         "text": null,
         "type": "scatter",
         "x": [
          0,
          -0.003650214733602608,
          -0.003650214733602608,
          0
         ],
         "xaxis": "x",
         "y": [
          75,
          75,
          85,
          85
         ],
         "yaxis": "y"
        },
        {
         "hoverinfo": "text",
         "marker": {
          "color": "rgb(61,153,112)"
         },
         "mode": "lines",
         "text": null,
         "type": "scatter",
         "x": [
          0,
          0,
          0,
          0
         ],
         "xaxis": "x",
         "y": [
          105,
          105,
          115,
          115
         ],
         "yaxis": "y"
        },
        {
         "hoverinfo": "text",
         "marker": {
          "color": "rgb(61,153,112)"
         },
         "mode": "lines",
         "text": null,
         "type": "scatter",
         "x": [
          0,
          -0.006627368627417418,
          -0.006627368627417418,
          0
         ],
         "xaxis": "x",
         "y": [
          95,
          95,
          110,
          110
         ],
         "yaxis": "y"
        },
        {
         "hoverinfo": "text",
         "marker": {
          "color": "rgb(61,153,112)"
         },
         "mode": "lines",
         "text": null,
         "type": "scatter",
         "x": [
          -0.003650214733602608,
          -0.013002800305711529,
          -0.013002800305711529,
          -0.006627368627417418
         ],
         "xaxis": "x",
         "y": [
          80,
          80,
          102.5,
          102.5
         ],
         "yaxis": "y"
        },
        {
         "hoverinfo": "text",
         "marker": {
          "color": "rgb(61,153,112)"
         },
         "mode": "lines",
         "text": null,
         "type": "scatter",
         "x": [
          -0.005748796077032159,
          -0.1473517053029846,
          -0.1473517053029846,
          -0.013002800305711529
         ],
         "xaxis": "x",
         "y": [
          24.6875,
          24.6875,
          91.25,
          91.25
         ],
         "yaxis": "y"
        },
        {
         "hoverinfo": "text",
         "marker": {
          "color": "rgb(0,116,217)"
         },
         "mode": "lines",
         "text": null,
         "type": "scatter",
         "x": [
          0,
          -0.3359429667967152,
          -0.3359429667967152,
          -0.1473517053029846
         ],
         "xaxis": "x",
         "y": [
          5,
          5,
          57.96875,
          57.96875
         ],
         "yaxis": "y"
        }
       ],
       "layout": {
        "autosize": false,
        "height": 400,
        "hovermode": "closest",
        "margin": {
         "r": 250
        },
        "showlegend": false,
        "width": 800,
        "xaxis": {
         "mirror": "allticks",
         "rangemode": "tozero",
         "showgrid": false,
         "showline": true,
         "showticklabels": true,
         "ticks": "outside",
         "type": "linear",
         "zeroline": false
        },
        "yaxis": {
         "mirror": "allticks",
         "rangemode": "tozero",
         "showgrid": false,
         "showline": true,
         "showticklabels": true,
         "side": "right",
         "tickmode": "array",
         "ticks": "outside",
         "ticktext": [
          "lennon_nonphylogenetic_unweighted",
          "euclidean_nonphylogenetic_unweighted",
          "tamas_coeff_nonphylogenetic_unweighted",
          "gower_nonphylogenetic_unweighted",
          "canberra_nonphylogenetic_unweighted",
          "manhattan_nonphylogenetic_unweighted",
          "coeff_similarity_nonphylogenetic_unweighted",
          "braycurtis_nonphylogenetic_unweighted",
          "soergel_nonphylogenetic_unweighted",
          "kulczynski_nonphylogenetic_unweighted",
          "pearson_nonphylogenetic_unweighted",
          "weighted_corr_nonphylogenetic_unweighted"
         ],
         "tickvals": [
          5,
          15,
          25,
          35,
          45,
          55,
          65,
          75,
          85,
          95,
          105,
          115
         ],
         "type": "linear",
         "zeroline": false
        }
       }
      },
      "text/html": [
       "<div id=\"ce624669-aa33-454f-a778-334a9dca2039\" style=\"height: 400px; width: 800px;\" class=\"plotly-graph-div\"></div><script type=\"text/javascript\">require([\"plotly\"], function(Plotly) { window.PLOTLYENV=window.PLOTLYENV || {};window.PLOTLYENV.BASE_URL=\"https://plot.ly\";Plotly.newPlot(\"ce624669-aa33-454f-a778-334a9dca2039\", [{\"yaxis\": \"y\", \"y\": [55.0, 55.0, 65.0, 65.0], \"xaxis\": \"x\", \"marker\": {\"color\": \"rgb(61,153,112)\"}, \"mode\": \"lines\", \"x\": [-0.0, -0.0, -0.0, -0.0], \"text\": null, \"type\": \"scatter\", \"hoverinfo\": \"text\"}, {\"yaxis\": \"y\", \"y\": [45.0, 45.0, 60.0, 60.0], \"xaxis\": \"x\", \"marker\": {\"color\": \"rgb(61,153,112)\"}, \"mode\": \"lines\", \"x\": [-0.0, -0.0, -0.0, -0.0], \"text\": null, \"type\": \"scatter\", \"hoverinfo\": \"text\"}, {\"yaxis\": \"y\", \"y\": [35.0, 35.0, 52.5, 52.5], \"xaxis\": \"x\", \"marker\": {\"color\": \"rgb(61,153,112)\"}, \"mode\": \"lines\", \"x\": [-0.0, -0.0, -0.0, -0.0], \"text\": null, \"type\": \"scatter\", \"hoverinfo\": \"text\"}, {\"yaxis\": \"y\", \"y\": [25.0, 25.0, 43.75, 43.75], \"xaxis\": \"x\", \"marker\": {\"color\": \"rgb(61,153,112)\"}, \"mode\": \"lines\", \"x\": [-0.0, -3.2083669054827624e-11, -3.2083669054827624e-11, -0.0], \"text\": null, \"type\": \"scatter\", \"hoverinfo\": \"text\"}, {\"yaxis\": \"y\", \"y\": [15.0, 15.0, 34.375, 34.375], \"xaxis\": \"x\", \"marker\": {\"color\": \"rgb(61,153,112)\"}, \"mode\": \"lines\", \"x\": [-0.0, -0.005748796077032159, -0.005748796077032159, -3.2083669054827624e-11], \"text\": null, \"type\": \"scatter\", \"hoverinfo\": \"text\"}, {\"yaxis\": \"y\", \"y\": [75.0, 75.0, 85.0, 85.0], \"xaxis\": \"x\", \"marker\": {\"color\": \"rgb(61,153,112)\"}, \"mode\": \"lines\", \"x\": [-0.0, -0.003650214733602608, -0.003650214733602608, -0.0], \"text\": null, \"type\": \"scatter\", \"hoverinfo\": \"text\"}, {\"yaxis\": \"y\", \"y\": [105.0, 105.0, 115.0, 115.0], \"xaxis\": \"x\", \"marker\": {\"color\": \"rgb(61,153,112)\"}, \"mode\": \"lines\", \"x\": [-0.0, -0.0, -0.0, -0.0], \"text\": null, \"type\": \"scatter\", \"hoverinfo\": \"text\"}, {\"yaxis\": \"y\", \"y\": [95.0, 95.0, 110.0, 110.0], \"xaxis\": \"x\", \"marker\": {\"color\": \"rgb(61,153,112)\"}, \"mode\": \"lines\", \"x\": [-0.0, -0.006627368627417418, -0.006627368627417418, -0.0], \"text\": null, \"type\": \"scatter\", \"hoverinfo\": \"text\"}, {\"yaxis\": \"y\", \"y\": [80.0, 80.0, 102.5, 102.5], \"xaxis\": \"x\", \"marker\": {\"color\": \"rgb(61,153,112)\"}, \"mode\": \"lines\", \"x\": [-0.003650214733602608, -0.013002800305711529, -0.013002800305711529, -0.006627368627417418], \"text\": null, \"type\": \"scatter\", \"hoverinfo\": \"text\"}, {\"yaxis\": \"y\", \"y\": [24.6875, 24.6875, 91.25, 91.25], \"xaxis\": \"x\", \"marker\": {\"color\": \"rgb(61,153,112)\"}, \"mode\": \"lines\", \"x\": [-0.005748796077032159, -0.1473517053029846, -0.1473517053029846, -0.013002800305711529], \"text\": null, \"type\": \"scatter\", \"hoverinfo\": \"text\"}, {\"yaxis\": \"y\", \"y\": [5.0, 5.0, 57.96875, 57.96875], \"xaxis\": \"x\", \"marker\": {\"color\": \"rgb(0,116,217)\"}, \"mode\": \"lines\", \"x\": [-0.0, -0.3359429667967152, -0.3359429667967152, -0.1473517053029846], \"text\": null, \"type\": \"scatter\", \"hoverinfo\": \"text\"}], {\"yaxis\": {\"ticktext\": [\"lennon_nonphylogenetic_unweighted\", \"euclidean_nonphylogenetic_unweighted\", \"tamas_coeff_nonphylogenetic_unweighted\", \"gower_nonphylogenetic_unweighted\", \"canberra_nonphylogenetic_unweighted\", \"manhattan_nonphylogenetic_unweighted\", \"coeff_similarity_nonphylogenetic_unweighted\", \"braycurtis_nonphylogenetic_unweighted\", \"soergel_nonphylogenetic_unweighted\", \"kulczynski_nonphylogenetic_unweighted\", \"pearson_nonphylogenetic_unweighted\", \"weighted_corr_nonphylogenetic_unweighted\"], \"tickmode\": \"array\", \"tickvals\": [5, 15, 25, 35, 45, 55, 65, 75, 85, 95, 105, 115], \"rangemode\": \"tozero\", \"zeroline\": false, \"showline\": true, \"side\": \"right\", \"type\": \"linear\", \"ticks\": \"outside\", \"showgrid\": false, \"showticklabels\": true, \"mirror\": \"allticks\"}, \"hovermode\": \"closest\", \"height\": 400, \"margin\": {\"r\": 250}, \"width\": 800, \"xaxis\": {\"showgrid\": false, \"mirror\": \"allticks\", \"type\": \"linear\", \"ticks\": \"outside\", \"rangemode\": \"tozero\", \"showticklabels\": true, \"showline\": true, \"zeroline\": false}, \"showlegend\": false, \"autosize\": false}, {\"showLink\": true, \"linkText\": \"Export to plot.ly\"})});</script>"
      ],
      "text/vnd.plotly.v1+html": [
       "<div id=\"ce624669-aa33-454f-a778-334a9dca2039\" style=\"height: 400px; width: 800px;\" class=\"plotly-graph-div\"></div><script type=\"text/javascript\">require([\"plotly\"], function(Plotly) { window.PLOTLYENV=window.PLOTLYENV || {};window.PLOTLYENV.BASE_URL=\"https://plot.ly\";Plotly.newPlot(\"ce624669-aa33-454f-a778-334a9dca2039\", [{\"yaxis\": \"y\", \"y\": [55.0, 55.0, 65.0, 65.0], \"xaxis\": \"x\", \"marker\": {\"color\": \"rgb(61,153,112)\"}, \"mode\": \"lines\", \"x\": [-0.0, -0.0, -0.0, -0.0], \"text\": null, \"type\": \"scatter\", \"hoverinfo\": \"text\"}, {\"yaxis\": \"y\", \"y\": [45.0, 45.0, 60.0, 60.0], \"xaxis\": \"x\", \"marker\": {\"color\": \"rgb(61,153,112)\"}, \"mode\": \"lines\", \"x\": [-0.0, -0.0, -0.0, -0.0], \"text\": null, \"type\": \"scatter\", \"hoverinfo\": \"text\"}, {\"yaxis\": \"y\", \"y\": [35.0, 35.0, 52.5, 52.5], \"xaxis\": \"x\", \"marker\": {\"color\": \"rgb(61,153,112)\"}, \"mode\": \"lines\", \"x\": [-0.0, -0.0, -0.0, -0.0], \"text\": null, \"type\": \"scatter\", \"hoverinfo\": \"text\"}, {\"yaxis\": \"y\", \"y\": [25.0, 25.0, 43.75, 43.75], \"xaxis\": \"x\", \"marker\": {\"color\": \"rgb(61,153,112)\"}, \"mode\": \"lines\", \"x\": [-0.0, -3.2083669054827624e-11, -3.2083669054827624e-11, -0.0], \"text\": null, \"type\": \"scatter\", \"hoverinfo\": \"text\"}, {\"yaxis\": \"y\", \"y\": [15.0, 15.0, 34.375, 34.375], \"xaxis\": \"x\", \"marker\": {\"color\": \"rgb(61,153,112)\"}, \"mode\": \"lines\", \"x\": [-0.0, -0.005748796077032159, -0.005748796077032159, -3.2083669054827624e-11], \"text\": null, \"type\": \"scatter\", \"hoverinfo\": \"text\"}, {\"yaxis\": \"y\", \"y\": [75.0, 75.0, 85.0, 85.0], \"xaxis\": \"x\", \"marker\": {\"color\": \"rgb(61,153,112)\"}, \"mode\": \"lines\", \"x\": [-0.0, -0.003650214733602608, -0.003650214733602608, -0.0], \"text\": null, \"type\": \"scatter\", \"hoverinfo\": \"text\"}, {\"yaxis\": \"y\", \"y\": [105.0, 105.0, 115.0, 115.0], \"xaxis\": \"x\", \"marker\": {\"color\": \"rgb(61,153,112)\"}, \"mode\": \"lines\", \"x\": [-0.0, -0.0, -0.0, -0.0], \"text\": null, \"type\": \"scatter\", \"hoverinfo\": \"text\"}, {\"yaxis\": \"y\", \"y\": [95.0, 95.0, 110.0, 110.0], \"xaxis\": \"x\", \"marker\": {\"color\": \"rgb(61,153,112)\"}, \"mode\": \"lines\", \"x\": [-0.0, -0.006627368627417418, -0.006627368627417418, -0.0], \"text\": null, \"type\": \"scatter\", \"hoverinfo\": \"text\"}, {\"yaxis\": \"y\", \"y\": [80.0, 80.0, 102.5, 102.5], \"xaxis\": \"x\", \"marker\": {\"color\": \"rgb(61,153,112)\"}, \"mode\": \"lines\", \"x\": [-0.003650214733602608, -0.013002800305711529, -0.013002800305711529, -0.006627368627417418], \"text\": null, \"type\": \"scatter\", \"hoverinfo\": \"text\"}, {\"yaxis\": \"y\", \"y\": [24.6875, 24.6875, 91.25, 91.25], \"xaxis\": \"x\", \"marker\": {\"color\": \"rgb(61,153,112)\"}, \"mode\": \"lines\", \"x\": [-0.005748796077032159, -0.1473517053029846, -0.1473517053029846, -0.013002800305711529], \"text\": null, \"type\": \"scatter\", \"hoverinfo\": \"text\"}, {\"yaxis\": \"y\", \"y\": [5.0, 5.0, 57.96875, 57.96875], \"xaxis\": \"x\", \"marker\": {\"color\": \"rgb(0,116,217)\"}, \"mode\": \"lines\", \"x\": [-0.0, -0.3359429667967152, -0.3359429667967152, -0.1473517053029846], \"text\": null, \"type\": \"scatter\", \"hoverinfo\": \"text\"}], {\"yaxis\": {\"ticktext\": [\"lennon_nonphylogenetic_unweighted\", \"euclidean_nonphylogenetic_unweighted\", \"tamas_coeff_nonphylogenetic_unweighted\", \"gower_nonphylogenetic_unweighted\", \"canberra_nonphylogenetic_unweighted\", \"manhattan_nonphylogenetic_unweighted\", \"coeff_similarity_nonphylogenetic_unweighted\", \"braycurtis_nonphylogenetic_unweighted\", \"soergel_nonphylogenetic_unweighted\", \"kulczynski_nonphylogenetic_unweighted\", \"pearson_nonphylogenetic_unweighted\", \"weighted_corr_nonphylogenetic_unweighted\"], \"tickmode\": \"array\", \"tickvals\": [5, 15, 25, 35, 45, 55, 65, 75, 85, 95, 105, 115], \"rangemode\": \"tozero\", \"zeroline\": false, \"showline\": true, \"side\": \"right\", \"type\": \"linear\", \"ticks\": \"outside\", \"showgrid\": false, \"showticklabels\": true, \"mirror\": \"allticks\"}, \"hovermode\": \"closest\", \"height\": 400, \"margin\": {\"r\": 250}, \"width\": 800, \"xaxis\": {\"showgrid\": false, \"mirror\": \"allticks\", \"type\": \"linear\", \"ticks\": \"outside\", \"rangemode\": \"tozero\", \"showticklabels\": true, \"showline\": true, \"zeroline\": false}, \"showlegend\": false, \"autosize\": false}, {\"showLink\": true, \"linkText\": \"Export to plot.ly\"})});</script>"
      ]
     },
     "metadata": {},
     "output_type": "display_data"
    }
   ],
   "source": [
    "plot_dm_dendrogram(filters=[\"_weighted\", \"_phylogenetic\"],height=400)"
   ]
  },
  {
   "cell_type": "code",
   "execution_count": null,
   "metadata": {},
   "outputs": [],
   "source": []
  }
 ],
 "metadata": {
  "kernelspec": {
   "display_name": "Environment (conda_qiime2-2018.4)",
   "language": "python",
   "name": "conda_qiime2-2018.4"
  },
  "language_info": {
   "codemirror_mode": {
    "name": "ipython",
    "version": 3
   },
   "file_extension": ".py",
   "mimetype": "text/x-python",
   "name": "python",
   "nbconvert_exporter": "python",
   "pygments_lexer": "ipython3",
   "version": "3.5.5"
  }
 },
 "nbformat": 4,
 "nbformat_minor": 2
}
